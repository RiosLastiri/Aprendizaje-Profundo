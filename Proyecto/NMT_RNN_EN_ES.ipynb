{
 "cells": [
  {
   "cell_type": "code",
   "execution_count": 1,
   "metadata": {
    "colab": {
     "base_uri": "https://localhost:8080/"
    },
    "id": "Mx-tNOTj38yr",
    "outputId": "f07af77c-d5f6-4599-c0a8-ecbfcec150f4"
   },
   "outputs": [
    {
     "name": "stdout",
     "output_type": "stream",
     "text": [
      "Drive already mounted at /content/drive; to attempt to forcibly remount, call drive.mount(\"/content/drive\", force_remount=True).\n"
     ]
    }
   ],
   "source": [
    "from google.colab import drive\n",
    "drive.mount('/content/drive')"
   ]
  },
  {
   "cell_type": "code",
   "execution_count": 2,
   "metadata": {
    "id": "p5-3XkBz32zQ"
   },
   "outputs": [],
   "source": [
    "import torch\n",
    "import torch.nn as nn\n",
    "import torch.optim as optim\n",
    "from torchtext.legacy.data import Field, BucketIterator\n",
    "import spacy\n",
    "import numpy as np\n",
    "import random\n",
    "from tqdm import tqdm\n",
    "from torchtext.legacy import data\n",
    "from termcolor import colored\n",
    "from torchtext.data.metrics import bleu_score\n",
    "import pandas as pd\n",
    "import os\n",
    "from os import path\n",
    "import string\n",
    "from sklearn.model_selection import train_test_split\n",
    "from transformers import BertTokenizer\n",
    "import matplotlib.pyplot as plt"
   ]
  },
  {
   "cell_type": "code",
   "execution_count": 3,
   "metadata": {
    "colab": {
     "base_uri": "https://localhost:8080/"
    },
    "id": "olBo3nVekh4h",
    "outputId": "8eca8f0e-c54f-4295-d659-ef6e5b27a51a"
   },
   "outputs": [
    {
     "name": "stdout",
     "output_type": "stream",
     "text": [
      "cuda\n"
     ]
    }
   ],
   "source": [
    "SEED = 0\n",
    "random.seed(SEED)\n",
    "np.random.seed(SEED)\n",
    "torch.manual_seed(SEED)\n",
    "torch.cuda.manual_seed(SEED)\n",
    "device = torch.device('cuda' if torch.cuda.is_available() else 'cpu')\n",
    "print(device)"
   ]
  },
  {
   "cell_type": "code",
   "execution_count": 1,
   "metadata": {
    "id": "85u0aedR4jIW"
   },
   "outputs": [],
   "source": [
    "root=\"/content/drive/MyDrive/IIMAS/aprendizaje profundo/proyecto\""
   ]
  },
  {
   "cell_type": "markdown",
   "metadata": {},
   "source": [
    "## Exploracion de los datos de los datos"
   ]
  },
  {
   "cell_type": "code",
   "execution_count": 4,
   "metadata": {
    "colab": {
     "base_uri": "https://localhost:8080/",
     "height": 419
    },
    "id": "CPhWezHsgDa1",
    "outputId": "8044a807-f5f1-43e1-82c6-6bef0febfb3e"
   },
   "outputs": [
    {
     "data": {
      "text/html": [
       "<div>\n",
       "<style scoped>\n",
       "    .dataframe tbody tr th:only-of-type {\n",
       "        vertical-align: middle;\n",
       "    }\n",
       "\n",
       "    .dataframe tbody tr th {\n",
       "        vertical-align: top;\n",
       "    }\n",
       "\n",
       "    .dataframe thead th {\n",
       "        text-align: right;\n",
       "    }\n",
       "</style>\n",
       "<table border=\"1\" class=\"dataframe\">\n",
       "  <thead>\n",
       "    <tr style=\"text-align: right;\">\n",
       "      <th></th>\n",
       "      <th>English</th>\n",
       "      <th>Spanish</th>\n",
       "    </tr>\n",
       "  </thead>\n",
       "  <tbody>\n",
       "    <tr>\n",
       "      <th>0</th>\n",
       "      <td>Who's hiding behind the curtain?</td>\n",
       "      <td>¿Quién se esconde tras la cortina?</td>\n",
       "    </tr>\n",
       "    <tr>\n",
       "      <th>1</th>\n",
       "      <td>Stop deluding yourself.</td>\n",
       "      <td>Deja de engañarte a ti mismo.</td>\n",
       "    </tr>\n",
       "    <tr>\n",
       "      <th>2</th>\n",
       "      <td>Suddenly, she stopped and looked around.</td>\n",
       "      <td>Repentinamente, se detuvo y miró alrededor.</td>\n",
       "    </tr>\n",
       "    <tr>\n",
       "      <th>3</th>\n",
       "      <td>Tom, do you love me?</td>\n",
       "      <td>Tom, ¿tú me quieres?</td>\n",
       "    </tr>\n",
       "    <tr>\n",
       "      <th>4</th>\n",
       "      <td>Is there life in outer space?</td>\n",
       "      <td>¿Hay vida en el espacio?</td>\n",
       "    </tr>\n",
       "    <tr>\n",
       "      <th>...</th>\n",
       "      <td>...</td>\n",
       "      <td>...</td>\n",
       "    </tr>\n",
       "    <tr>\n",
       "      <th>128079</th>\n",
       "      <td>That applies to him too.</td>\n",
       "      <td>Eso aplica para él también.</td>\n",
       "    </tr>\n",
       "    <tr>\n",
       "      <th>128080</th>\n",
       "      <td>Keep talking.</td>\n",
       "      <td>Continúe hablando.</td>\n",
       "    </tr>\n",
       "    <tr>\n",
       "      <th>128081</th>\n",
       "      <td>I felt that the plan was unwise.</td>\n",
       "      <td>Me di cuenta de que el plan no era sensato.</td>\n",
       "    </tr>\n",
       "    <tr>\n",
       "      <th>128082</th>\n",
       "      <td>Would you like to contribute to the program?</td>\n",
       "      <td>¿Desea contribuir al programa?</td>\n",
       "    </tr>\n",
       "    <tr>\n",
       "      <th>128083</th>\n",
       "      <td>I lingered.</td>\n",
       "      <td>Me quedé.</td>\n",
       "    </tr>\n",
       "  </tbody>\n",
       "</table>\n",
       "<p>128084 rows × 2 columns</p>\n",
       "</div>"
      ],
      "text/plain": [
       "                                             English  \\\n",
       "0                   Who's hiding behind the curtain?   \n",
       "1                            Stop deluding yourself.   \n",
       "2           Suddenly, she stopped and looked around.   \n",
       "3                               Tom, do you love me?   \n",
       "4                      Is there life in outer space?   \n",
       "...                                              ...   \n",
       "128079                      That applies to him too.   \n",
       "128080                                 Keep talking.   \n",
       "128081              I felt that the plan was unwise.   \n",
       "128082  Would you like to contribute to the program?   \n",
       "128083                                   I lingered.   \n",
       "\n",
       "                                            Spanish  \n",
       "0                ¿Quién se esconde tras la cortina?  \n",
       "1                     Deja de engañarte a ti mismo.  \n",
       "2       Repentinamente, se detuvo y miró alrededor.  \n",
       "3                              Tom, ¿tú me quieres?  \n",
       "4                          ¿Hay vida en el espacio?  \n",
       "...                                             ...  \n",
       "128079                  Eso aplica para él también.  \n",
       "128080                           Continúe hablando.  \n",
       "128081  Me di cuenta de que el plan no era sensato.  \n",
       "128082               ¿Desea contribuir al programa?  \n",
       "128083                                    Me quedé.  \n",
       "\n",
       "[128084 rows x 2 columns]"
      ]
     },
     "execution_count": 4,
     "metadata": {},
     "output_type": "execute_result"
    }
   ],
   "source": [
    "df=pd.read_csv(path.join(root,\"spa.txt\"),sep=\"\\t\", header=None)\n",
    "df.drop(2,inplace=True,axis=1)\n",
    "df.dropna(inplace=True)\n",
    "df.columns=[\"English\",\"Spanish\"]\n",
    "df= df.sample(frac=1).reset_index(drop=True)\n",
    "df"
   ]
  },
  {
   "cell_type": "code",
   "execution_count": 5,
   "metadata": {
    "id": "2os890cYNO7R"
   },
   "outputs": [],
   "source": [
    "import re\n",
    "WORD = re.compile(r'\\w+')\n",
    "def tokenizer(text):\n",
    "    return  WORD.findall(text.lower())"
   ]
  },
  {
   "cell_type": "code",
   "execution_count": 6,
   "metadata": {
    "id": "l1UcwyZmN042"
   },
   "outputs": [],
   "source": [
    "import matplotlib.pyplot as plt"
   ]
  },
  {
   "cell_type": "code",
   "execution_count": 11,
   "metadata": {},
   "outputs": [],
   "source": [
    "en=df[\"English\"].apply(lambda x: len(tokenizer(x)))\n",
    "es=df[\"Spanish\"].apply(lambda x: len(tokenizer(x)))"
   ]
  },
  {
   "cell_type": "code",
   "execution_count": 17,
   "metadata": {},
   "outputs": [
    {
     "data": {
      "text/plain": [
       "Text(0.5, 1.0, 'English')"
      ]
     },
     "execution_count": 17,
     "metadata": {},
     "output_type": "execute_result"
    },
    {
     "data": {
      "image/png": "[encoded data removed]",
      "text/plain": [
       "<Figure size 432x288 with 1 Axes>"
      ]
     },
     "metadata": {
      "needs_background": "light"
     },
     "output_type": "display_data"
    }
   ],
   "source": [
    "en.hist()\n",
    "plt.title(\"English\")"
   ]
  },
  {
   "cell_type": "code",
   "execution_count": 18,
   "metadata": {},
   "outputs": [
    {
     "data": {
      "text/plain": [
       "Text(0.5, 1.0, 'Spanish')"
      ]
     },
     "execution_count": 18,
     "metadata": {},
     "output_type": "execute_result"
    },
    {
     "data": {
      "image/png": "[encoded data removed]",
      "text/plain": [
       "<Figure size 432x288 with 1 Axes>"
      ]
     },
     "metadata": {
      "needs_background": "light"
     },
     "output_type": "display_data"
    }
   ],
   "source": [
    "es.hist()\n",
    "plt.title(\"Spanish\")"
   ]
  },
  {
   "cell_type": "markdown",
   "metadata": {},
   "source": [
    "## Limpieza y preprocesamiento"
   ]
  },
  {
   "cell_type": "code",
   "execution_count": 9,
   "metadata": {
    "id": "dCIGpMgIiN4_"
   },
   "outputs": [],
   "source": [
    "def clean(doc):\n",
    "    exclude = set(string.punctuation + '¡' + '¿') \n",
    "    doc = doc.lower()\n",
    "    doc = doc.replace(\"i'm\", \"i am\")\n",
    "    doc = doc.replace(\"you're\", \"you are\")\n",
    "    doc = doc.replace(\"he's\", \"he is\")\n",
    "    doc = doc.replace(\"it's\", \"it is\")\n",
    "    doc = doc.replace(\"she's\", \"she is\")\n",
    "    doc = doc.replace(\"we're\", \"we are\")\n",
    "    doc = doc.replace(\"'ve\", \" have\")\n",
    "    doc = doc.replace(\"'d\", \" would\")\n",
    "    doc = doc.replace(\"don't\", \"do not\")\n",
    "    doc = doc.replace(\"didn't\", \"did not\")\n",
    "    doc = doc.replace(\"doesn't\", \"does not\")\n",
    "    doc = doc.replace(\"'ll\", \" will\")\n",
    "    doc = doc.replace(\"won't\", \" will not\")\n",
    "    doc = doc.replace(\"what's\", \" what is\")\n",
    "    doc = doc.replace(\"shouldn't\", \" should not\")\n",
    "    doc = doc.replace(\"isn't\", \" is not\")\n",
    "    doc = doc.replace(\"aren't\", \" are not\")\n",
    "    doc = doc.replace(\"wouldn't\", \"would not\")\n",
    "    doc = doc.replace(\"couldn't\", \"could not\")\n",
    "    doc = doc.replace(\"there's\", \"there is\")\n",
    "    doc = doc.replace(\"that's\", \"that is\")\n",
    "    doc = doc.replace(\"hasn't\", \"has not\")\n",
    "    doc = doc.replace(\"haven't\", \"have not\")\n",
    "    punc_free = ''.join(ch for ch in doc if ch not in exclude)\n",
    "    return punc_free"
   ]
  },
  {
   "cell_type": "code",
   "execution_count": 10,
   "metadata": {
    "colab": {
     "base_uri": "https://localhost:8080/",
     "height": 419
    },
    "id": "n_8Lv9L5gMek",
    "outputId": "ce28531d-ad8e-4268-dee3-488e2ed72733"
   },
   "outputs": [
    {
     "data": {
      "text/html": [
       "<div>\n",
       "<style scoped>\n",
       "    .dataframe tbody tr th:only-of-type {\n",
       "        vertical-align: middle;\n",
       "    }\n",
       "\n",
       "    .dataframe tbody tr th {\n",
       "        vertical-align: top;\n",
       "    }\n",
       "\n",
       "    .dataframe thead th {\n",
       "        text-align: right;\n",
       "    }\n",
       "</style>\n",
       "<table border=\"1\" class=\"dataframe\">\n",
       "  <thead>\n",
       "    <tr style=\"text-align: right;\">\n",
       "      <th></th>\n",
       "      <th>English</th>\n",
       "      <th>Spanish</th>\n",
       "    </tr>\n",
       "  </thead>\n",
       "  <tbody>\n",
       "    <tr>\n",
       "      <th>0</th>\n",
       "      <td>i liked your idea and adopted it</td>\n",
       "      <td>me gustó tu idea y la adopté</td>\n",
       "    </tr>\n",
       "    <tr>\n",
       "      <th>1</th>\n",
       "      <td>tom is very upset about this</td>\n",
       "      <td>tom está muy disgustado por esto</td>\n",
       "    </tr>\n",
       "    <tr>\n",
       "      <th>2</th>\n",
       "      <td>would you please take my picture</td>\n",
       "      <td>podría sacarme una foto por favor</td>\n",
       "    </tr>\n",
       "    <tr>\n",
       "      <th>3</th>\n",
       "      <td>he is one of my neighbours</td>\n",
       "      <td>él es uno de mis vecinos</td>\n",
       "    </tr>\n",
       "    <tr>\n",
       "      <th>4</th>\n",
       "      <td>he looks as if he had been ill</td>\n",
       "      <td>parece como si hubiese estado enfermo</td>\n",
       "    </tr>\n",
       "    <tr>\n",
       "      <th>...</th>\n",
       "      <td>...</td>\n",
       "      <td>...</td>\n",
       "    </tr>\n",
       "    <tr>\n",
       "      <th>128079</th>\n",
       "      <td>the lady remained silent</td>\n",
       "      <td>la dama se quedó callada</td>\n",
       "    </tr>\n",
       "    <tr>\n",
       "      <th>128080</th>\n",
       "      <td>we would like to distribute your product in japan</td>\n",
       "      <td>nos gustaría distribuir su producto en japón</td>\n",
       "    </tr>\n",
       "    <tr>\n",
       "      <th>128081</th>\n",
       "      <td>you can start right now</td>\n",
       "      <td>puede empezar ahora mismo</td>\n",
       "    </tr>\n",
       "    <tr>\n",
       "      <th>128082</th>\n",
       "      <td>he knows a lot of people</td>\n",
       "      <td>él conoce a mucha gente</td>\n",
       "    </tr>\n",
       "    <tr>\n",
       "      <th>128083</th>\n",
       "      <td>they wrote that song together</td>\n",
       "      <td>ellos escribieron juntos esa canción</td>\n",
       "    </tr>\n",
       "  </tbody>\n",
       "</table>\n",
       "<p>128084 rows × 2 columns</p>\n",
       "</div>"
      ],
      "text/plain": [
       "                                                  English                                       Spanish\n",
       "0                        i liked your idea and adopted it                  me gustó tu idea y la adopté\n",
       "1                            tom is very upset about this              tom está muy disgustado por esto\n",
       "2                        would you please take my picture             podría sacarme una foto por favor\n",
       "3                              he is one of my neighbours                      él es uno de mis vecinos\n",
       "4                          he looks as if he had been ill         parece como si hubiese estado enfermo\n",
       "...                                                   ...                                           ...\n",
       "128079                           the lady remained silent                      la dama se quedó callada\n",
       "128080  we would like to distribute your product in japan  nos gustaría distribuir su producto en japón\n",
       "128081                            you can start right now                     puede empezar ahora mismo\n",
       "128082                           he knows a lot of people                       él conoce a mucha gente\n",
       "128083                      they wrote that song together          ellos escribieron juntos esa canción\n",
       "\n",
       "[128084 rows x 2 columns]"
      ]
     },
     "execution_count": 10,
     "metadata": {
      "tags": []
     },
     "output_type": "execute_result"
    }
   ],
   "source": [
    "df[\"English\"]= df[\"English\"].apply(clean)\n",
    "df[\"Spanish\"]= df[\"Spanish\"].apply(clean)\n",
    "df"
   ]
  },
  {
   "cell_type": "code",
   "execution_count": 11,
   "metadata": {
    "colab": {
     "base_uri": "https://localhost:8080/"
    },
    "id": "gsjtccwIi3rP",
    "outputId": "127a1130-11a1-4372-b21c-273162982fb6"
   },
   "outputs": [
    {
     "name": "stdout",
     "output_type": "stream",
     "text": [
      "(114376, 2)\n",
      "(12709, 2)\n",
      "(1000, 2)\n"
     ]
    }
   ],
   "source": [
    "test_size=1000\n",
    "test_data=df.loc[:test_size-1]\n",
    "train_data, valid_data = train_test_split(df[test_size-1:], test_size=0.1, shuffle=True, random_state=28)\n",
    "\n",
    "print(train_data.shape)\n",
    "print(valid_data.shape)\n",
    "print(test_data.shape)\n",
    "\n",
    "test_data.to_csv(path.join(root, \"test.csv\"),index=False)\n",
    "train_data.to_csv(path.join(root, \"train.csv\"),index=False)\n",
    "valid_data.to_csv(path.join(root, \"valid.csv\"),index=False)"
   ]
  },
  {
   "cell_type": "markdown",
   "metadata": {},
   "source": [
    "## Carga de los datos a torchtext"
   ]
  },
  {
   "cell_type": "code",
   "execution_count": 6,
   "metadata": {
    "id": "eZG0dEXxuRa_"
   },
   "outputs": [],
   "source": [
    "def get_datasets(batch_size=128, embedding=False):\n",
    "    # Create the pytext's Field\n",
    "\n",
    "    source = Field(tokenize=tokenizer, init_token='<sos>', eos_token='<eos>', lower=True)\n",
    "    target = Field(tokenize=tokenizer, init_token='<sos>', eos_token='<eos>', lower=True)\n",
    "\n",
    "    # Splits the data in Train, Test and Validation data\n",
    "    fields = [('src', source), ('trg', target)]\n",
    "    train_data, valid_data, test_data = data.TabularDataset.splits(\n",
    "                                        path = root,\n",
    "                                        train = 'train.csv',\n",
    "                                        validation = 'valid.csv',\n",
    "                                        test = 'test.csv',\n",
    "                                        format = 'csv',\n",
    "                                        fields = fields,\n",
    "                                        skip_header = True)\n",
    "    # Build the vocabulary for both the language\n",
    "\n",
    "    if not embedding:\n",
    "      source.build_vocab(train_data)\n",
    "      target.build_vocab(train_data)     \n",
    "    else:\n",
    "      #\"glove.42B.300d\", 'glove.6B.100d'\n",
    "      source.build_vocab(train_data,vectors=embedding,unk_init=torch.Tensor.normal_)\n",
    "      target.build_vocab(train_data,vectors=embedding,unk_init=torch.Tensor.normal_)\n",
    "\n",
    "    # Create the Iterator using builtin Bucketing\n",
    "    train_iterator, valid_iterator, test_iterator = BucketIterator.splits((train_data, valid_data, test_data),\n",
    "                                                                          batch_size=batch_size,\n",
    "                                                                          sort_within_batch=True,\n",
    "                                                                          sort_key=lambda x: len(x.src),\n",
    "                                                                          device=device)\n",
    "    return train_iterator, valid_iterator, test_iterator, source, target"
   ]
  },
  {
   "cell_type": "markdown",
   "metadata": {},
   "source": [
    "## Modelo Seq2Seq"
   ]
  },
  {
   "cell_type": "code",
   "execution_count": 7,
   "metadata": {
    "id": "o0y8u2I_d3Qo"
   },
   "outputs": [],
   "source": [
    "class Encoder(nn.Module):\n",
    "    def __init__(self, vocab_len, embedding_dim, hidden_dim, n_layers, dropout_prob):\n",
    "        super().__init__()\n",
    "        self.embedding = nn.Embedding(vocab_len, embedding_dim)\n",
    "        self.rnn = nn.LSTM(embedding_dim, hidden_dim, n_layers, dropout=dropout_prob)\n",
    "        self.dropout = nn.Dropout(dropout_prob)\n",
    "\n",
    "    def forward(self, input_batch):\n",
    "        embed = self.dropout(self.embedding(input_batch))\n",
    "        outputs, (hidden, cell) = self.rnn(embed)\n",
    "        return hidden, cell\n",
    "\n",
    "class OneStepDecoder(nn.Module):\n",
    "    def __init__(self, input_output_dim, embedding_dim, hidden_dim, n_layers, dropout_prob):\n",
    "        super().__init__()\n",
    "        self.input_output_dim = input_output_dim\n",
    "        self.embedding = nn.Embedding(input_output_dim, embedding_dim)\n",
    "        self.rnn = nn.LSTM(embedding_dim, hidden_dim, n_layers, dropout=dropout_prob)\n",
    "        self.fc = nn.Linear(hidden_dim, input_output_dim)\n",
    "        self.dropout = nn.Dropout(dropout_prob)\n",
    "\n",
    "    def forward(self, target_token, hidden, cell):\n",
    "        target_token = target_token.unsqueeze(0)\n",
    "        embedding_layer = self.dropout(self.embedding(target_token))\n",
    "        output, (hidden, cell) = self.rnn(embedding_layer, (hidden, cell))\n",
    "        linear = self.fc(output.squeeze(0))\n",
    "        return linear, hidden, cell\n",
    "\n",
    "\n",
    "class Decoder(nn.Module):\n",
    "    def __init__(self, one_step_decoder, device):\n",
    "        super().__init__()\n",
    "        self.one_step_decoder = one_step_decoder\n",
    "        self.device = device\n",
    "\n",
    "    def forward(self, target, hidden, cell, teacher_forcing_ratio=0.5):\n",
    "        target_len, batch_size = target.shape[0], target.shape[1]\n",
    "        target_vocab_size = self.one_step_decoder.input_output_dim\n",
    "        predictions = torch.zeros(target_len, batch_size, target_vocab_size).to(self.device)\n",
    "        input = target[0, :]\n",
    "\n",
    "        for t in range(1, target_len):\n",
    "            predict, hidden, cell = self.one_step_decoder(input, hidden, cell)\n",
    "\n",
    "            predictions[t] = predict\n",
    "            input = predict.argmax(1)\n",
    "\n",
    "            # Teacher forcing\n",
    "            do_teacher_forcing = random.random() < teacher_forcing_ratio\n",
    "            input = target[t] if do_teacher_forcing else input\n",
    "\n",
    "        return predictions\n",
    "\n",
    "\n",
    "class EncoderDecoder(nn.Module):\n",
    "    def __init__(self, encoder, decoder):\n",
    "        super().__init__()\n",
    "\n",
    "        self.encoder = encoder\n",
    "        self.decoder = decoder\n",
    "\n",
    "    def forward(self, source, target, teacher_forcing_ratio=0.5):\n",
    "        hidden, cell = self.encoder(source)\n",
    "        outputs = self.decoder(target, hidden, cell, teacher_forcing_ratio)\n",
    "        return outputs"
   ]
  },
  {
   "cell_type": "markdown",
   "metadata": {},
   "source": [
    "## Funciones para el entrenamiento"
   ]
  },
  {
   "cell_type": "code",
   "execution_count": 8,
   "metadata": {
    "id": "BsxPFSCj32zV"
   },
   "outputs": [],
   "source": [
    "def create_model(source, target):    \n",
    "    encoder = Encoder(len(source.vocab), embedding_dim, hidden_dim, n_layers=layers, dropout_prob=dropout)\n",
    "    one_step_decoder = OneStepDecoder(len(target.vocab), embedding_dim, hidden_dim, n_layers=layers, dropout_prob=dropout)\n",
    "    decoder = Decoder(one_step_decoder, device)\n",
    "\n",
    "    model = EncoderDecoder(encoder, decoder)\n",
    "    model = model.to(device)\n",
    "\n",
    "    optimizer = optim.Adam(model.parameters())\n",
    "\n",
    "    TARGET_PAD_IDX = target.vocab.stoi[target.pad_token]\n",
    "    criterion = nn.CrossEntropyLoss(ignore_index=TARGET_PAD_IDX)\n",
    "\n",
    "    return model, optimizer, criterion\n",
    "\n",
    "\n",
    "def train(train_iterator, valid_iterator, source, target, save, epochs):\n",
    "    train_loss_values=[]\n",
    "    val_loss_values=[]\n",
    "    best_epoch=np.Inf\n",
    "    model, optimizer, criterion = create_model(source, target)\n",
    "    clip = 1\n",
    "\n",
    "    for epoch in range(1, epochs + 1):\n",
    "        pbar = tqdm(total=len(train_iterator), bar_format='{l_bar}{bar:10}{r_bar}{bar:-10b}', unit=' batches', ncols=200)\n",
    "\n",
    "        training_loss = []\n",
    "        model.train()\n",
    "\n",
    "        for i, batch in enumerate(train_iterator):\n",
    "            src = batch.src\n",
    "            trg = batch.trg\n",
    "\n",
    "            optimizer.zero_grad()\n",
    "\n",
    "            output = model(src, trg)\n",
    "\n",
    "  \n",
    "            output_dim = output.shape[-1]\n",
    "\n",
    "            output = output[1:].view(-1, output_dim)\n",
    "\n",
    "            trg = trg[1:].view(-1)\n",
    "\n",
    "            loss = criterion(output, trg)\n",
    "\n",
    "            loss.backward()\n",
    "\n",
    "            torch.nn.utils.clip_grad_norm_(model.parameters(), clip)\n",
    "\n",
    "            optimizer.step()\n",
    "\n",
    "            training_loss.append(loss.item())\n",
    "\n",
    "            pbar.set_postfix(\n",
    "                epoch=f\" {epoch}, train loss= {round(sum(training_loss) / len(training_loss), 4)}\", refresh=True)\n",
    "            pbar.update()\n",
    "\n",
    "        with torch.no_grad():\n",
    "            model.eval()\n",
    "\n",
    "            validation_loss = []\n",
    "\n",
    "            for i, batch in enumerate(valid_iterator):\n",
    "                src = batch.src\n",
    "                trg = batch.trg\n",
    "\n",
    "                output = model(src, trg, 0)\n",
    "\n",
    "                output_dim = output.shape[-1]\n",
    "\n",
    "                output = output[1:].view(-1, output_dim)\n",
    "                trg = trg[1:].view(-1)\n",
    "\n",
    "                loss = criterion(output, trg)\n",
    "\n",
    "                validation_loss.append(loss.item())\n",
    "\n",
    "        total_train_loss=round(sum(training_loss) / len(training_loss), 4)\n",
    "        total_val_loss=round(sum(validation_loss) / len(validation_loss), 4)\n",
    "        train_loss_values.append(total_train_loss)\n",
    "        val_loss_values.append(total_val_loss)\n",
    "\n",
    "        pbar.set_postfix(\n",
    "            epoch=f\" {epoch}, train loss= {total_train_loss}, val loss= {total_val_loss}\", refresh=False)\n",
    "        pbar.close()\n",
    "\n",
    "        if total_val_loss<best_epoch:\n",
    "          best_epoch=total_val_loss\n",
    "          checkpoint = {\n",
    "              'model_state_dict': model.state_dict(),\n",
    "              'source': source.vocab,\n",
    "              'target': target.vocab}\n",
    "        torch.save(checkpoint, path.join(root,\"models\",save))\n",
    "        \n",
    "    #Graficamos las perdidas\n",
    "    plt.plot(train_loss_values,label=\"Train\")\n",
    "    plt.plot(val_loss_values,label=\"Val\")\n",
    "    plt.legend()\n",
    "    plt.xticks(list(range(epochs)),list(range(1,epochs+1)))\n",
    "    plt.xlabel('Epoch')\n",
    "    plt.ylabel('Loss')\n",
    "    plt.show()\n",
    "    plot=pd.DataFrame({\"Train\":train_loss_values,\"Val\":val_loss_values})\n",
    "    plot.to_csv(path.join(root,f\"Losses_{save}\"),index=False)\n",
    "    return model"
   ]
  },
  {
   "cell_type": "markdown",
   "metadata": {
    "id": "SrT7fOi76_cy"
   },
   "source": [
    "## Funciones para la inferencia"
   ]
  },
  {
   "cell_type": "code",
   "execution_count": 9,
   "metadata": {
    "id": "EzJ9i0E832zZ"
   },
   "outputs": [],
   "source": [
    "def get_test_datasets(batch_size=128):\n",
    "\n",
    "    source = Field(tokenize=tokenizer, init_token='<sos>', eos_token='<eos>', lower=True)\n",
    "    target = Field(tokenize=tokenizer, init_token='<sos>', eos_token='<eos>', lower=True)\n",
    "\n",
    "    fields = [('src', source), ('trg', target)]\n",
    "    test_data = data.TabularDataset(\n",
    "                                    path = path.join(root,\"test.csv\"),\n",
    "                                    fields = fields,\n",
    "                                    format = 'csv',\n",
    "                                    skip_header = True)\n",
    "    return test_data\n",
    "\n",
    "\n",
    "def create_model_for_inference(source_vocab, target_vocab):\n",
    "\n",
    "    # Instanciate the models\n",
    "    encoder = Encoder(len(source_vocab), embedding_dim, hidden_dim, n_layers=layers, dropout_prob=dropout)\n",
    "\n",
    "    one_step_decoder = OneStepDecoder(len(target_vocab), embedding_dim, hidden_dim, n_layers=layers, dropout_prob=dropout)\n",
    "    decoder = Decoder(one_step_decoder, device)\n",
    "\n",
    "    model = EncoderDecoder(encoder, decoder)\n",
    "    model = model.to(device)\n",
    "\n",
    "    return model\n",
    "\n",
    "\n",
    "def load_models_and_test_data(file_name):\n",
    "    test_data = get_test_datasets()\n",
    "    checkpoint = torch.load(path.join(root,\"models\",file_name))\n",
    "    source_vocab = checkpoint['source']\n",
    "    target_vocab = checkpoint['target']\n",
    "    model = create_model_for_inference(source_vocab, target_vocab)\n",
    "    model.load_state_dict(checkpoint['model_state_dict'])\n",
    "\n",
    "    return model, source_vocab, target_vocab, test_data\n",
    "\n",
    "\n",
    "def predict(id, model, source_vocab, target_vocab, test_data, debug=False):\n",
    "    # src = vars(test_data.examples[id])['src']\n",
    "    # trg = vars(test_data.examples[id])['trg']\n",
    "    src = vars(test_data[id])['src']\n",
    "    trg = vars(test_data[id])['trg']\n",
    "\n",
    "    # Convert each source token to integer values using the vocabulary\n",
    "    tokens = ['<sos>'] + [token.lower() for token in src] + ['<eos>']\n",
    "    src_indexes = [source_vocab.stoi[token] for token in tokens]\n",
    "    src_tensor = torch.LongTensor(src_indexes).unsqueeze(1).to(device)\n",
    "\n",
    "    model.eval()\n",
    "\n",
    "    # Run the forward pass of the encoder\n",
    "    hidden, cell = model.encoder(src_tensor)\n",
    "\n",
    "    # Take the integer value of <sos> from the target vocabulary.\n",
    "    trg_index = [target_vocab.stoi['<sos>']]\n",
    "    next_token = torch.LongTensor(trg_index).to(device)\n",
    "\n",
    "    outputs = []\n",
    "    trg_indexes = []\n",
    "\n",
    "    with torch.no_grad():\n",
    "        # Use the hidden and cell vector of the Encoder and in loop\n",
    "        # run the forward pass of the OneStepDecoder until some specified\n",
    "        # step (say 50) or when <eos> has been generated by the model.\n",
    "        for _ in range(30):\n",
    "            output, hidden, cell = model.decoder.one_step_decoder(next_token, hidden, cell)\n",
    "\n",
    "            # Take the most probable word\n",
    "            next_token = output.argmax(1)\n",
    "\n",
    "            trg_indexes.append(next_token.item())\n",
    "\n",
    "            predicted = target_vocab.itos[output.argmax(1).item()]\n",
    "            if predicted == '<eos>':\n",
    "                break\n",
    "            else:\n",
    "                outputs.append(predicted)\n",
    "    if debug:\n",
    "        print(f\"\\nSource          =\",\" \".join(src) )\n",
    "        print(colored(f'Ground Truth    = {\" \".join(trg)}', 'green'))\n",
    "        print(colored(f'Predicted Label = {\" \".join(outputs)}', 'red'))\n",
    "\n",
    "    predicted_words = [target_vocab.itos[i] for i in trg_indexes]\n",
    "    return predicted_words\n",
    "\n",
    "\n",
    "def cal_bleu_score(dataset, model, source_vocab, target_vocab):\n",
    "    targets = []\n",
    "    predictions = []\n",
    "\n",
    "    for i in range(len(dataset)):\n",
    "        target = vars(test_data.examples[i])['trg']\n",
    "        predicted_words = predict(i, model, source_vocab, target_vocab, dataset)\n",
    "        predictions.append(predicted_words[1:-1])\n",
    "        targets.append([target])\n",
    "    print(f'\\nBLEU Score: {round(bleu_score(predictions, targets) * 100, 2)}')\n",
    "\n",
    "def show_prediction(model, source_vocab, target_vocab, test_data, n_examples=20):\n",
    "  for i in range (n_examples):\n",
    "    predict(i, model, source_vocab, target_vocab, test_data, debug=True)\n",
    "  cal_bleu_score(test_data, model, source_vocab, target_vocab)"
   ]
  },
  {
   "cell_type": "markdown",
   "metadata": {
    "id": "2dWYG52O6ZR2"
   },
   "source": [
    "## Modelo 1"
   ]
  },
  {
   "cell_type": "markdown",
   "metadata": {
    "id": "z7CizXX_6eaB"
   },
   "source": [
    "#### Entrenamiento"
   ]
  },
  {
   "cell_type": "code",
   "execution_count": 18,
   "metadata": {
    "colab": {
     "base_uri": "https://localhost:8080/",
     "height": 483
    },
    "id": "6mbmGytl46kc",
    "outputId": "1d9e41f2-e45d-4b1d-d245-d7f0945c3f9c"
   },
   "outputs": [
    {
     "name": "stderr",
     "output_type": "stream",
     "text": [
      "100%|██████████| 382/382 [03:59<00:00,  1.59 batches/s, epoch=1, train loss= 5.5137, val loss= 4.9026]                                                                                                  \n",
      "100%|██████████| 382/382 [04:03<00:00,  1.57 batches/s, epoch=2, train loss= 4.1721, val loss= 4.162]                                                                                                   \n",
      "100%|██████████| 382/382 [04:03<00:00,  1.57 batches/s, epoch=3, train loss= 3.41, val loss= 3.6734]                                                                                                    \n",
      "100%|██████████| 382/382 [04:04<00:00,  1.56 batches/s, epoch=4, train loss= 2.8797, val loss= 3.4089]                                                                                                  \n",
      "100%|██████████| 382/382 [04:04<00:00,  1.56 batches/s, epoch=5, train loss= 2.4839, val loss= 3.3009]                                                                                                  \n",
      "100%|██████████| 382/382 [04:04<00:00,  1.56 batches/s, epoch=6, train loss= 2.2094, val loss= 3.1979]                                                                                                  \n",
      "100%|██████████| 382/382 [04:04<00:00,  1.56 batches/s, epoch=7, train loss= 1.9692, val loss= 3.1432]                                                                                                  \n",
      "100%|██████████| 382/382 [04:03<00:00,  1.57 batches/s, epoch=8, train loss= 1.7969, val loss= 3.1501]                                                                                                  \n",
      "100%|██████████| 382/382 [04:04<00:00,  1.56 batches/s, epoch=9, train loss= 1.658, val loss= 3.1245]                                                                                                   \n",
      "100%|██████████| 382/382 [04:03<00:00,  1.57 batches/s, epoch=10, train loss= 1.5445, val loss= 3.151]                                                                                                  \n"
     ]
    },
    {
     "data": {
      "image/png": "[encoded data removed]",
      "text/plain": [
       "<Figure size 432x288 with 1 Axes>"
      ]
     },
     "metadata": {
      "needs_background": "light",
      "tags": []
     },
     "output_type": "display_data"
    },
    {
     "name": "stdout",
     "output_type": "stream",
     "text": [
      "CPU times: user 39min 54s, sys: 41.7 s, total: 40min 36s\n",
      "Wall time: 41min 5s\n"
     ]
    }
   ],
   "source": [
    "%%time\n",
    "# Define the required dimensions and hyper parameters\n",
    "embedding_dim = 300\n",
    "hidden_dim = 1024\n",
    "dropout = 0.5\n",
    "layers = 2\n",
    "save = 'nmt-model-lstm-2L.pth'\n",
    "embedding=False\n",
    "train_iterator, valid_iterator, test_iterator, source, target = get_datasets(batch_size=300, embedding=embedding)\n",
    "model = train(train_iterator, valid_iterator, source, target, save, epochs=10)"
   ]
  },
  {
   "cell_type": "markdown",
   "metadata": {
    "id": "RM8jrE246g1u"
   },
   "source": [
    "#### Inferencia"
   ]
  },
  {
   "cell_type": "code",
   "execution_count": 20,
   "metadata": {
    "colab": {
     "base_uri": "https://localhost:8080/"
    },
    "id": "vlJBrUpLKux8",
    "outputId": "5ae72756-80f5-457d-c36a-74ddc90f3a0f"
   },
   "outputs": [
    {
     "name": "stdout",
     "output_type": "stream",
     "text": [
      "\n",
      "Source          = i liked your idea and adopted it\n",
      "\u001b[32mGround Truth    = me gustó tu idea y la adopté\u001b[0m\n",
      "\u001b[31mPredicted Label = me gustó tu tu y me contuve\u001b[0m\n",
      "\n",
      "Source          = tom is very upset about this\n",
      "\u001b[32mGround Truth    = tom está muy disgustado por esto\u001b[0m\n",
      "\u001b[31mPredicted Label = tom está muy preocupado por esto\u001b[0m\n",
      "\n",
      "Source          = would you please take my picture\n",
      "\u001b[32mGround Truth    = podría sacarme una foto por favor\u001b[0m\n",
      "\u001b[31mPredicted Label = me soltarías mi foto\u001b[0m\n",
      "\n",
      "Source          = he is one of my neighbours\n",
      "\u001b[32mGround Truth    = él es uno de mis vecinos\u001b[0m\n",
      "\u001b[31mPredicted Label = él es uno de mis parientes\u001b[0m\n",
      "\n",
      "Source          = he looks as if he had been ill\n",
      "\u001b[32mGround Truth    = parece como si hubiese estado enfermo\u001b[0m\n",
      "\u001b[31mPredicted Label = él se sentía que enfermo enfermo\u001b[0m\n",
      "\n",
      "Source          = our refrigerator is out of order\n",
      "\u001b[32mGround Truth    = nuestro frigorífico está estropeado\u001b[0m\n",
      "\u001b[31mPredicted Label = nuestro refrigerador está descompuesto\u001b[0m\n",
      "\n",
      "Source          = i want you to do me a favor\n",
      "\u001b[32mGround Truth    = quiero que me hagas un favor\u001b[0m\n",
      "\u001b[31mPredicted Label = quiero que me hagas un favor\u001b[0m\n",
      "\n",
      "Source          = did you really not know that\n",
      "\u001b[32mGround Truth    = de verdad que no lo sabías\u001b[0m\n",
      "\u001b[31mPredicted Label = de verdad no sabías eso\u001b[0m\n",
      "\n",
      "Source          = my mother is cooking breakfast\n",
      "\u001b[32mGround Truth    = mi madre está preparando el desayuno\u001b[0m\n",
      "\u001b[31mPredicted Label = mi madre prepara preparando desayuno\u001b[0m\n",
      "\n",
      "Source          = this book is worth reading twice\n",
      "\u001b[32mGround Truth    = este libro merece la pena releer\u001b[0m\n",
      "\u001b[31mPredicted Label = este libro pena leer los novelas\u001b[0m\n",
      "\n",
      "Source          = you should get your hair cut\n",
      "\u001b[32mGround Truth    = deberías de cortarte el cabello\u001b[0m\n",
      "\u001b[31mPredicted Label = deberías hacer el pelo de pelo\u001b[0m\n",
      "\n",
      "Source          = tom recommended mary\n",
      "\u001b[32mGround Truth    = tom recomendó a mary\u001b[0m\n",
      "\u001b[31mPredicted Label = tom provocaba a mary\u001b[0m\n",
      "\n",
      "Source          = tom hopes that mary will help him\n",
      "\u001b[32mGround Truth    = tom espera que mary le ayude\u001b[0m\n",
      "\u001b[31mPredicted Label = tom espera que mary lo ayudaría\u001b[0m\n",
      "\n",
      "Source          = tom went to bed at midnight\n",
      "\u001b[32mGround Truth    = tom se fue a dormir a medianoche\u001b[0m\n",
      "\u001b[31mPredicted Label = tom se fue a la cama a medianoche\u001b[0m\n",
      "\n",
      "Source          = it is probably my fault\n",
      "\u001b[32mGround Truth    = a lo mejor es mi culpa\u001b[0m\n",
      "\u001b[31mPredicted Label = probablemente es culpa culpa\u001b[0m\n",
      "\n",
      "Source          = it is hard to talk about your feelings\n",
      "\u001b[32mGround Truth    = es difícil hablar de tus sentimientos\u001b[0m\n",
      "\u001b[31mPredicted Label = es difícil hablar sobre tus sentimientos\u001b[0m\n",
      "\n",
      "Source          = tom found the bug\n",
      "\u001b[32mGround Truth    = tom dio con el bug\u001b[0m\n",
      "\u001b[31mPredicted Label = tom encontró el bug\u001b[0m\n",
      "\n",
      "Source          = can you drive a car\n",
      "\u001b[32mGround Truth    = sabes conducir\u001b[0m\n",
      "\u001b[31mPredicted Label = puedes manejar un auto\u001b[0m\n",
      "\n",
      "Source          = i am amazed at his rapid progress in english\n",
      "\u001b[32mGround Truth    = estoy sorprendido de su rápido progreso en inglés\u001b[0m\n",
      "\u001b[31mPredicted Label = estoy su inglés en inglés en inglés inglés\u001b[0m\n",
      "\n",
      "Source          = tom was strangled\n",
      "\u001b[32mGround Truth    = tom fue estrangulado\u001b[0m\n",
      "\u001b[31mPredicted Label = tom fue leal\u001b[0m\n",
      "\n",
      "BLEU Score: 20.19\n"
     ]
    }
   ],
   "source": [
    "embedding_dim = 300\n",
    "hidden_dim = 1024\n",
    "dropout = 0.5\n",
    "layers=2\n",
    "save='nmt-model-lstm-2L.pth'\n",
    "model, source_vocab, target_vocab, test_data = load_models_and_test_data(save)\n",
    "show_prediction(model, source_vocab, target_vocab, test_data, n_examples=20)"
   ]
  },
  {
   "cell_type": "markdown",
   "metadata": {
    "id": "kLThj8Qf6kOc"
   },
   "source": [
    "## Modelo 2"
   ]
  },
  {
   "cell_type": "markdown",
   "metadata": {
    "id": "nLeJxtWB6mQh"
   },
   "source": [
    "#### Entrenamiento"
   ]
  },
  {
   "cell_type": "code",
   "execution_count": 21,
   "metadata": {
    "colab": {
     "base_uri": "https://localhost:8080/",
     "height": 483
    },
    "id": "_eITAqoE6rfE",
    "outputId": "14a9f606-0e70-4826-b9bf-e447814089f9"
   },
   "outputs": [
    {
     "name": "stderr",
     "output_type": "stream",
     "text": [
      "100%|██████████| 382/382 [04:37<00:00,  1.38 batches/s, epoch=1, train loss= 5.7695, val loss= 5.2901]                                                                                                  \n",
      "100%|██████████| 382/382 [04:39<00:00,  1.37 batches/s, epoch=2, train loss= 4.6245, val loss= 4.5359]                                                                                                  \n",
      "100%|██████████| 382/382 [04:39<00:00,  1.37 batches/s, epoch=3, train loss= 3.8744, val loss= 4.0476]                                                                                                  \n",
      "100%|██████████| 382/382 [04:38<00:00,  1.37 batches/s, epoch=4, train loss= 3.3426, val loss= 3.8323]                                                                                                  \n",
      "100%|██████████| 382/382 [04:39<00:00,  1.37 batches/s, epoch=5, train loss= 2.9411, val loss= 3.6235]                                                                                                  \n",
      "100%|██████████| 382/382 [04:40<00:00,  1.36 batches/s, epoch=6, train loss= 2.6245, val loss= 3.494]                                                                                                   \n",
      "100%|██████████| 382/382 [04:39<00:00,  1.36 batches/s, epoch=7, train loss= 2.3835, val loss= 3.404]                                                                                                   \n",
      "100%|██████████| 382/382 [04:39<00:00,  1.36 batches/s, epoch=8, train loss= 2.171, val loss= 3.374]                                                                                                    \n",
      "100%|██████████| 382/382 [04:40<00:00,  1.36 batches/s, epoch=9, train loss= 2.0051, val loss= 3.349]                                                                                                   \n",
      "100%|██████████| 382/382 [04:40<00:00,  1.36 batches/s, epoch=10, train loss= 1.835, val loss= 3.3343]                                                                                                  \n"
     ]
    },
    {
     "data": {
      "image/png": "[encoded data removed]",
      "text/plain": [
       "<Figure size 432x288 with 1 Axes>"
      ]
     },
     "metadata": {
      "needs_background": "light",
      "tags": []
     },
     "output_type": "display_data"
    },
    {
     "name": "stdout",
     "output_type": "stream",
     "text": [
      "CPU times: user 45min 46s, sys: 47.5 s, total: 46min 34s\n",
      "Wall time: 46min 54s\n"
     ]
    }
   ],
   "source": [
    "%%time\n",
    "# Define the required dimensions and hyper parameters\n",
    "embedding_dim = 300\n",
    "hidden_dim = 1024\n",
    "dropout = 0.5\n",
    "layers = 3\n",
    "save = 'nmt-model-lstm-3L.pth'\n",
    "embedding=False\n",
    "train_iterator, valid_iterator, test_iterator, source, target = get_datasets(batch_size=300, embedding=embedding)\n",
    "model = train(train_iterator, valid_iterator, source, target, save, epochs=10)"
   ]
  },
  {
   "cell_type": "markdown",
   "metadata": {
    "id": "ABTxrziQ6omZ"
   },
   "source": [
    "#### Inferencia"
   ]
  },
  {
   "cell_type": "code",
   "execution_count": 22,
   "metadata": {
    "colab": {
     "base_uri": "https://localhost:8080/"
    },
    "id": "XcSY8Pv10FKT",
    "outputId": "15e1e63b-041c-4f07-fa61-173740b48718"
   },
   "outputs": [
    {
     "name": "stdout",
     "output_type": "stream",
     "text": [
      "\n",
      "Source          = i liked your idea and adopted it\n",
      "\u001b[32mGround Truth    = me gustó tu idea y la adopté\u001b[0m\n",
      "\u001b[31mPredicted Label = me valoro tu camisa y teléfono\u001b[0m\n",
      "\n",
      "Source          = tom is very upset about this\n",
      "\u001b[32mGround Truth    = tom está muy disgustado por esto\u001b[0m\n",
      "\u001b[31mPredicted Label = tom está muy preocupado por esto\u001b[0m\n",
      "\n",
      "Source          = would you please take my picture\n",
      "\u001b[32mGround Truth    = podría sacarme una foto por favor\u001b[0m\n",
      "\u001b[31mPredicted Label = podrías mi mi foto\u001b[0m\n",
      "\n",
      "Source          = he is one of my neighbours\n",
      "\u001b[32mGround Truth    = él es uno de mis vecinos\u001b[0m\n",
      "\u001b[31mPredicted Label = él es uno de mis vecinos\u001b[0m\n",
      "\n",
      "Source          = he looks as if he had been ill\n",
      "\u001b[32mGround Truth    = parece como si hubiese estado enfermo\u001b[0m\n",
      "\u001b[31mPredicted Label = él se siente si si hubiera estado enfermo\u001b[0m\n",
      "\n",
      "Source          = our refrigerator is out of order\n",
      "\u001b[32mGround Truth    = nuestro frigorífico está estropeado\u001b[0m\n",
      "\u001b[31mPredicted Label = nuestro reja está descompuesto\u001b[0m\n",
      "\n",
      "Source          = i want you to do me a favor\n",
      "\u001b[32mGround Truth    = quiero que me hagas un favor\u001b[0m\n",
      "\u001b[31mPredicted Label = quiero que me hagas un favor\u001b[0m\n",
      "\n",
      "Source          = did you really not know that\n",
      "\u001b[32mGround Truth    = de verdad que no lo sabías\u001b[0m\n",
      "\u001b[31mPredicted Label = de verdad no sabías eso\u001b[0m\n",
      "\n",
      "Source          = my mother is cooking breakfast\n",
      "\u001b[32mGround Truth    = mi madre está preparando el desayuno\u001b[0m\n",
      "\u001b[31mPredicted Label = mi madre está preparando desayuno\u001b[0m\n",
      "\n",
      "Source          = this book is worth reading twice\n",
      "\u001b[32mGround Truth    = este libro merece la pena releer\u001b[0m\n",
      "\u001b[31mPredicted Label = este libro está fabricado en cincuenta\u001b[0m\n",
      "\n",
      "Source          = you should get your hair cut\n",
      "\u001b[32mGround Truth    = deberías de cortarte el cabello\u001b[0m\n",
      "\u001b[31mPredicted Label = deberías quitarse el pelo corto\u001b[0m\n",
      "\n",
      "Source          = tom recommended mary\n",
      "\u001b[32mGround Truth    = tom recomendó a mary\u001b[0m\n",
      "\u001b[31mPredicted Label = tom zancadilleó a mary\u001b[0m\n",
      "\n",
      "Source          = tom hopes that mary will help him\n",
      "\u001b[32mGround Truth    = tom espera que mary le ayude\u001b[0m\n",
      "\u001b[31mPredicted Label = tom espera que mary lo ayudáramos\u001b[0m\n",
      "\n",
      "Source          = tom went to bed at midnight\n",
      "\u001b[32mGround Truth    = tom se fue a dormir a medianoche\u001b[0m\n",
      "\u001b[31mPredicted Label = tom fue acostó a la cama\u001b[0m\n",
      "\n",
      "Source          = it is probably my fault\n",
      "\u001b[32mGround Truth    = a lo mejor es mi culpa\u001b[0m\n",
      "\u001b[31mPredicted Label = es culpa culpa mía\u001b[0m\n",
      "\n",
      "Source          = it is hard to talk about your feelings\n",
      "\u001b[32mGround Truth    = es difícil hablar de tus sentimientos\u001b[0m\n",
      "\u001b[31mPredicted Label = es difícil hablar con tu tu\u001b[0m\n",
      "\n",
      "Source          = tom found the bug\n",
      "\u001b[32mGround Truth    = tom dio con el bug\u001b[0m\n",
      "\u001b[31mPredicted Label = tom encontró el bug\u001b[0m\n",
      "\n",
      "Source          = can you drive a car\n",
      "\u001b[32mGround Truth    = sabes conducir\u001b[0m\n",
      "\u001b[31mPredicted Label = puedes conducir un coche\u001b[0m\n",
      "\n",
      "Source          = i am amazed at his rapid progress in english\n",
      "\u001b[32mGround Truth    = estoy sorprendido de su rápido progreso en inglés\u001b[0m\n",
      "\u001b[31mPredicted Label = me estoy quedando en su universidad de inglés\u001b[0m\n",
      "\n",
      "Source          = tom was strangled\n",
      "\u001b[32mGround Truth    = tom fue estrangulado\u001b[0m\n",
      "\u001b[31mPredicted Label = tom estaba emocionado\u001b[0m\n",
      "\n",
      "BLEU Score: 16.36\n"
     ]
    }
   ],
   "source": [
    "embedding_dim = 300\n",
    "hidden_dim = 1024\n",
    "dropout = 0.5\n",
    "layers=3\n",
    "save='nmt-model-lstm-3L.pth'\n",
    "model, source_vocab, target_vocab, test_data = load_models_and_test_data(save)\n",
    "show_prediction(model, source_vocab, target_vocab, test_data, n_examples=20)"
   ]
  },
  {
   "cell_type": "markdown",
   "metadata": {
    "id": "lYpaNym9FTlm"
   },
   "source": [
    "## Modelo 3\n",
    "### Transferencia de conocimiento\n"
   ]
  },
  {
   "cell_type": "markdown",
   "metadata": {
    "id": "YVGKbqbsFeWh"
   },
   "source": [
    "#### Entrenamiento"
   ]
  },
  {
   "cell_type": "code",
   "execution_count": 10,
   "metadata": {
    "colab": {
     "base_uri": "https://localhost:8080/",
     "height": 483
    },
    "id": "ZhFn9gjFFWrH",
    "outputId": "fea9ae18-3314-4798-de9c-cc9b47c1dc41"
   },
   "outputs": [
    {
     "name": "stderr",
     "output_type": "stream",
     "text": [
      "100%|██████████| 382/382 [04:04<00:00,  1.57 batches/s, epoch=1, train loss= 5.4788, val loss= 4.8774]                                                                                                  \n",
      "100%|██████████| 382/382 [04:04<00:00,  1.56 batches/s, epoch=2, train loss= 4.1496, val loss= 4.1491]                                                                                                  \n",
      "100%|██████████| 382/382 [04:04<00:00,  1.56 batches/s, epoch=3, train loss= 3.3805, val loss= 3.6428]                                                                                                  \n",
      "100%|██████████| 382/382 [04:05<00:00,  1.56 batches/s, epoch=4, train loss= 2.8478, val loss= 3.3915]                                                                                                  \n",
      "100%|██████████| 382/382 [04:05<00:00,  1.55 batches/s, epoch=5, train loss= 2.4538, val loss= 3.2858]                                                                                                  \n",
      "100%|██████████| 382/382 [04:05<00:00,  1.55 batches/s, epoch=6, train loss= 2.1866, val loss= 3.1848]                                                                                                  \n",
      "100%|██████████| 382/382 [04:06<00:00,  1.55 batches/s, epoch=7, train loss= 1.954, val loss= 3.1426]                                                                                                   \n",
      "100%|██████████| 382/382 [04:05<00:00,  1.55 batches/s, epoch=8, train loss= 1.7866, val loss= 3.1466]                                                                                                  \n",
      "100%|██████████| 382/382 [04:05<00:00,  1.55 batches/s, epoch=9, train loss= 1.6495, val loss= 3.1166]                                                                                                  \n",
      "100%|██████████| 382/382 [04:05<00:00,  1.56 batches/s, epoch=10, train loss= 1.537, val loss= 3.1555]                                                                                                  \n"
     ]
    },
    {
     "data": {
      "image/png": "[encoded data removed]",
      "text/plain": [
       "<Figure size 432x288 with 1 Axes>"
      ]
     },
     "metadata": {
      "needs_background": "light",
      "tags": []
     },
     "output_type": "display_data"
    },
    {
     "name": "stdout",
     "output_type": "stream",
     "text": [
      "CPU times: user 40min 17s, sys: 48.9 s, total: 41min 6s\n",
      "Wall time: 41min 23s\n"
     ]
    }
   ],
   "source": [
    "%%time\n",
    "# Define the required dimensions and hyper parameters\n",
    "embedding_dim = 300\n",
    "hidden_dim = 1024\n",
    "dropout = 0.5\n",
    "layers = 2\n",
    "save = 'nmt-model-lstm-glove-2L.pth'\n",
    "embedding=\"glove.42B.300d\"\n",
    "train_iterator, valid_iterator, test_iterator, source, target = get_datasets(batch_size=300, embedding=embedding)\n",
    "model = train(train_iterator, valid_iterator, source, target, save, epochs=10)"
   ]
  },
  {
   "cell_type": "markdown",
   "metadata": {
    "id": "8JghVrXXFgeo"
   },
   "source": [
    "#### Inferencia"
   ]
  },
  {
   "cell_type": "code",
   "execution_count": 11,
   "metadata": {
    "colab": {
     "base_uri": "https://localhost:8080/"
    },
    "id": "JXl3OvaOFhYH",
    "outputId": "8394a742-831e-4f42-ed81-ee654b130390"
   },
   "outputs": [
    {
     "name": "stdout",
     "output_type": "stream",
     "text": [
      "\n",
      "Source          = i liked your idea and adopted it\n",
      "\u001b[32mGround Truth    = me gustó tu idea y la adopté\u001b[0m\n",
      "\u001b[31mPredicted Label = me gusta tu concepto de tu profesor\u001b[0m\n",
      "\n",
      "Source          = tom is very upset about this\n",
      "\u001b[32mGround Truth    = tom está muy disgustado por esto\u001b[0m\n",
      "\u001b[31mPredicted Label = tom está muy preocupado por esto\u001b[0m\n",
      "\n",
      "Source          = would you please take my picture\n",
      "\u001b[32mGround Truth    = podría sacarme una foto por favor\u001b[0m\n",
      "\u001b[31mPredicted Label = me soltarías mi foto\u001b[0m\n",
      "\n",
      "Source          = he is one of my neighbours\n",
      "\u001b[32mGround Truth    = él es uno de mis vecinos\u001b[0m\n",
      "\u001b[31mPredicted Label = es uno de mis vecinos\u001b[0m\n",
      "\n",
      "Source          = he looks as if he had been ill\n",
      "\u001b[32mGround Truth    = parece como si hubiese estado enfermo\u001b[0m\n",
      "\u001b[31mPredicted Label = él se si si hubiera sido enfermo\u001b[0m\n",
      "\n",
      "Source          = our refrigerator is out of order\n",
      "\u001b[32mGround Truth    = nuestro frigorífico está estropeado\u001b[0m\n",
      "\u001b[31mPredicted Label = nuestro refrigerador está descompuesto\u001b[0m\n",
      "\n",
      "Source          = i want you to do me a favor\n",
      "\u001b[32mGround Truth    = quiero que me hagas un favor\u001b[0m\n",
      "\u001b[31mPredicted Label = quiero que me hagas un favor\u001b[0m\n",
      "\n",
      "Source          = did you really not know that\n",
      "\u001b[32mGround Truth    = de verdad que no lo sabías\u001b[0m\n",
      "\u001b[31mPredicted Label = de serio no sabías sabías\u001b[0m\n",
      "\n",
      "Source          = my mother is cooking breakfast\n",
      "\u001b[32mGround Truth    = mi madre está preparando el desayuno\u001b[0m\n",
      "\u001b[31mPredicted Label = mi madre prepara el desayuno\u001b[0m\n",
      "\n",
      "Source          = this book is worth reading twice\n",
      "\u001b[32mGround Truth    = este libro merece la pena releer\u001b[0m\n",
      "\u001b[31mPredicted Label = este libro vale leer leer de veces\u001b[0m\n",
      "\n",
      "Source          = you should get your hair cut\n",
      "\u001b[32mGround Truth    = deberías de cortarte el cabello\u001b[0m\n",
      "\u001b[31mPredicted Label = deberías recortarte el pelo de pelo\u001b[0m\n",
      "\n",
      "Source          = tom recommended mary\n",
      "\u001b[32mGround Truth    = tom recomendó a mary\u001b[0m\n",
      "\u001b[31mPredicted Label = tom odia a mary\u001b[0m\n",
      "\n",
      "Source          = tom hopes that mary will help him\n",
      "\u001b[32mGround Truth    = tom espera que mary le ayude\u001b[0m\n",
      "\u001b[31mPredicted Label = tom espera que mary lo ayude\u001b[0m\n",
      "\n",
      "Source          = tom went to bed at midnight\n",
      "\u001b[32mGround Truth    = tom se fue a dormir a medianoche\u001b[0m\n",
      "\u001b[31mPredicted Label = tom fue a la cama a las medianoche\u001b[0m\n",
      "\n",
      "Source          = it is probably my fault\n",
      "\u001b[32mGround Truth    = a lo mejor es mi culpa\u001b[0m\n",
      "\u001b[31mPredicted Label = probablemente es culpa mía\u001b[0m\n",
      "\n",
      "Source          = it is hard to talk about your feelings\n",
      "\u001b[32mGround Truth    = es difícil hablar de tus sentimientos\u001b[0m\n",
      "\u001b[31mPredicted Label = es difícil hablar de tu seguridad\u001b[0m\n",
      "\n",
      "Source          = tom found the bug\n",
      "\u001b[32mGround Truth    = tom dio con el bug\u001b[0m\n",
      "\u001b[31mPredicted Label = tom encontró el bug\u001b[0m\n",
      "\n",
      "Source          = can you drive a car\n",
      "\u001b[32mGround Truth    = sabes conducir\u001b[0m\n",
      "\u001b[31mPredicted Label = puedes conducir un auto\u001b[0m\n",
      "\n",
      "Source          = i am amazed at his rapid progress in english\n",
      "\u001b[32mGround Truth    = estoy sorprendido de su rápido progreso en inglés\u001b[0m\n",
      "\u001b[31mPredicted Label = estoy a a su en inglés en inglés\u001b[0m\n",
      "\n",
      "Source          = tom was strangled\n",
      "\u001b[32mGround Truth    = tom fue estrangulado\u001b[0m\n",
      "\u001b[31mPredicted Label = tom fue torturado\u001b[0m\n",
      "\n",
      "BLEU Score: 20.24\n"
     ]
    }
   ],
   "source": [
    "embedding_dim = 300\n",
    "hidden_dim = 1024\n",
    "dropout = 0.5\n",
    "layers=2\n",
    "save='nmt-model-lstm-glove-2L.pth'\n",
    "model, source_vocab, target_vocab, test_data = load_models_and_test_data(save)\n",
    "show_prediction(model, source_vocab, target_vocab, test_data, n_examples=20)"
   ]
  },
  {
   "cell_type": "markdown",
   "metadata": {
    "id": "-RfAzttT4xis"
   },
   "source": [
    "## Modelo 4"
   ]
  },
  {
   "cell_type": "code",
   "execution_count": 13,
   "metadata": {
    "colab": {
     "base_uri": "https://localhost:8080/",
     "height": 483
    },
    "id": "-Y65rJxKuoix",
    "outputId": "58def6b8-f282-418b-f3d8-19bcd4074c5d"
   },
   "outputs": [
    {
     "name": "stderr",
     "output_type": "stream",
     "text": [
      "100%|██████████| 382/382 [04:09<00:00,  1.53 batches/s, epoch=1, train loss= 5.4192, val loss= 4.7988]                                                                                                  \n",
      "100%|██████████| 382/382 [04:11<00:00,  1.52 batches/s, epoch=2, train loss= 3.9914, val loss= 3.977]                                                                                                   \n",
      "100%|██████████| 382/382 [04:11<00:00,  1.52 batches/s, epoch=3, train loss= 3.2018, val loss= 3.5072]                                                                                                  \n",
      "100%|██████████| 382/382 [04:11<00:00,  1.52 batches/s, epoch=4, train loss= 2.6682, val loss= 3.3557]                                                                                                  \n",
      "100%|██████████| 382/382 [04:11<00:00,  1.52 batches/s, epoch=5, train loss= 2.285, val loss= 3.2119]                                                                                                   \n",
      "100%|██████████| 382/382 [04:12<00:00,  1.51 batches/s, epoch=6, train loss= 2.0135, val loss= 3.1232]                                                                                                  \n",
      "100%|██████████| 382/382 [04:13<00:00,  1.51 batches/s, epoch=7, train loss= 1.8193, val loss= 3.0771]                                                                                                  \n",
      "100%|██████████| 382/382 [04:12<00:00,  1.51 batches/s, epoch=8, train loss= 1.6525, val loss= 3.0926]                                                                                                  \n",
      "100%|██████████| 382/382 [04:12<00:00,  1.51 batches/s, epoch=9, train loss= 1.5319, val loss= 3.0894]                                                                                                  \n",
      "100%|██████████| 382/382 [04:12<00:00,  1.51 batches/s, epoch=10, train loss= 1.4014, val loss= 3.1087]                                                                                                 \n"
     ]
    },
    {
     "data": {
      "image/png": "[encoded data removed]",
      "text/plain": [
       "<Figure size 432x288 with 1 Axes>"
      ]
     },
     "metadata": {
      "needs_background": "light",
      "tags": []
     },
     "output_type": "display_data"
    },
    {
     "name": "stdout",
     "output_type": "stream",
     "text": [
      "CPU times: user 41min 12s, sys: 48.3 s, total: 42min 1s\n",
      "Wall time: 42min 17s\n"
     ]
    }
   ],
   "source": [
    "%%time\n",
    "# Define the required dimensions and hyper parameters\n",
    "embedding_dim = 512\n",
    "hidden_dim = 1024\n",
    "dropout = 0.5\n",
    "layers = 2\n",
    "save = 'nmt-model-lstm-glove-2L-512.pth'\n",
    "embedding=False\n",
    "train_iterator, valid_iterator, test_iterator, source, target = get_datasets(batch_size=300, embedding=embedding)\n",
    "model = train(train_iterator, valid_iterator, source, target, save, epochs=10)"
   ]
  },
  {
   "cell_type": "code",
   "execution_count": 14,
   "metadata": {
    "colab": {
     "base_uri": "https://localhost:8080/"
    },
    "id": "1mBvQrKHTlYS",
    "outputId": "104b1774-e7df-4ec1-e38d-caa798ffd9da"
   },
   "outputs": [
    {
     "name": "stdout",
     "output_type": "stream",
     "text": [
      "\n",
      "Source          = i liked your idea and adopted it\n",
      "\u001b[32mGround Truth    = me gustó tu idea y la adopté\u001b[0m\n",
      "\u001b[31mPredicted Label = me gustó tu actitud y y la\u001b[0m\n",
      "\n",
      "Source          = tom is very upset about this\n",
      "\u001b[32mGround Truth    = tom está muy disgustado por esto\u001b[0m\n",
      "\u001b[31mPredicted Label = tom está muy emocionado con esto\u001b[0m\n",
      "\n",
      "Source          = would you please take my picture\n",
      "\u001b[32mGround Truth    = podría sacarme una foto por favor\u001b[0m\n",
      "\u001b[31mPredicted Label = podrías usted mi foto\u001b[0m\n",
      "\n",
      "Source          = he is one of my neighbours\n",
      "\u001b[32mGround Truth    = él es uno de mis vecinos\u001b[0m\n",
      "\u001b[31mPredicted Label = él es uno de mis sueños\u001b[0m\n",
      "\n",
      "Source          = he looks as if he had been ill\n",
      "\u001b[32mGround Truth    = parece como si hubiese estado enfermo\u001b[0m\n",
      "\u001b[31mPredicted Label = él se siente enfermo como hubiera estado enfermo\u001b[0m\n",
      "\n",
      "Source          = our refrigerator is out of order\n",
      "\u001b[32mGround Truth    = nuestro frigorífico está estropeado\u001b[0m\n",
      "\u001b[31mPredicted Label = nuestro reja está descompuesto\u001b[0m\n",
      "\n",
      "Source          = i want you to do me a favor\n",
      "\u001b[32mGround Truth    = quiero que me hagas un favor\u001b[0m\n",
      "\u001b[31mPredicted Label = quiero que me hagas un favor\u001b[0m\n",
      "\n",
      "Source          = did you really not know that\n",
      "\u001b[32mGround Truth    = de verdad que no lo sabías\u001b[0m\n",
      "\u001b[31mPredicted Label = de serio no sabías eso\u001b[0m\n",
      "\n",
      "Source          = my mother is cooking breakfast\n",
      "\u001b[32mGround Truth    = mi madre está preparando el desayuno\u001b[0m\n",
      "\u001b[31mPredicted Label = mi madre está preparando desayuno\u001b[0m\n",
      "\n",
      "Source          = this book is worth reading twice\n",
      "\u001b[32mGround Truth    = este libro merece la pena releer\u001b[0m\n",
      "\u001b[31mPredicted Label = este libro vale leer cada libro\u001b[0m\n",
      "\n",
      "Source          = you should get your hair cut\n",
      "\u001b[32mGround Truth    = deberías de cortarte el cabello\u001b[0m\n",
      "\u001b[31mPredicted Label = deberías usar el pelo de pelo\u001b[0m\n",
      "\n",
      "Source          = tom recommended mary\n",
      "\u001b[32mGround Truth    = tom recomendó a mary\u001b[0m\n",
      "\u001b[31mPredicted Label = tom asfixió a mary\u001b[0m\n",
      "\n",
      "Source          = tom hopes that mary will help him\n",
      "\u001b[32mGround Truth    = tom espera que mary le ayude\u001b[0m\n",
      "\u001b[31mPredicted Label = tom espera que mary lo ayude\u001b[0m\n",
      "\n",
      "Source          = tom went to bed at midnight\n",
      "\u001b[32mGround Truth    = tom se fue a dormir a medianoche\u001b[0m\n",
      "\u001b[31mPredicted Label = tom se fue a la cama a las once\u001b[0m\n",
      "\n",
      "Source          = it is probably my fault\n",
      "\u001b[32mGround Truth    = a lo mejor es mi culpa\u001b[0m\n",
      "\u001b[31mPredicted Label = probablemente sea culpa culpa\u001b[0m\n",
      "\n",
      "Source          = it is hard to talk about your feelings\n",
      "\u001b[32mGround Truth    = es difícil hablar de tus sentimientos\u001b[0m\n",
      "\u001b[31mPredicted Label = es difícil hablar con tu sentimientos\u001b[0m\n",
      "\n",
      "Source          = tom found the bug\n",
      "\u001b[32mGround Truth    = tom dio con el bug\u001b[0m\n",
      "\u001b[31mPredicted Label = tom encontró el bug\u001b[0m\n",
      "\n",
      "Source          = can you drive a car\n",
      "\u001b[32mGround Truth    = sabes conducir\u001b[0m\n",
      "\u001b[31mPredicted Label = puedes conducir un auto\u001b[0m\n",
      "\n",
      "Source          = i am amazed at his rapid progress in english\n",
      "\u001b[32mGround Truth    = estoy sorprendido de su rápido progreso en inglés\u001b[0m\n",
      "\u001b[31mPredicted Label = me su su oficina en inglés en inglés\u001b[0m\n",
      "\n",
      "Source          = tom was strangled\n",
      "\u001b[32mGround Truth    = tom fue estrangulado\u001b[0m\n",
      "\u001b[31mPredicted Label = tom fue indiscreto\u001b[0m\n",
      "\n",
      "BLEU Score: 20.31\n"
     ]
    }
   ],
   "source": [
    "embedding_dim = 512\n",
    "hidden_dim = 1024\n",
    "dropout = 0.5\n",
    "layers=2\n",
    "save='nmt-model-lstm-glove-2L-512.pth'\n",
    "model, source_vocab, target_vocab, test_data = load_models_and_test_data(save)\n",
    "show_prediction(model, source_vocab, target_vocab, test_data, n_examples=20)"
   ]
  },
  {
   "cell_type": "markdown",
   "metadata": {
    "id": "mGIHtS0V40ta"
   },
   "source": [
    "## Modelo 5"
   ]
  },
  {
   "cell_type": "code",
   "execution_count": 15,
   "metadata": {
    "colab": {
     "base_uri": "https://localhost:8080/",
     "height": 481
    },
    "id": "HVstOj9EujG_",
    "outputId": "8e70c299-5f06-44e3-c87b-5e7e3053f8d5"
   },
   "outputs": [
    {
     "name": "stderr",
     "output_type": "stream",
     "text": [
      "100%|██████████| 382/382 [04:12<00:00,  1.51 batches/s, epoch=1, train loss= 5.2426, val loss= 4.4908]                                                                                                  \n",
      "100%|██████████| 382/382 [04:17<00:00,  1.48 batches/s, epoch=2, train loss= 3.7444, val loss= 3.7445]                                                                                                  \n",
      "100%|██████████| 382/382 [04:17<00:00,  1.48 batches/s, epoch=3, train loss= 2.9677, val loss= 3.3884]                                                                                                  \n",
      "100%|██████████| 382/382 [04:18<00:00,  1.48 batches/s, epoch=4, train loss= 2.4857, val loss= 3.1813]                                                                                                  \n",
      "100%|██████████| 382/382 [04:17<00:00,  1.48 batches/s, epoch=5, train loss= 2.1596, val loss= 3.1027]                                                                                                  \n",
      "100%|██████████| 382/382 [04:16<00:00,  1.49 batches/s, epoch=6, train loss= 1.8926, val loss= 3.0513]                                                                                                  \n",
      "100%|██████████| 382/382 [04:18<00:00,  1.48 batches/s, epoch=7, train loss= 1.7073, val loss= 3.0338]                                                                                                  \n",
      "100%|██████████| 382/382 [04:16<00:00,  1.49 batches/s, epoch=8, train loss= 1.5553, val loss= 3.0386]                                                                                                  \n",
      "100%|██████████| 382/382 [04:16<00:00,  1.49 batches/s, epoch=9, train loss= 1.4416, val loss= 3.0615]                                                                                                  \n",
      "100%|██████████| 382/382 [04:17<00:00,  1.49 batches/s, epoch=10, train loss= 1.3355, val loss= 3.0892]                                                                                                 \n"
     ]
    },
    {
     "data": {
      "image/png": "[encoded data removed]",
      "text/plain": [
       "<Figure size 432x288 with 1 Axes>"
      ]
     },
     "metadata": {
      "needs_background": "light",
      "tags": []
     },
     "output_type": "display_data"
    },
    {
     "name": "stdout",
     "output_type": "stream",
     "text": [
      "CPU times: user 41min 17s, sys: 1min 39s, total: 42min 57s\n",
      "Wall time: 43min 16s\n"
     ]
    }
   ],
   "source": [
    "%%time\n",
    "# Define the required dimensions and hyper parameters\n",
    "embedding_dim = 512\n",
    "hidden_dim = 1024\n",
    "dropout = 0.5\n",
    "layers = 2\n",
    "save = 'nmt-model-lstm-glove-2L-512-glove.pth'\n",
    "embedding=\"glove.42B.300d\"\n",
    "train_iterator, valid_iterator, test_iterator, source, target = get_datasets(batch_size=300, embedding=embedding)\n",
    "model = train(train_iterator, valid_iterator, source, target, save, epochs=10)"
   ]
  },
  {
   "cell_type": "code",
   "execution_count": 16,
   "metadata": {
    "colab": {
     "base_uri": "https://localhost:8080/"
    },
    "id": "9Z2LtuiN4_lJ",
    "outputId": "9a7703ce-8f71-4ab4-87ba-c832859ba477"
   },
   "outputs": [
    {
     "name": "stdout",
     "output_type": "stream",
     "text": [
      "\n",
      "Source          = i liked your idea and adopted it\n",
      "\u001b[32mGround Truth    = me gustó tu idea y la adopté\u001b[0m\n",
      "\u001b[31mPredicted Label = me gustó tu idea y hace la idea\u001b[0m\n",
      "\n",
      "Source          = tom is very upset about this\n",
      "\u001b[32mGround Truth    = tom está muy disgustado por esto\u001b[0m\n",
      "\u001b[31mPredicted Label = tom está muy entusiasmado por esto\u001b[0m\n",
      "\n",
      "Source          = would you please take my picture\n",
      "\u001b[32mGround Truth    = podría sacarme una foto por favor\u001b[0m\n",
      "\u001b[31mPredicted Label = me pasarías mi foto por teléfono\u001b[0m\n",
      "\n",
      "Source          = he is one of my neighbours\n",
      "\u001b[32mGround Truth    = él es uno de mis vecinos\u001b[0m\n",
      "\u001b[31mPredicted Label = él es uno de mis pasatiempos\u001b[0m\n",
      "\n",
      "Source          = he looks as if he had been ill\n",
      "\u001b[32mGround Truth    = parece como si hubiese estado enfermo\u001b[0m\n",
      "\u001b[31mPredicted Label = él se enfermo si hubiera estado enfermo\u001b[0m\n",
      "\n",
      "Source          = our refrigerator is out of order\n",
      "\u001b[32mGround Truth    = nuestro frigorífico está estropeado\u001b[0m\n",
      "\u001b[31mPredicted Label = nuestro refrigerador está averiado\u001b[0m\n",
      "\n",
      "Source          = i want you to do me a favor\n",
      "\u001b[32mGround Truth    = quiero que me hagas un favor\u001b[0m\n",
      "\u001b[31mPredicted Label = quiero que me hagas un gauchada\u001b[0m\n",
      "\n",
      "Source          = did you really not know that\n",
      "\u001b[32mGround Truth    = de verdad que no lo sabías\u001b[0m\n",
      "\u001b[31mPredicted Label = de serio no sabías eso\u001b[0m\n",
      "\n",
      "Source          = my mother is cooking breakfast\n",
      "\u001b[32mGround Truth    = mi madre está preparando el desayuno\u001b[0m\n",
      "\u001b[31mPredicted Label = mi madre prepara desayuno desayuno\u001b[0m\n",
      "\n",
      "Source          = this book is worth reading twice\n",
      "\u001b[32mGround Truth    = este libro merece la pena releer\u001b[0m\n",
      "\u001b[31mPredicted Label = este libro vale leer dos novelas\u001b[0m\n",
      "\n",
      "Source          = you should get your hair cut\n",
      "\u001b[32mGround Truth    = deberías de cortarte el cabello\u001b[0m\n",
      "\u001b[31mPredicted Label = deberías tomarte el pelo\u001b[0m\n",
      "\n",
      "Source          = tom recommended mary\n",
      "\u001b[32mGround Truth    = tom recomendó a mary\u001b[0m\n",
      "\u001b[31mPredicted Label = tom evitaba a mary\u001b[0m\n",
      "\n",
      "Source          = tom hopes that mary will help him\n",
      "\u001b[32mGround Truth    = tom espera que mary le ayude\u001b[0m\n",
      "\u001b[31mPredicted Label = tom espera que mary lo ayude a ayudar\u001b[0m\n",
      "\n",
      "Source          = tom went to bed at midnight\n",
      "\u001b[32mGround Truth    = tom se fue a dormir a medianoche\u001b[0m\n",
      "\u001b[31mPredicted Label = tom se fue a la cama a las medianoche\u001b[0m\n",
      "\n",
      "Source          = it is probably my fault\n",
      "\u001b[32mGround Truth    = a lo mejor es mi culpa\u001b[0m\n",
      "\u001b[31mPredicted Label = probablemente sea mi culpa mía\u001b[0m\n",
      "\n",
      "Source          = it is hard to talk about your feelings\n",
      "\u001b[32mGround Truth    = es difícil hablar de tus sentimientos\u001b[0m\n",
      "\u001b[31mPredicted Label = hablar difícil hablar hablar sobre tus sentimientos\u001b[0m\n",
      "\n",
      "Source          = tom found the bug\n",
      "\u001b[32mGround Truth    = tom dio con el bug\u001b[0m\n",
      "\u001b[31mPredicted Label = tom encontró el bicho bicho\u001b[0m\n",
      "\n",
      "Source          = can you drive a car\n",
      "\u001b[32mGround Truth    = sabes conducir\u001b[0m\n",
      "\u001b[31mPredicted Label = sabes conducir\u001b[0m\n",
      "\n",
      "Source          = i am amazed at his rapid progress in english\n",
      "\u001b[32mGround Truth    = estoy sorprendido de su rápido progreso en inglés\u001b[0m\n",
      "\u001b[31mPredicted Label = me estoy comiendo su palabras en inglés\u001b[0m\n",
      "\n",
      "Source          = tom was strangled\n",
      "\u001b[32mGround Truth    = tom fue estrangulado\u001b[0m\n",
      "\u001b[31mPredicted Label = tom fue leal\u001b[0m\n",
      "\n",
      "BLEU Score: 22.14\n"
     ]
    }
   ],
   "source": [
    "embedding_dim = 512\n",
    "hidden_dim = 1024\n",
    "dropout = 0.5\n",
    "layers=2\n",
    "save='nmt-model-lstm-glove-2L-512-glove.pth'\n",
    "model, source_vocab, target_vocab, test_data = load_models_and_test_data(save)\n",
    "show_prediction(model, source_vocab, target_vocab, test_data, n_examples=20)"
   ]
  },
  {
   "cell_type": "code",
   "execution_count": null,
   "metadata": {
    "id": "MpJnrFWnD9Fl"
   },
   "outputs": [],
   "source": []
  }
 ],
 "metadata": {
  "accelerator": "GPU",
  "colab": {
   "collapsed_sections": [],
   "name": "NMT_RNN_EN-ES.ipynb",
   "provenance": []
  },
  "kernelspec": {
   "display_name": "Python 3",
   "language": "python",
   "name": "python3"
  },
  "language_info": {
   "codemirror_mode": {
    "name": "ipython",
    "version": 3
   },
   "file_extension": ".py",
   "mimetype": "text/x-python",
   "name": "python",
   "nbconvert_exporter": "python",
   "pygments_lexer": "ipython3",
   "version": "3.8.8"
  }
 },
 "nbformat": 4,
 "nbformat_minor": 4
}
