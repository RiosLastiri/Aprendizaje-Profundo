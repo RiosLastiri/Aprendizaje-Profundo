{
  "nbformat": 4,
  "nbformat_minor": 0,
  "metadata": {
    "kernelspec": {
      "name": "python3",
      "display_name": "Python 3"
    },
    "colab": {
      "name": "NMT_RNN_ES_EN.ipynb",
      "provenance": [],
      "collapsed_sections": [
        "kLThj8Qf6kOc"
      ]
    },
    "language_info": {
      "name": "python"
    },
    "accelerator": "GPU"
  },
  "cells": [
    {
      "cell_type": "code",
      "metadata": {
        "colab": {
          "base_uri": "https://localhost:8080/"
        },
        "id": "Mx-tNOTj38yr",
        "outputId": "e507fce3-1603-44e5-a907-5d597b431030"
      },
      "source": [
        "from google.colab import drive\n",
        "drive.mount('/content/drive')"
      ],
      "execution_count": 1,
      "outputs": [
        {
          "output_type": "stream",
          "text": [
            "Drive already mounted at /content/drive; to attempt to forcibly remount, call drive.mount(\"/content/drive\", force_remount=True).\n"
          ],
          "name": "stdout"
        }
      ]
    },
    {
      "cell_type": "code",
      "metadata": {
        "id": "p5-3XkBz32zQ"
      },
      "source": [
        "import torch\n",
        "import torch.nn as nn\n",
        "import torch.optim as optim\n",
        "from torchtext.legacy.data import Field, BucketIterator\n",
        "import numpy as np\n",
        "import random\n",
        "from tqdm import tqdm\n",
        "from torchtext.legacy import data\n",
        "from termcolor import colored\n",
        "from torchtext.data.metrics import bleu_score\n",
        "import pandas as pd\n",
        "import os\n",
        "from os import path\n",
        "import string\n",
        "from sklearn.model_selection import train_test_split\n",
        "import matplotlib.pyplot as plt"
      ],
      "execution_count": 2,
      "outputs": []
    },
    {
      "cell_type": "code",
      "metadata": {
        "colab": {
          "base_uri": "https://localhost:8080/"
        },
        "id": "olBo3nVekh4h",
        "outputId": "de76f41c-f24b-4fdd-c3f5-4f4dae432411"
      },
      "source": [
        "SEED = 0\n",
        "random.seed(SEED)\n",
        "np.random.seed(SEED)\n",
        "torch.manual_seed(SEED)\n",
        "torch.cuda.manual_seed(SEED)\n",
        "device = torch.device('cuda' if torch.cuda.is_available() else 'cpu')\n",
        "print(device)"
      ],
      "execution_count": 3,
      "outputs": [
        {
          "output_type": "stream",
          "text": [
            "cuda\n"
          ],
          "name": "stdout"
        }
      ]
    },
    {
      "cell_type": "code",
      "metadata": {
        "id": "85u0aedR4jIW"
      },
      "source": [
        "root=\"/content/drive/MyDrive/IIMAS/aprendizaje profundo/proyecto\""
      ],
      "execution_count": 4,
      "outputs": []
    },
    {
      "cell_type": "code",
      "metadata": {
        "colab": {
          "base_uri": "https://localhost:8080/",
          "height": 419
        },
        "id": "CPhWezHsgDa1",
        "outputId": "1dad14b9-634d-456b-a121-59a6879b55f8"
      },
      "source": [
        "df=pd.read_csv(path.join(root,\"spa.txt\"),sep=\"\\t\", header=None)\n",
        "df.drop(2,inplace=True,axis=1)\n",
        "df.dropna(inplace=True)\n",
        "df.columns=[\"English\",\"Spanish\"]\n",
        "df=df[[\"Spanish\",\"English\"]]\n",
        "df= df.sample(frac=1).reset_index(drop=True)\n",
        "df"
      ],
      "execution_count": 5,
      "outputs": [
        {
          "output_type": "execute_result",
          "data": {
            "text/html": [
              "<div>\n",
              "<style scoped>\n",
              "    .dataframe tbody tr th:only-of-type {\n",
              "        vertical-align: middle;\n",
              "    }\n",
              "\n",
              "    .dataframe tbody tr th {\n",
              "        vertical-align: top;\n",
              "    }\n",
              "\n",
              "    .dataframe thead th {\n",
              "        text-align: right;\n",
              "    }\n",
              "</style>\n",
              "<table border=\"1\" class=\"dataframe\">\n",
              "  <thead>\n",
              "    <tr style=\"text-align: right;\">\n",
              "      <th></th>\n",
              "      <th>Spanish</th>\n",
              "      <th>English</th>\n",
              "    </tr>\n",
              "  </thead>\n",
              "  <tbody>\n",
              "    <tr>\n",
              "      <th>0</th>\n",
              "      <td>Me gustó tu idea y la adopté.</td>\n",
              "      <td>I liked your idea and adopted it.</td>\n",
              "    </tr>\n",
              "    <tr>\n",
              "      <th>1</th>\n",
              "      <td>Tom está muy disgustado por esto.</td>\n",
              "      <td>Tom is very upset about this.</td>\n",
              "    </tr>\n",
              "    <tr>\n",
              "      <th>2</th>\n",
              "      <td>¿Podría sacarme una foto, por favor?</td>\n",
              "      <td>Would you please take my picture?</td>\n",
              "    </tr>\n",
              "    <tr>\n",
              "      <th>3</th>\n",
              "      <td>Él es uno de mis vecinos.</td>\n",
              "      <td>He is one of my neighbours.</td>\n",
              "    </tr>\n",
              "    <tr>\n",
              "      <th>4</th>\n",
              "      <td>Parece como si hubiese estado enfermo.</td>\n",
              "      <td>He looks as if he had been ill.</td>\n",
              "    </tr>\n",
              "    <tr>\n",
              "      <th>...</th>\n",
              "      <td>...</td>\n",
              "      <td>...</td>\n",
              "    </tr>\n",
              "    <tr>\n",
              "      <th>128079</th>\n",
              "      <td>La dama se quedó callada.</td>\n",
              "      <td>The lady remained silent.</td>\n",
              "    </tr>\n",
              "    <tr>\n",
              "      <th>128080</th>\n",
              "      <td>Nos gustaría distribuir su producto en Japón.</td>\n",
              "      <td>We would like to distribute your product in Ja...</td>\n",
              "    </tr>\n",
              "    <tr>\n",
              "      <th>128081</th>\n",
              "      <td>Puede empezar ahora mismo.</td>\n",
              "      <td>You can start right now.</td>\n",
              "    </tr>\n",
              "    <tr>\n",
              "      <th>128082</th>\n",
              "      <td>Él conoce a mucha gente.</td>\n",
              "      <td>He knows a lot of people.</td>\n",
              "    </tr>\n",
              "    <tr>\n",
              "      <th>128083</th>\n",
              "      <td>Ellos escribieron juntos esa canción.</td>\n",
              "      <td>They wrote that song together.</td>\n",
              "    </tr>\n",
              "  </tbody>\n",
              "</table>\n",
              "<p>128084 rows × 2 columns</p>\n",
              "</div>"
            ],
            "text/plain": [
              "                                              Spanish                                            English\n",
              "0                       Me gustó tu idea y la adopté.                  I liked your idea and adopted it.\n",
              "1                   Tom está muy disgustado por esto.                      Tom is very upset about this.\n",
              "2                ¿Podría sacarme una foto, por favor?                  Would you please take my picture?\n",
              "3                           Él es uno de mis vecinos.                        He is one of my neighbours.\n",
              "4              Parece como si hubiese estado enfermo.                    He looks as if he had been ill.\n",
              "...                                               ...                                                ...\n",
              "128079                      La dama se quedó callada.                          The lady remained silent.\n",
              "128080  Nos gustaría distribuir su producto en Japón.  We would like to distribute your product in Ja...\n",
              "128081                     Puede empezar ahora mismo.                           You can start right now.\n",
              "128082                       Él conoce a mucha gente.                          He knows a lot of people.\n",
              "128083          Ellos escribieron juntos esa canción.                     They wrote that song together.\n",
              "\n",
              "[128084 rows x 2 columns]"
            ]
          },
          "metadata": {
            "tags": []
          },
          "execution_count": 5
        }
      ]
    },
    {
      "cell_type": "code",
      "metadata": {
        "id": "dCIGpMgIiN4_"
      },
      "source": [
        "def clean(doc):\n",
        "    exclude = set(string.punctuation + '¡' + '¿') \n",
        "    doc = doc.lower()\n",
        "    doc = doc.replace(\"i'm\", \"i am\")\n",
        "    doc = doc.replace(\"you're\", \"you are\")\n",
        "    doc = doc.replace(\"he's\", \"he is\")\n",
        "    doc = doc.replace(\"it's\", \"it is\")\n",
        "    doc = doc.replace(\"she's\", \"she is\")\n",
        "    doc = doc.replace(\"we're\", \"we are\")\n",
        "    doc = doc.replace(\"'ve\", \" have\")\n",
        "    doc = doc.replace(\"'d\", \" would\")\n",
        "    doc = doc.replace(\"don't\", \"do not\")\n",
        "    doc = doc.replace(\"didn't\", \"did not\")\n",
        "    doc = doc.replace(\"doesn't\", \"does not\")\n",
        "    doc = doc.replace(\"'ll\", \" will\")\n",
        "    doc = doc.replace(\"won't\", \" will not\")\n",
        "    doc = doc.replace(\"what's\", \" what is\")\n",
        "    doc = doc.replace(\"shouldn't\", \" should not\")\n",
        "    doc = doc.replace(\"isn't\", \" is not\")\n",
        "    doc = doc.replace(\"aren't\", \" are not\")\n",
        "    doc = doc.replace(\"wouldn't\", \"would not\")\n",
        "    doc = doc.replace(\"couldn't\", \"could not\")\n",
        "    doc = doc.replace(\"there's\", \"there is\")\n",
        "    doc = doc.replace(\"that's\", \"that is\")\n",
        "    doc = doc.replace(\"hasn't\", \"has not\")\n",
        "    doc = doc.replace(\"haven't\", \"have not\")\n",
        "    punc_free = ''.join(ch for ch in doc if ch not in exclude)\n",
        "    return punc_free"
      ],
      "execution_count": 6,
      "outputs": []
    },
    {
      "cell_type": "code",
      "metadata": {
        "colab": {
          "base_uri": "https://localhost:8080/",
          "height": 419
        },
        "id": "n_8Lv9L5gMek",
        "outputId": "085e4150-3965-4e8e-b9af-5d04d6d5655b"
      },
      "source": [
        "df[\"English\"]= df[\"English\"].apply(clean)\n",
        "df[\"Spanish\"]= df[\"Spanish\"].apply(clean)\n",
        "df"
      ],
      "execution_count": 7,
      "outputs": [
        {
          "output_type": "execute_result",
          "data": {
            "text/html": [
              "<div>\n",
              "<style scoped>\n",
              "    .dataframe tbody tr th:only-of-type {\n",
              "        vertical-align: middle;\n",
              "    }\n",
              "\n",
              "    .dataframe tbody tr th {\n",
              "        vertical-align: top;\n",
              "    }\n",
              "\n",
              "    .dataframe thead th {\n",
              "        text-align: right;\n",
              "    }\n",
              "</style>\n",
              "<table border=\"1\" class=\"dataframe\">\n",
              "  <thead>\n",
              "    <tr style=\"text-align: right;\">\n",
              "      <th></th>\n",
              "      <th>Spanish</th>\n",
              "      <th>English</th>\n",
              "    </tr>\n",
              "  </thead>\n",
              "  <tbody>\n",
              "    <tr>\n",
              "      <th>0</th>\n",
              "      <td>me gustó tu idea y la adopté</td>\n",
              "      <td>i liked your idea and adopted it</td>\n",
              "    </tr>\n",
              "    <tr>\n",
              "      <th>1</th>\n",
              "      <td>tom está muy disgustado por esto</td>\n",
              "      <td>tom is very upset about this</td>\n",
              "    </tr>\n",
              "    <tr>\n",
              "      <th>2</th>\n",
              "      <td>podría sacarme una foto por favor</td>\n",
              "      <td>would you please take my picture</td>\n",
              "    </tr>\n",
              "    <tr>\n",
              "      <th>3</th>\n",
              "      <td>él es uno de mis vecinos</td>\n",
              "      <td>he is one of my neighbours</td>\n",
              "    </tr>\n",
              "    <tr>\n",
              "      <th>4</th>\n",
              "      <td>parece como si hubiese estado enfermo</td>\n",
              "      <td>he looks as if he had been ill</td>\n",
              "    </tr>\n",
              "    <tr>\n",
              "      <th>...</th>\n",
              "      <td>...</td>\n",
              "      <td>...</td>\n",
              "    </tr>\n",
              "    <tr>\n",
              "      <th>128079</th>\n",
              "      <td>la dama se quedó callada</td>\n",
              "      <td>the lady remained silent</td>\n",
              "    </tr>\n",
              "    <tr>\n",
              "      <th>128080</th>\n",
              "      <td>nos gustaría distribuir su producto en japón</td>\n",
              "      <td>we would like to distribute your product in japan</td>\n",
              "    </tr>\n",
              "    <tr>\n",
              "      <th>128081</th>\n",
              "      <td>puede empezar ahora mismo</td>\n",
              "      <td>you can start right now</td>\n",
              "    </tr>\n",
              "    <tr>\n",
              "      <th>128082</th>\n",
              "      <td>él conoce a mucha gente</td>\n",
              "      <td>he knows a lot of people</td>\n",
              "    </tr>\n",
              "    <tr>\n",
              "      <th>128083</th>\n",
              "      <td>ellos escribieron juntos esa canción</td>\n",
              "      <td>they wrote that song together</td>\n",
              "    </tr>\n",
              "  </tbody>\n",
              "</table>\n",
              "<p>128084 rows × 2 columns</p>\n",
              "</div>"
            ],
            "text/plain": [
              "                                             Spanish                                            English\n",
              "0                       me gustó tu idea y la adopté                   i liked your idea and adopted it\n",
              "1                   tom está muy disgustado por esto                       tom is very upset about this\n",
              "2                  podría sacarme una foto por favor                   would you please take my picture\n",
              "3                           él es uno de mis vecinos                         he is one of my neighbours\n",
              "4              parece como si hubiese estado enfermo                     he looks as if he had been ill\n",
              "...                                              ...                                                ...\n",
              "128079                      la dama se quedó callada                           the lady remained silent\n",
              "128080  nos gustaría distribuir su producto en japón  we would like to distribute your product in japan\n",
              "128081                     puede empezar ahora mismo                            you can start right now\n",
              "128082                       él conoce a mucha gente                           he knows a lot of people\n",
              "128083          ellos escribieron juntos esa canción                      they wrote that song together\n",
              "\n",
              "[128084 rows x 2 columns]"
            ]
          },
          "metadata": {
            "tags": []
          },
          "execution_count": 7
        }
      ]
    },
    {
      "cell_type": "code",
      "metadata": {
        "colab": {
          "base_uri": "https://localhost:8080/"
        },
        "id": "gsjtccwIi3rP",
        "outputId": "fab1f0a8-581b-4425-bfee-bf8722fe453b"
      },
      "source": [
        "test_size=1000\n",
        "test_data=df.loc[:test_size-1]\n",
        "train_data, valid_data = train_test_split(df[test_size-1:], test_size=0.1, shuffle=True, random_state=28)\n",
        "\n",
        "print(train_data.shape)\n",
        "print(valid_data.shape)\n",
        "print(test_data.shape)\n",
        "\n",
        "test_data.to_csv(path.join(root, \"data\",\"es_en_test.csv\"),index=False)\n",
        "train_data.to_csv(path.join(root,\"data\", \"es_en_train.csv\"),index=False)\n",
        "valid_data.to_csv(path.join(root,\"data\", \"es_en_valid.csv\"),index=False)"
      ],
      "execution_count": 8,
      "outputs": [
        {
          "output_type": "stream",
          "text": [
            "(114376, 2)\n",
            "(12709, 2)\n",
            "(1000, 2)\n"
          ],
          "name": "stdout"
        }
      ]
    },
    {
      "cell_type": "code",
      "metadata": {
        "id": "57qwnpDYVCVF"
      },
      "source": [
        "import re\n",
        "WORD = re.compile(r'\\w+')\n",
        "def tokenizer(text):\n",
        "    return  WORD.findall(text.lower())"
      ],
      "execution_count": 5,
      "outputs": []
    },
    {
      "cell_type": "code",
      "metadata": {
        "id": "eZG0dEXxuRa_"
      },
      "source": [
        "def get_datasets(batch_size=128, embedding=False):\n",
        "    # Create the pytext's Field\n",
        "\n",
        "    source = Field(tokenize=tokenizer, init_token='<sos>', eos_token='<eos>', lower=True)\n",
        "    target = Field(tokenize=tokenizer, init_token='<sos>', eos_token='<eos>', lower=True)\n",
        "\n",
        "    # Splits the data in Train, Test and Validation data\n",
        "    fields = [('src', source), ('trg', target)]\n",
        "    train_data, valid_data, test_data = data.TabularDataset.splits(\n",
        "                                        path = path.join(root,\"data\"),\n",
        "                                        train = 'es_en_train.csv',\n",
        "                                        validation = 'es_en_valid.csv',\n",
        "                                        test = 'es_en_test.csv',\n",
        "                                        format = 'csv',\n",
        "                                        fields = fields,\n",
        "                                        skip_header = True)\n",
        "    # Build the vocabulary for both the language\n",
        "\n",
        "    if not embedding:\n",
        "      source.build_vocab(train_data)\n",
        "      target.build_vocab(train_data)     \n",
        "    else:\n",
        "      #\"glove.42B.300d\", 'glove.6B.100d'\n",
        "      source.build_vocab(train_data,vectors=embedding,unk_init=torch.Tensor.normal_)\n",
        "      target.build_vocab(train_data,vectors=embedding,unk_init=torch.Tensor.normal_)\n",
        "\n",
        "    # Create the Iterator using builtin Bucketing\n",
        "    train_iterator, valid_iterator, test_iterator = BucketIterator.splits((train_data, valid_data, test_data),\n",
        "                                                                          batch_size=batch_size,\n",
        "                                                                          sort_within_batch=True,\n",
        "                                                                          sort_key=lambda x: len(x.src),\n",
        "                                                                          device=device)\n",
        "    return train_iterator, valid_iterator, test_iterator, source, target"
      ],
      "execution_count": 6,
      "outputs": []
    },
    {
      "cell_type": "code",
      "metadata": {
        "id": "o0y8u2I_d3Qo"
      },
      "source": [
        "class Encoder(nn.Module):\n",
        "    def __init__(self, vocab_len, embedding_dim, hidden_dim, n_layers, dropout_prob):\n",
        "        super().__init__()\n",
        "        self.embedding = nn.Embedding(vocab_len, embedding_dim)\n",
        "        self.rnn = nn.LSTM(embedding_dim, hidden_dim, n_layers, dropout=dropout_prob)\n",
        "        self.dropout = nn.Dropout(dropout_prob)\n",
        "\n",
        "    def forward(self, input_batch):\n",
        "        embed = self.dropout(self.embedding(input_batch))\n",
        "        outputs, (hidden, cell) = self.rnn(embed)\n",
        "        return hidden, cell\n",
        "\n",
        "class OneStepDecoder(nn.Module):\n",
        "    def __init__(self, input_output_dim, embedding_dim, hidden_dim, n_layers, dropout_prob):\n",
        "        super().__init__()\n",
        "        # self.input_output_dim will be used later\n",
        "        self.input_output_dim = input_output_dim\n",
        "        self.embedding = nn.Embedding(input_output_dim, embedding_dim)\n",
        "        self.rnn = nn.LSTM(embedding_dim, hidden_dim, n_layers, dropout=dropout_prob)\n",
        "        self.fc = nn.Linear(hidden_dim, input_output_dim)\n",
        "        self.dropout = nn.Dropout(dropout_prob)\n",
        "\n",
        "    def forward(self, target_token, hidden, cell):\n",
        "        target_token = target_token.unsqueeze(0)\n",
        "        embedding_layer = self.dropout(self.embedding(target_token))\n",
        "        output, (hidden, cell) = self.rnn(embedding_layer, (hidden, cell))\n",
        "        linear = self.fc(output.squeeze(0))\n",
        "        return linear, hidden, cell\n",
        "\n",
        "\n",
        "class Decoder(nn.Module):\n",
        "    def __init__(self, one_step_decoder, device):\n",
        "        super().__init__()\n",
        "        self.one_step_decoder = one_step_decoder\n",
        "        self.device = device\n",
        "\n",
        "    def forward(self, target, hidden, cell, teacher_forcing_ratio=0.5):\n",
        "        target_len, batch_size = target.shape[0], target.shape[1]\n",
        "        target_vocab_size = self.one_step_decoder.input_output_dim\n",
        "        # Store the predictions in an array for loss calculations\n",
        "        predictions = torch.zeros(target_len, batch_size, target_vocab_size).to(self.device)\n",
        "        # Take the very first word token, which will be sos\n",
        "        input = target[0, :]\n",
        "\n",
        "        # Loop through all the time steps, starts from 1\n",
        "        for t in range(1, target_len):\n",
        "            predict, hidden, cell = self.one_step_decoder(input, hidden, cell)\n",
        "\n",
        "            predictions[t] = predict\n",
        "            input = predict.argmax(1)\n",
        "\n",
        "            # Teacher forcing\n",
        "            do_teacher_forcing = random.random() < teacher_forcing_ratio\n",
        "            input = target[t] if do_teacher_forcing else input\n",
        "\n",
        "        return predictions\n",
        "\n",
        "\n",
        "class EncoderDecoder(nn.Module):\n",
        "    def __init__(self, encoder, decoder):\n",
        "        super().__init__()\n",
        "\n",
        "        self.encoder = encoder\n",
        "        self.decoder = decoder\n",
        "\n",
        "    def forward(self, source, target, teacher_forcing_ratio=0.5):\n",
        "        hidden, cell = self.encoder(source)\n",
        "        outputs = self.decoder(target, hidden, cell, teacher_forcing_ratio)\n",
        "        return outputs"
      ],
      "execution_count": 7,
      "outputs": []
    },
    {
      "cell_type": "code",
      "metadata": {
        "id": "BsxPFSCj32zV"
      },
      "source": [
        "def create_model(source, target):    \n",
        "    # Instanciate the models\n",
        "    encoder = Encoder(len(source.vocab), embedding_dim, hidden_dim, n_layers=layers, dropout_prob=dropout)\n",
        "    one_step_decoder = OneStepDecoder(len(target.vocab), embedding_dim, hidden_dim, n_layers=layers, dropout_prob=dropout)\n",
        "    decoder = Decoder(one_step_decoder, device)\n",
        "\n",
        "    model = EncoderDecoder(encoder, decoder)\n",
        "    model = model.to(device)\n",
        "\n",
        "    # Define the optimizer\n",
        "    optimizer = optim.Adam(model.parameters())\n",
        "\n",
        "    # Makes sure the CrossEntropyLoss ignores the padding tokens.\n",
        "    TARGET_PAD_IDX = target.vocab.stoi[target.pad_token]\n",
        "    criterion = nn.CrossEntropyLoss(ignore_index=TARGET_PAD_IDX)\n",
        "\n",
        "    return model, optimizer, criterion\n",
        "\n",
        "\n",
        "def train(train_iterator, valid_iterator, source, target, save, epochs):\n",
        "    train_loss_values=[]\n",
        "    val_loss_values=[]\n",
        "    best_epoch=np.Inf\n",
        "    model, optimizer, criterion = create_model(source, target)\n",
        "    clip = 1\n",
        "\n",
        "    for epoch in range(1, epochs + 1):\n",
        "        pbar = tqdm(total=len(train_iterator), bar_format='{l_bar}{bar:10}{r_bar}{bar:-10b}', unit=' batches', ncols=200)\n",
        "\n",
        "        training_loss = []\n",
        "        # set training mode\n",
        "        model.train()\n",
        "\n",
        "        # Loop through the training batch\n",
        "        for i, batch in enumerate(train_iterator):\n",
        "            # Get the source and target tokens\n",
        "            src = batch.src\n",
        "            trg = batch.trg\n",
        "\n",
        "            optimizer.zero_grad()\n",
        "\n",
        "            # Forward pass\n",
        "            output = model(src, trg)\n",
        "\n",
        "            # reshape the output\n",
        "            output_dim = output.shape[-1]\n",
        "\n",
        "            # Discard the first token as this will always be 0\n",
        "            output = output[1:].view(-1, output_dim)\n",
        "\n",
        "            # Discard the sos token from target\n",
        "            trg = trg[1:].view(-1)\n",
        "\n",
        "            # Calculate the loss\n",
        "            loss = criterion(output, trg)\n",
        "\n",
        "            # back propagation\n",
        "            loss.backward()\n",
        "\n",
        "            # Gradient Clipping for stability\n",
        "            torch.nn.utils.clip_grad_norm_(model.parameters(), clip)\n",
        "\n",
        "            optimizer.step()\n",
        "\n",
        "            training_loss.append(loss.item())\n",
        "\n",
        "            pbar.set_postfix(\n",
        "                epoch=f\" {epoch}, train loss= {round(sum(training_loss) / len(training_loss), 4)}\", refresh=True)\n",
        "            pbar.update()\n",
        "\n",
        "        with torch.no_grad():\n",
        "            # Set the model to eval\n",
        "            model.eval()\n",
        "\n",
        "            validation_loss = []\n",
        "\n",
        "            # Loop through the validation batch\n",
        "            for i, batch in enumerate(valid_iterator):\n",
        "                src = batch.src\n",
        "                trg = batch.trg\n",
        "\n",
        "                # Forward pass\n",
        "                output = model(src, trg, 0)\n",
        "\n",
        "                output_dim = output.shape[-1]\n",
        "\n",
        "                output = output[1:].view(-1, output_dim)\n",
        "                trg = trg[1:].view(-1)\n",
        "\n",
        "                # Calculate Loss\n",
        "                loss = criterion(output, trg)\n",
        "\n",
        "                validation_loss.append(loss.item())\n",
        "\n",
        "        total_train_loss=round(sum(training_loss) / len(training_loss), 4)\n",
        "        total_val_loss=round(sum(validation_loss) / len(validation_loss), 4)\n",
        "        train_loss_values.append(total_train_loss)\n",
        "        val_loss_values.append(total_val_loss)\n",
        "\n",
        "        pbar.set_postfix(\n",
        "            epoch=f\" {epoch}, train loss= {total_train_loss}, val loss= {total_val_loss}\", refresh=False)\n",
        "        pbar.close()\n",
        "\n",
        "        if total_val_loss<best_epoch:\n",
        "          best_epoch=total_val_loss\n",
        "          checkpoint = {\n",
        "              'model_state_dict': model.state_dict(),\n",
        "              'source': source.vocab,\n",
        "              'target': target.vocab}\n",
        "        torch.save(checkpoint, path.join(root,\"models\",save))\n",
        "        \n",
        "    #Graficamos las perdidas\n",
        "    plt.plot(train_loss_values,label=\"Train\")\n",
        "    plt.plot(val_loss_values,label=\"Val\")\n",
        "    plt.legend()\n",
        "    plt.xticks(list(range(epochs)),list(range(1,epochs+1)))\n",
        "    plt.xlabel('Epoch')\n",
        "    plt.ylabel('Loss')\n",
        "    plt.show()\n",
        "    plot=pd.DataFrame({\"Train\":train_loss_values,\"Val\":val_loss_values})\n",
        "    plot.to_csv(path.join(root,\"perdidas\",f\"Losses_{save}\"),index=False)\n",
        "    return model"
      ],
      "execution_count": 8,
      "outputs": []
    },
    {
      "cell_type": "markdown",
      "metadata": {
        "id": "SrT7fOi76_cy"
      },
      "source": [
        "## Inferencia"
      ]
    },
    {
      "cell_type": "code",
      "metadata": {
        "id": "EzJ9i0E832zZ"
      },
      "source": [
        "def get_test_datasets(batch_size=128):\n",
        "\n",
        "    # Create the pytext's Field\n",
        "    source = Field(tokenize=tokenizer, init_token='<sos>', eos_token='<eos>', lower=True)\n",
        "    target = Field(tokenize=tokenizer, init_token='<sos>', eos_token='<eos>', lower=True)\n",
        "\n",
        "    fields = [('src', source), ('trg', target)]\n",
        "    test_data = data.TabularDataset(\n",
        "                                    path = path.join(root,\"data\",\"es_en_test.csv\"),\n",
        "                                    fields = fields,\n",
        "                                    format = 'csv',\n",
        "                                    skip_header = True)\n",
        "    return test_data\n",
        "\n",
        "\n",
        "def create_model_for_inference(source_vocab, target_vocab):\n",
        "\n",
        "    # Instanciate the models\n",
        "    encoder = Encoder(len(source_vocab), embedding_dim, hidden_dim, n_layers=layers, dropout_prob=dropout)\n",
        "\n",
        "    one_step_decoder = OneStepDecoder(len(target_vocab), embedding_dim, hidden_dim, n_layers=layers, dropout_prob=dropout)\n",
        "    decoder = Decoder(one_step_decoder, device)\n",
        "\n",
        "    model = EncoderDecoder(encoder, decoder)\n",
        "    model = model.to(device)\n",
        "\n",
        "    return model\n",
        "\n",
        "\n",
        "def load_models_and_test_data(file_name):\n",
        "    test_data = get_test_datasets()\n",
        "    checkpoint = torch.load(path.join(root,\"models\",file_name))\n",
        "    source_vocab = checkpoint['source']\n",
        "    target_vocab = checkpoint['target']\n",
        "    model = create_model_for_inference(source_vocab, target_vocab)\n",
        "    model.load_state_dict(checkpoint['model_state_dict'])\n",
        "\n",
        "    return model, source_vocab, target_vocab, test_data\n",
        "\n",
        "\n",
        "def predict(id, model, source_vocab, target_vocab, test_data, debug=False):\n",
        "    # src = vars(test_data.examples[id])['src']\n",
        "    # trg = vars(test_data.examples[id])['trg']\n",
        "    src = vars(test_data[id])['src']\n",
        "    trg = vars(test_data[id])['trg']\n",
        "\n",
        "    # Convert each source token to integer values using the vocabulary\n",
        "    tokens = ['<sos>'] + [token.lower() for token in src] + ['<eos>']\n",
        "    src_indexes = [source_vocab.stoi[token] for token in tokens]\n",
        "    src_tensor = torch.LongTensor(src_indexes).unsqueeze(1).to(device)\n",
        "\n",
        "    model.eval()\n",
        "\n",
        "    # Run the forward pass of the encoder\n",
        "    hidden, cell = model.encoder(src_tensor)\n",
        "\n",
        "    # Take the integer value of <sos> from the target vocabulary.\n",
        "    trg_index = [target_vocab.stoi['<sos>']]\n",
        "    next_token = torch.LongTensor(trg_index).to(device)\n",
        "\n",
        "    outputs = []\n",
        "    trg_indexes = []\n",
        "\n",
        "    with torch.no_grad():\n",
        "        # Use the hidden and cell vector of the Encoder and in loop\n",
        "        # run the forward pass of the OneStepDecoder until some specified\n",
        "        # step (say 50) or when <eos> has been generated by the model.\n",
        "        for _ in range(30):\n",
        "            output, hidden, cell = model.decoder.one_step_decoder(next_token, hidden, cell)\n",
        "\n",
        "            # Take the most probable word\n",
        "            next_token = output.argmax(1)\n",
        "\n",
        "            trg_indexes.append(next_token.item())\n",
        "\n",
        "            predicted = target_vocab.itos[output.argmax(1).item()]\n",
        "            if predicted == '<eos>':\n",
        "                break\n",
        "            else:\n",
        "                outputs.append(predicted)\n",
        "    if debug:\n",
        "        print(f\"\\nSource          =\",\" \".join(src) )\n",
        "        print(colored(f'Ground Truth    = {\" \".join(trg)}', 'green'))\n",
        "        print(colored(f'Predicted Label = {\" \".join(outputs)}', 'red'))\n",
        "\n",
        "    predicted_words = [target_vocab.itos[i] for i in trg_indexes]\n",
        "    return predicted_words\n",
        "\n",
        "\n",
        "def cal_bleu_score(dataset, model, source_vocab, target_vocab):\n",
        "    targets = []\n",
        "    predictions = []\n",
        "\n",
        "    for i in range(len(dataset)):\n",
        "        target = vars(test_data.examples[i])['trg']\n",
        "        predicted_words = predict(i, model, source_vocab, target_vocab, dataset)\n",
        "        predictions.append(predicted_words[1:-1])\n",
        "        targets.append([target])\n",
        "    print(f'\\nBLEU Score: {round(bleu_score(predictions, targets) * 100, 2)}')\n",
        "\n",
        "def show_prediction(model, source_vocab, target_vocab, test_data, n_examples=20):\n",
        "  for i in range (n_examples):\n",
        "    predict(i, model, source_vocab, target_vocab, test_data, debug=True)\n",
        "  cal_bleu_score(test_data, model, source_vocab, target_vocab)"
      ],
      "execution_count": 9,
      "outputs": []
    },
    {
      "cell_type": "markdown",
      "metadata": {
        "id": "2dWYG52O6ZR2"
      },
      "source": [
        "## Modelo 1"
      ]
    },
    {
      "cell_type": "markdown",
      "metadata": {
        "id": "z7CizXX_6eaB"
      },
      "source": [
        "#### Entrenamiento"
      ]
    },
    {
      "cell_type": "code",
      "metadata": {
        "colab": {
          "base_uri": "https://localhost:8080/",
          "height": 483
        },
        "id": "6mbmGytl46kc",
        "outputId": "5a32f73d-8f37-4e0c-dfa2-fcb8bfe9df52"
      },
      "source": [
        "%%time\n",
        "# Define the required dimensions and hyper parameters\n",
        "embedding_dim = 300\n",
        "hidden_dim = 1024\n",
        "dropout = 0.5\n",
        "layers = 2\n",
        "save = 'es_en_nmt-model-lstm-2L.pth'\n",
        "embedding=False\n",
        "train_iterator, valid_iterator, test_iterator, source, target = get_datasets(batch_size=300, embedding=embedding)\n",
        "model = train(train_iterator, valid_iterator, source, target, save, epochs=10)"
      ],
      "execution_count": 14,
      "outputs": [
        {
          "output_type": "stream",
          "text": [
            "100%|██████████| 382/382 [02:32<00:00,  2.50 batches/s, epoch=1, train loss= 4.7308, val loss= 4.1715]                                                                                                  \n",
            "100%|██████████| 382/382 [02:35<00:00,  2.46 batches/s, epoch=2, train loss= 3.5241, val loss= 3.4744]                                                                                                  \n",
            "100%|██████████| 382/382 [02:35<00:00,  2.46 batches/s, epoch=3, train loss= 2.912, val loss= 3.1044]                                                                                                   \n",
            "100%|██████████| 382/382 [02:35<00:00,  2.45 batches/s, epoch=4, train loss= 2.4923, val loss= 2.8268]                                                                                                  \n",
            "100%|██████████| 382/382 [02:35<00:00,  2.46 batches/s, epoch=5, train loss= 2.1822, val loss= 2.7013]                                                                                                  \n",
            "100%|██████████| 382/382 [02:35<00:00,  2.45 batches/s, epoch=6, train loss= 1.9618, val loss= 2.5785]                                                                                                  \n",
            "100%|██████████| 382/382 [02:35<00:00,  2.46 batches/s, epoch=7, train loss= 1.7641, val loss= 2.5613]                                                                                                  \n",
            "100%|██████████| 382/382 [02:35<00:00,  2.46 batches/s, epoch=8, train loss= 1.6162, val loss= 2.5194]                                                                                                  \n",
            "100%|██████████| 382/382 [02:35<00:00,  2.46 batches/s, epoch=9, train loss= 1.4983, val loss= 2.4944]                                                                                                  \n",
            "100%|██████████| 382/382 [02:35<00:00,  2.45 batches/s, epoch=10, train loss= 1.3972, val loss= 2.4483]                                                                                                 \n"
          ],
          "name": "stderr"
        },
        {
          "output_type": "display_data",
          "data": {
            "image/png": "[encoded data removed]",
            "text/plain": [
              "<Figure size 432x288 with 1 Axes>"
            ]
          },
          "metadata": {
            "tags": [],
            "needs_background": "light"
          }
        },
        {
          "output_type": "stream",
          "text": [
            "CPU times: user 25min 25s, sys: 26.4 s, total: 25min 51s\n",
            "Wall time: 26min 15s\n"
          ],
          "name": "stdout"
        }
      ]
    },
    {
      "cell_type": "markdown",
      "metadata": {
        "id": "RM8jrE246g1u"
      },
      "source": [
        "#### Inferencia"
      ]
    },
    {
      "cell_type": "code",
      "metadata": {
        "id": "vlJBrUpLKux8",
        "colab": {
          "base_uri": "https://localhost:8080/"
        },
        "outputId": "63055a82-7b51-4708-e46b-1ae927e763d5"
      },
      "source": [
        "embedding_dim = 300\n",
        "hidden_dim = 1024\n",
        "dropout = 0.5\n",
        "layers=2\n",
        "save='es_en_nmt-model-lstm-2L.pth'\n",
        "model, source_vocab, target_vocab, test_data = load_models_and_test_data(save)\n",
        "show_prediction(model, source_vocab, target_vocab, test_data, n_examples=20)"
      ],
      "execution_count": 16,
      "outputs": [
        {
          "output_type": "stream",
          "text": [
            "\n",
            "Source          = me gustó tu idea y la adopté\n",
            "\u001b[32mGround Truth    = i liked your idea and adopted it\u001b[0m\n",
            "\u001b[31mPredicted Label = i like your idea and the\u001b[0m\n",
            "\n",
            "Source          = tom está muy disgustado por esto\n",
            "\u001b[32mGround Truth    = tom is very upset about this\u001b[0m\n",
            "\u001b[31mPredicted Label = tom is very upset about this\u001b[0m\n",
            "\n",
            "Source          = podría sacarme una foto por favor\n",
            "\u001b[32mGround Truth    = would you please take my picture\u001b[0m\n",
            "\u001b[31mPredicted Label = could you send me a picture of me\u001b[0m\n",
            "\n",
            "Source          = él es uno de mis vecinos\n",
            "\u001b[32mGround Truth    = he is one of my neighbours\u001b[0m\n",
            "\u001b[31mPredicted Label = he is one of my neighbors\u001b[0m\n",
            "\n",
            "Source          = parece como si hubiese estado enfermo\n",
            "\u001b[32mGround Truth    = he looks as if he had been ill\u001b[0m\n",
            "\u001b[31mPredicted Label = it looks like if she was sick\u001b[0m\n",
            "\n",
            "Source          = nuestro frigorífico está estropeado\n",
            "\u001b[32mGround Truth    = our refrigerator is out of order\u001b[0m\n",
            "\u001b[31mPredicted Label = our fridge is broken\u001b[0m\n",
            "\n",
            "Source          = quiero que me hagas un favor\n",
            "\u001b[32mGround Truth    = i want you to do me a favor\u001b[0m\n",
            "\u001b[31mPredicted Label = i want you to ask me a favor favor\u001b[0m\n",
            "\n",
            "Source          = de verdad que no lo sabías\n",
            "\u001b[32mGround Truth    = did you really not know that\u001b[0m\n",
            "\u001b[31mPredicted Label = do you really not know that\u001b[0m\n",
            "\n",
            "Source          = mi madre está preparando el desayuno\n",
            "\u001b[32mGround Truth    = my mother is cooking breakfast\u001b[0m\n",
            "\u001b[31mPredicted Label = my mother is preparing breakfast\u001b[0m\n",
            "\n",
            "Source          = este libro merece la pena releer\n",
            "\u001b[32mGround Truth    = this book is worth reading twice\u001b[0m\n",
            "\u001b[31mPredicted Label = this book is worth reading\u001b[0m\n",
            "\n",
            "Source          = deberías de cortarte el cabello\n",
            "\u001b[32mGround Truth    = you should get your hair cut\u001b[0m\n",
            "\u001b[31mPredicted Label = you should take up the puzzle\u001b[0m\n",
            "\n",
            "Source          = tom recomendó a mary\n",
            "\u001b[32mGround Truth    = tom recommended mary\u001b[0m\n",
            "\u001b[31mPredicted Label = tom encouraged mary\u001b[0m\n",
            "\n",
            "Source          = tom espera que mary le ayude\n",
            "\u001b[32mGround Truth    = tom hopes that mary will help him\u001b[0m\n",
            "\u001b[31mPredicted Label = tom hopes mary will help him\u001b[0m\n",
            "\n",
            "Source          = tom se fue a dormir a medianoche\n",
            "\u001b[32mGround Truth    = tom went to bed at midnight\u001b[0m\n",
            "\u001b[31mPredicted Label = tom went to bed to sleep\u001b[0m\n",
            "\n",
            "Source          = a lo mejor es mi culpa\n",
            "\u001b[32mGround Truth    = it is probably my fault\u001b[0m\n",
            "\u001b[31mPredicted Label = maybe is my fault\u001b[0m\n",
            "\n",
            "Source          = es difícil hablar de tus sentimientos\n",
            "\u001b[32mGround Truth    = it is hard to talk about your feelings\u001b[0m\n",
            "\u001b[31mPredicted Label = it is difficult to talk to your feelings\u001b[0m\n",
            "\n",
            "Source          = tom dio con el bug\n",
            "\u001b[32mGround Truth    = tom found the bug\u001b[0m\n",
            "\u001b[31mPredicted Label = tom nodded the bug\u001b[0m\n",
            "\n",
            "Source          = sabes conducir\n",
            "\u001b[32mGround Truth    = can you drive a car\u001b[0m\n",
            "\u001b[31mPredicted Label = do you know how to drive a car\u001b[0m\n",
            "\n",
            "Source          = estoy sorprendido de su rápido progreso en inglés\n",
            "\u001b[32mGround Truth    = i am amazed at his rapid progress in english\u001b[0m\n",
            "\u001b[31mPredicted Label = i am ashamed of her english in english english\u001b[0m\n",
            "\n",
            "Source          = tom fue estrangulado\n",
            "\u001b[32mGround Truth    = tom was strangled\u001b[0m\n",
            "\u001b[31mPredicted Label = tom was framed\u001b[0m\n",
            "\n",
            "BLEU Score: 27.75\n"
          ],
          "name": "stdout"
        }
      ]
    },
    {
      "cell_type": "markdown",
      "metadata": {
        "id": "kLThj8Qf6kOc"
      },
      "source": [
        "## Modelo 2"
      ]
    },
    {
      "cell_type": "markdown",
      "metadata": {
        "id": "nLeJxtWB6mQh"
      },
      "source": [
        "#### Entrenamiento"
      ]
    },
    {
      "cell_type": "code",
      "metadata": {
        "id": "_eITAqoE6rfE",
        "colab": {
          "base_uri": "https://localhost:8080/",
          "height": 483
        },
        "outputId": "f169ec25-a894-4003-fc65-6291b698f61e"
      },
      "source": [
        "%%time\n",
        "# Define the required dimensions and hyper parameters\n",
        "embedding_dim = 300\n",
        "hidden_dim = 1024\n",
        "dropout = 0.5\n",
        "layers = 3\n",
        "save = 'es_en_nmt-model-lstm-3L.pth'\n",
        "embedding=False\n",
        "train_iterator, valid_iterator, test_iterator, source, target = get_datasets(batch_size=300, embedding=embedding)\n",
        "model = train(train_iterator, valid_iterator, source, target, save, epochs=10)"
      ],
      "execution_count": 17,
      "outputs": [
        {
          "output_type": "stream",
          "text": [
            "100%|██████████| 382/382 [03:10<00:00,  2.00 batches/s, epoch=1, train loss= 5.1213, val loss= 4.7292]                                                                                                  \n",
            "100%|██████████| 382/382 [03:10<00:00,  2.01 batches/s, epoch=2, train loss= 4.0837, val loss= 3.9851]                                                                                                  \n",
            "100%|██████████| 382/382 [03:11<00:00,  2.00 batches/s, epoch=3, train loss= 3.4205, val loss= 3.5305]                                                                                                  \n",
            "100%|██████████| 382/382 [03:10<00:00,  2.01 batches/s, epoch=4, train loss= 2.9885, val loss= 3.2664]                                                                                                  \n",
            "100%|██████████| 382/382 [03:10<00:00,  2.00 batches/s, epoch=5, train loss= 2.6574, val loss= 3.0969]                                                                                                  \n",
            "100%|██████████| 382/382 [03:11<00:00,  1.99 batches/s, epoch=6, train loss= 2.4096, val loss= 2.9706]                                                                                                  \n",
            "100%|██████████| 382/382 [03:11<00:00,  2.00 batches/s, epoch=7, train loss= 2.2054, val loss= 2.8359]                                                                                                  \n",
            "100%|██████████| 382/382 [03:11<00:00,  2.00 batches/s, epoch=8, train loss= 2.0368, val loss= 2.7856]                                                                                                  \n",
            "100%|██████████| 382/382 [03:10<00:00,  2.00 batches/s, epoch=9, train loss= 1.8883, val loss= 2.7368]                                                                                                  \n",
            "100%|██████████| 382/382 [03:10<00:00,  2.00 batches/s, epoch=10, train loss= 1.7536, val loss= 2.6778]                                                                                                 \n"
          ],
          "name": "stderr"
        },
        {
          "output_type": "display_data",
          "data": {
            "image/png": "[encoded data removed]",
            "text/plain": [
              "<Figure size 432x288 with 1 Axes>"
            ]
          },
          "metadata": {
            "tags": [],
            "needs_background": "light"
          }
        },
        {
          "output_type": "stream",
          "text": [
            "CPU times: user 31min 17s, sys: 28.9 s, total: 31min 46s\n",
            "Wall time: 32min 5s\n"
          ],
          "name": "stdout"
        }
      ]
    },
    {
      "cell_type": "markdown",
      "metadata": {
        "id": "ABTxrziQ6omZ"
      },
      "source": [
        "#### Inferencia"
      ]
    },
    {
      "cell_type": "code",
      "metadata": {
        "id": "XcSY8Pv10FKT",
        "colab": {
          "base_uri": "https://localhost:8080/"
        },
        "outputId": "3eff9ec6-a32e-4107-c459-e1bf9160d66a"
      },
      "source": [
        "embedding_dim = 300\n",
        "hidden_dim = 1024\n",
        "dropout = 0.5\n",
        "layers=3\n",
        "save='es_en_nmt-model-lstm-3L.pth'\n",
        "model, source_vocab, target_vocab, test_data = load_models_and_test_data(save)\n",
        "show_prediction(model, source_vocab, target_vocab, test_data, n_examples=20)"
      ],
      "execution_count": 18,
      "outputs": [
        {
          "output_type": "stream",
          "text": [
            "\n",
            "Source          = me gustó tu idea y la adopté\n",
            "\u001b[32mGround Truth    = i liked your idea and adopted it\u001b[0m\n",
            "\u001b[31mPredicted Label = i like your name and the the first way\u001b[0m\n",
            "\n",
            "Source          = tom está muy disgustado por esto\n",
            "\u001b[32mGround Truth    = tom is very upset about this\u001b[0m\n",
            "\u001b[31mPredicted Label = tom is very busy about this\u001b[0m\n",
            "\n",
            "Source          = podría sacarme una foto por favor\n",
            "\u001b[32mGround Truth    = would you please take my picture\u001b[0m\n",
            "\u001b[31mPredicted Label = could you please send a photo\u001b[0m\n",
            "\n",
            "Source          = él es uno de mis vecinos\n",
            "\u001b[32mGround Truth    = he is one of my neighbours\u001b[0m\n",
            "\u001b[31mPredicted Label = he is one of my neighbors\u001b[0m\n",
            "\n",
            "Source          = parece como si hubiese estado enfermo\n",
            "\u001b[32mGround Truth    = he looks as if he had been ill\u001b[0m\n",
            "\u001b[31mPredicted Label = it seems like if he had been ill\u001b[0m\n",
            "\n",
            "Source          = nuestro frigorífico está estropeado\n",
            "\u001b[32mGround Truth    = our refrigerator is out of order\u001b[0m\n",
            "\u001b[31mPredicted Label = our fridge is broken\u001b[0m\n",
            "\n",
            "Source          = quiero que me hagas un favor\n",
            "\u001b[32mGround Truth    = i want you to do me a favor\u001b[0m\n",
            "\u001b[31mPredicted Label = i want you to give me a favor\u001b[0m\n",
            "\n",
            "Source          = de verdad que no lo sabías\n",
            "\u001b[32mGround Truth    = did you really not know that\u001b[0m\n",
            "\u001b[31mPredicted Label = you really did not know that\u001b[0m\n",
            "\n",
            "Source          = mi madre está preparando el desayuno\n",
            "\u001b[32mGround Truth    = my mother is cooking breakfast\u001b[0m\n",
            "\u001b[31mPredicted Label = my mother is preparing breakfast\u001b[0m\n",
            "\n",
            "Source          = este libro merece la pena releer\n",
            "\u001b[32mGround Truth    = this book is worth reading twice\u001b[0m\n",
            "\u001b[31mPredicted Label = this book was made the\u001b[0m\n",
            "\n",
            "Source          = deberías de cortarte el cabello\n",
            "\u001b[32mGround Truth    = you should get your hair cut\u001b[0m\n",
            "\u001b[31mPredicted Label = you should take off the coat\u001b[0m\n",
            "\n",
            "Source          = tom recomendó a mary\n",
            "\u001b[32mGround Truth    = tom recommended mary\u001b[0m\n",
            "\u001b[31mPredicted Label = tom hit mary\u001b[0m\n",
            "\n",
            "Source          = tom espera que mary le ayude\n",
            "\u001b[32mGround Truth    = tom hopes that mary will help him\u001b[0m\n",
            "\u001b[31mPredicted Label = tom hopes mary mary help him\u001b[0m\n",
            "\n",
            "Source          = tom se fue a dormir a medianoche\n",
            "\u001b[32mGround Truth    = tom went to bed at midnight\u001b[0m\n",
            "\u001b[31mPredicted Label = tom went to bed\u001b[0m\n",
            "\n",
            "Source          = a lo mejor es mi culpa\n",
            "\u001b[32mGround Truth    = it is probably my fault\u001b[0m\n",
            "\u001b[31mPredicted Label = it is my fault my fault\u001b[0m\n",
            "\n",
            "Source          = es difícil hablar de tus sentimientos\n",
            "\u001b[32mGround Truth    = it is hard to talk about your feelings\u001b[0m\n",
            "\u001b[31mPredicted Label = it is difficult to talk to your people\u001b[0m\n",
            "\n",
            "Source          = tom dio con el bug\n",
            "\u001b[32mGround Truth    = tom found the bug\u001b[0m\n",
            "\u001b[31mPredicted Label = tom ran with the waitress\u001b[0m\n",
            "\n",
            "Source          = sabes conducir\n",
            "\u001b[32mGround Truth    = can you drive a car\u001b[0m\n",
            "\u001b[31mPredicted Label = do you know how to drive\u001b[0m\n",
            "\n",
            "Source          = estoy sorprendido de su rápido progreso en inglés\n",
            "\u001b[32mGround Truth    = i am amazed at his rapid progress in english\u001b[0m\n",
            "\u001b[31mPredicted Label = i am ashamed of his english in english english\u001b[0m\n",
            "\n",
            "Source          = tom fue estrangulado\n",
            "\u001b[32mGround Truth    = tom was strangled\u001b[0m\n",
            "\u001b[31mPredicted Label = tom was hospitalized\u001b[0m\n",
            "\n",
            "BLEU Score: 22.59\n"
          ],
          "name": "stdout"
        }
      ]
    },
    {
      "cell_type": "markdown",
      "metadata": {
        "id": "lYpaNym9FTlm"
      },
      "source": [
        "## Modelo 3\n",
        "### Transferencia de conocimiento\n"
      ]
    },
    {
      "cell_type": "markdown",
      "metadata": {
        "id": "YVGKbqbsFeWh"
      },
      "source": [
        "#### Entrenamiento"
      ]
    },
    {
      "cell_type": "code",
      "metadata": {
        "id": "ZhFn9gjFFWrH",
        "colab": {
          "base_uri": "https://localhost:8080/",
          "height": 483
        },
        "outputId": "9f22077e-e038-4a99-ff90-ec5695289273"
      },
      "source": [
        "%%time\n",
        "# Define the required dimensions and hyper parameters\n",
        "embedding_dim = 300\n",
        "hidden_dim = 1024\n",
        "dropout = 0.5\n",
        "layers = 2\n",
        "save = 'es_en_nmt-model-lstm-glove-2L.pth'\n",
        "embedding=\"glove.42B.300d\"\n",
        "train_iterator, valid_iterator, test_iterator, source, target = get_datasets(batch_size=300, embedding=embedding)\n",
        "model = train(train_iterator, valid_iterator, source, target, save, epochs=10)"
      ],
      "execution_count": 10,
      "outputs": [
        {
          "output_type": "stream",
          "text": [
            "100%|██████████| 382/382 [02:35<00:00,  2.46 batches/s, epoch=1, train loss= 4.727, val loss= 4.1896]                                                                                                   \n",
            "100%|██████████| 382/382 [02:35<00:00,  2.46 batches/s, epoch=2, train loss= 3.52, val loss= 3.468]                                                                                                     \n",
            "100%|██████████| 382/382 [02:35<00:00,  2.45 batches/s, epoch=3, train loss= 2.8953, val loss= 3.1]                                                                                                     \n",
            "100%|██████████| 382/382 [02:36<00:00,  2.45 batches/s, epoch=4, train loss= 2.4725, val loss= 2.8164]                                                                                                  \n",
            "100%|██████████| 382/382 [02:35<00:00,  2.45 batches/s, epoch=5, train loss= 2.163, val loss= 2.6804]                                                                                                   \n",
            "100%|██████████| 382/382 [02:36<00:00,  2.45 batches/s, epoch=6, train loss= 1.94, val loss= 2.5724]                                                                                                    \n",
            "100%|██████████| 382/382 [02:35<00:00,  2.45 batches/s, epoch=7, train loss= 1.7451, val loss= 2.5628]                                                                                                  \n",
            "100%|██████████| 382/382 [02:35<00:00,  2.45 batches/s, epoch=8, train loss= 1.5918, val loss= 2.5267]                                                                                                  \n",
            "100%|██████████| 382/382 [02:35<00:00,  2.46 batches/s, epoch=9, train loss= 1.4764, val loss= 2.4999]                                                                                                  \n",
            "100%|██████████| 382/382 [02:36<00:00,  2.45 batches/s, epoch=10, train loss= 1.3742, val loss= 2.4655]                                                                                                 \n"
          ],
          "name": "stderr"
        },
        {
          "output_type": "display_data",
          "data": {
            "image/png": "[encoded data removed]",
            "text/plain": [
              "<Figure size 432x288 with 1 Axes>"
            ]
          },
          "metadata": {
            "tags": [],
            "needs_background": "light"
          }
        },
        {
          "output_type": "stream",
          "text": [
            "CPU times: user 25min 32s, sys: 34.2 s, total: 26min 6s\n",
            "Wall time: 26min 25s\n"
          ],
          "name": "stdout"
        }
      ]
    },
    {
      "cell_type": "markdown",
      "metadata": {
        "id": "8JghVrXXFgeo"
      },
      "source": [
        "#### Inferencia"
      ]
    },
    {
      "cell_type": "code",
      "metadata": {
        "id": "JXl3OvaOFhYH",
        "colab": {
          "base_uri": "https://localhost:8080/"
        },
        "outputId": "02ea6c0c-8559-4816-e651-4eb345590952"
      },
      "source": [
        "embedding_dim = 300\n",
        "hidden_dim = 1024\n",
        "dropout = 0.5\n",
        "layers=2\n",
        "save='es_en_nmt-model-lstm-glove-2L.pth'\n",
        "model, source_vocab, target_vocab, test_data = load_models_and_test_data(save)\n",
        "show_prediction(model, source_vocab, target_vocab, test_data, n_examples=20)"
      ],
      "execution_count": 11,
      "outputs": [
        {
          "output_type": "stream",
          "text": [
            "\n",
            "Source          = me gustó tu idea y la adopté\n",
            "\u001b[32mGround Truth    = i liked your idea and adopted it\u001b[0m\n",
            "\u001b[31mPredicted Label = i like your idea and had the idea\u001b[0m\n",
            "\n",
            "Source          = tom está muy disgustado por esto\n",
            "\u001b[32mGround Truth    = tom is very upset about this\u001b[0m\n",
            "\u001b[31mPredicted Label = tom is very upset about this\u001b[0m\n",
            "\n",
            "Source          = podría sacarme una foto por favor\n",
            "\u001b[32mGround Truth    = would you please take my picture\u001b[0m\n",
            "\u001b[31mPredicted Label = could you please me a picture please\u001b[0m\n",
            "\n",
            "Source          = él es uno de mis vecinos\n",
            "\u001b[32mGround Truth    = he is one of my neighbours\u001b[0m\n",
            "\u001b[31mPredicted Label = he is one of my neighbors\u001b[0m\n",
            "\n",
            "Source          = parece como si hubiese estado enfermo\n",
            "\u001b[32mGround Truth    = he looks as if he had been ill\u001b[0m\n",
            "\u001b[31mPredicted Label = he seems like he been ill ill ill\u001b[0m\n",
            "\n",
            "Source          = nuestro frigorífico está estropeado\n",
            "\u001b[32mGround Truth    = our refrigerator is out of order\u001b[0m\n",
            "\u001b[31mPredicted Label = our fridge is broken\u001b[0m\n",
            "\n",
            "Source          = quiero que me hagas un favor\n",
            "\u001b[32mGround Truth    = i want you to do me a favor\u001b[0m\n",
            "\u001b[31mPredicted Label = i want you to give me a favor\u001b[0m\n",
            "\n",
            "Source          = de verdad que no lo sabías\n",
            "\u001b[32mGround Truth    = did you really not know that\u001b[0m\n",
            "\u001b[31mPredicted Label = did you really did not know it\u001b[0m\n",
            "\n",
            "Source          = mi madre está preparando el desayuno\n",
            "\u001b[32mGround Truth    = my mother is cooking breakfast\u001b[0m\n",
            "\u001b[31mPredicted Label = my mother is making breakfast breakfast\u001b[0m\n",
            "\n",
            "Source          = este libro merece la pena releer\n",
            "\u001b[32mGround Truth    = this book is worth reading twice\u001b[0m\n",
            "\u001b[31mPredicted Label = this book is worth the milky\u001b[0m\n",
            "\n",
            "Source          = deberías de cortarte el cabello\n",
            "\u001b[32mGround Truth    = you should get your hair cut\u001b[0m\n",
            "\u001b[31mPredicted Label = you should take off your belt\u001b[0m\n",
            "\n",
            "Source          = tom recomendó a mary\n",
            "\u001b[32mGround Truth    = tom recommended mary\u001b[0m\n",
            "\u001b[31mPredicted Label = tom despised mary\u001b[0m\n",
            "\n",
            "Source          = tom espera que mary le ayude\n",
            "\u001b[32mGround Truth    = tom hopes that mary will help him\u001b[0m\n",
            "\u001b[31mPredicted Label = tom hopes mary will help him\u001b[0m\n",
            "\n",
            "Source          = tom se fue a dormir a medianoche\n",
            "\u001b[32mGround Truth    = tom went to bed at midnight\u001b[0m\n",
            "\u001b[31mPredicted Label = tom went to bed early\u001b[0m\n",
            "\n",
            "Source          = a lo mejor es mi culpa\n",
            "\u001b[32mGround Truth    = it is probably my fault\u001b[0m\n",
            "\u001b[31mPredicted Label = it is my fault fault\u001b[0m\n",
            "\n",
            "Source          = es difícil hablar de tus sentimientos\n",
            "\u001b[32mGround Truth    = it is hard to talk about your feelings\u001b[0m\n",
            "\u001b[31mPredicted Label = it is hard to talk about your feelings\u001b[0m\n",
            "\n",
            "Source          = tom dio con el bug\n",
            "\u001b[32mGround Truth    = tom found the bug\u001b[0m\n",
            "\u001b[31mPredicted Label = tom ran with the gun\u001b[0m\n",
            "\n",
            "Source          = sabes conducir\n",
            "\u001b[32mGround Truth    = can you drive a car\u001b[0m\n",
            "\u001b[31mPredicted Label = do you know how to drive a car\u001b[0m\n",
            "\n",
            "Source          = estoy sorprendido de su rápido progreso en inglés\n",
            "\u001b[32mGround Truth    = i am amazed at his rapid progress in english\u001b[0m\n",
            "\u001b[31mPredicted Label = i am happy of her english in english english\u001b[0m\n",
            "\n",
            "Source          = tom fue estrangulado\n",
            "\u001b[32mGround Truth    = tom was strangled\u001b[0m\n",
            "\u001b[31mPredicted Label = tom was executed\u001b[0m\n",
            "\n",
            "BLEU Score: 27.98\n"
          ],
          "name": "stdout"
        }
      ]
    },
    {
      "cell_type": "markdown",
      "metadata": {
        "id": "68xoOl395Y7w"
      },
      "source": [
        "## Modelo 4"
      ]
    },
    {
      "cell_type": "code",
      "metadata": {
        "colab": {
          "base_uri": "https://localhost:8080/",
          "height": 483
        },
        "id": "tQclyC_HYCzj",
        "outputId": "2037cccf-250a-44f6-ed6d-180fbf3f2f11"
      },
      "source": [
        "%%time\n",
        "# Define the required dimensions and hyper parameters\n",
        "embedding_dim = 512\n",
        "hidden_dim = 1024\n",
        "dropout = 0.5\n",
        "layers = 2\n",
        "save = 'es_en_nmt-model-lstm-glove-2L-512.pth'\n",
        "embedding=False\n",
        "train_iterator, valid_iterator, test_iterator, source, target = get_datasets(batch_size=300, embedding=embedding)\n",
        "model = train(train_iterator, valid_iterator, source, target, save, epochs=10)"
      ],
      "execution_count": 10,
      "outputs": [
        {
          "output_type": "stream",
          "text": [
            "100%|██████████| 382/382 [02:41<00:00,  2.36 batches/s, epoch=1, train loss= 4.6104, val loss= 4.0175]                                                                                                  \n",
            "100%|██████████| 382/382 [02:41<00:00,  2.37 batches/s, epoch=2, train loss= 3.3474, val loss= 3.3244]                                                                                                  \n",
            "100%|██████████| 382/382 [02:41<00:00,  2.37 batches/s, epoch=3, train loss= 2.7393, val loss= 2.9849]                                                                                                  \n",
            "100%|██████████| 382/382 [02:41<00:00,  2.36 batches/s, epoch=4, train loss= 2.3332, val loss= 2.7208]                                                                                                  \n",
            "100%|██████████| 382/382 [02:41<00:00,  2.37 batches/s, epoch=5, train loss= 2.0372, val loss= 2.6086]                                                                                                  \n",
            "100%|██████████| 382/382 [02:42<00:00,  2.36 batches/s, epoch=6, train loss= 1.8305, val loss= 2.5006]                                                                                                  \n",
            "100%|██████████| 382/382 [02:41<00:00,  2.36 batches/s, epoch=7, train loss= 1.6488, val loss= 2.4801]                                                                                                  \n",
            "100%|██████████| 382/382 [02:41<00:00,  2.36 batches/s, epoch=8, train loss= 1.5061, val loss= 2.4579]                                                                                                  \n",
            "100%|██████████| 382/382 [02:41<00:00,  2.37 batches/s, epoch=9, train loss= 1.399, val loss= 2.441]                                                                                                    \n",
            "100%|██████████| 382/382 [02:41<00:00,  2.36 batches/s, epoch=10, train loss= 1.3039, val loss= 2.417]                                                                                                  \n"
          ],
          "name": "stderr"
        },
        {
          "output_type": "display_data",
          "data": {
            "image/png": "[encoded data removed]",
            "text/plain": [
              "<Figure size 432x288 with 1 Axes>"
            ]
          },
          "metadata": {
            "tags": [],
            "needs_background": "light"
          }
        },
        {
          "output_type": "stream",
          "text": [
            "CPU times: user 26min 22s, sys: 31.8 s, total: 26min 54s\n",
            "Wall time: 27min 15s\n"
          ],
          "name": "stdout"
        }
      ]
    },
    {
      "cell_type": "code",
      "metadata": {
        "colab": {
          "base_uri": "https://localhost:8080/"
        },
        "id": "7T17qeq0rS-X",
        "outputId": "5d873915-735f-47f9-91d6-1c8806207ff5"
      },
      "source": [
        "embedding_dim = 512\n",
        "hidden_dim = 1024\n",
        "dropout = 0.5\n",
        "layers=2\n",
        "save='es_en_nmt-model-lstm-glove-2L-512.pth'\n",
        "model, source_vocab, target_vocab, test_data = load_models_and_test_data(save)\n",
        "show_prediction(model, source_vocab, target_vocab, test_data, n_examples=20)"
      ],
      "execution_count": 11,
      "outputs": [
        {
          "output_type": "stream",
          "text": [
            "\n",
            "Source          = me gustó tu idea y la adopté\n",
            "\u001b[32mGround Truth    = i liked your idea and adopted it\u001b[0m\n",
            "\u001b[31mPredicted Label = i like your idea and friendship\u001b[0m\n",
            "\n",
            "Source          = tom está muy disgustado por esto\n",
            "\u001b[32mGround Truth    = tom is very upset about this\u001b[0m\n",
            "\u001b[31mPredicted Label = tom is very upset about this\u001b[0m\n",
            "\n",
            "Source          = podría sacarme una foto por favor\n",
            "\u001b[32mGround Truth    = would you please take my picture\u001b[0m\n",
            "\u001b[31mPredicted Label = could you please send me a picture\u001b[0m\n",
            "\n",
            "Source          = él es uno de mis vecinos\n",
            "\u001b[32mGround Truth    = he is one of my neighbours\u001b[0m\n",
            "\u001b[31mPredicted Label = he is one of my neighbors\u001b[0m\n",
            "\n",
            "Source          = parece como si hubiese estado enfermo\n",
            "\u001b[32mGround Truth    = he looks as if he had been ill\u001b[0m\n",
            "\u001b[31mPredicted Label = he seems to if he has been ill\u001b[0m\n",
            "\n",
            "Source          = nuestro frigorífico está estropeado\n",
            "\u001b[32mGround Truth    = our refrigerator is out of order\u001b[0m\n",
            "\u001b[31mPredicted Label = our fridge is broken\u001b[0m\n",
            "\n",
            "Source          = quiero que me hagas un favor\n",
            "\u001b[32mGround Truth    = i want you to do me a favor\u001b[0m\n",
            "\u001b[31mPredicted Label = i want you to do me a favor\u001b[0m\n",
            "\n",
            "Source          = de verdad que no lo sabías\n",
            "\u001b[32mGround Truth    = did you really not know that\u001b[0m\n",
            "\u001b[31mPredicted Label = did you really not know that\u001b[0m\n",
            "\n",
            "Source          = mi madre está preparando el desayuno\n",
            "\u001b[32mGround Truth    = my mother is cooking breakfast\u001b[0m\n",
            "\u001b[31mPredicted Label = my mother is preparing breakfast ready\u001b[0m\n",
            "\n",
            "Source          = este libro merece la pena releer\n",
            "\u001b[32mGround Truth    = this book is worth reading twice\u001b[0m\n",
            "\u001b[31mPredicted Label = this book contains worth the punishment\u001b[0m\n",
            "\n",
            "Source          = deberías de cortarte el cabello\n",
            "\u001b[32mGround Truth    = you should get your hair cut\u001b[0m\n",
            "\u001b[31mPredicted Label = you should acknowledge the hair\u001b[0m\n",
            "\n",
            "Source          = tom recomendó a mary\n",
            "\u001b[32mGround Truth    = tom recommended mary\u001b[0m\n",
            "\u001b[31mPredicted Label = tom teased mary\u001b[0m\n",
            "\n",
            "Source          = tom espera que mary le ayude\n",
            "\u001b[32mGround Truth    = tom hopes that mary will help him\u001b[0m\n",
            "\u001b[31mPredicted Label = tom hopes mary will help him\u001b[0m\n",
            "\n",
            "Source          = tom se fue a dormir a medianoche\n",
            "\u001b[32mGround Truth    = tom went to bed at midnight\u001b[0m\n",
            "\u001b[31mPredicted Label = tom went to bed at midnight\u001b[0m\n",
            "\n",
            "Source          = a lo mejor es mi culpa\n",
            "\u001b[32mGround Truth    = it is probably my fault\u001b[0m\n",
            "\u001b[31mPredicted Label = it is my fault fault\u001b[0m\n",
            "\n",
            "Source          = es difícil hablar de tus sentimientos\n",
            "\u001b[32mGround Truth    = it is hard to talk about your feelings\u001b[0m\n",
            "\u001b[31mPredicted Label = it is hard to talk to your people\u001b[0m\n",
            "\n",
            "Source          = tom dio con el bug\n",
            "\u001b[32mGround Truth    = tom found the bug\u001b[0m\n",
            "\u001b[31mPredicted Label = tom gave the bug\u001b[0m\n",
            "\n",
            "Source          = sabes conducir\n",
            "\u001b[32mGround Truth    = can you drive a car\u001b[0m\n",
            "\u001b[31mPredicted Label = do you know how to drive a car\u001b[0m\n",
            "\n",
            "Source          = estoy sorprendido de su rápido progreso en inglés\n",
            "\u001b[32mGround Truth    = i am amazed at his rapid progress in english\u001b[0m\n",
            "\u001b[31mPredicted Label = i am fed up with his his in english\u001b[0m\n",
            "\n",
            "Source          = tom fue estrangulado\n",
            "\u001b[32mGround Truth    = tom was strangled\u001b[0m\n",
            "\u001b[31mPredicted Label = tom was executed\u001b[0m\n",
            "\n",
            "BLEU Score: 29.28\n"
          ],
          "name": "stdout"
        }
      ]
    },
    {
      "cell_type": "markdown",
      "metadata": {
        "id": "Li6f7nth5bRo"
      },
      "source": [
        "## Modelo 5"
      ]
    },
    {
      "cell_type": "code",
      "metadata": {
        "colab": {
          "base_uri": "https://localhost:8080/",
          "height": 483
        },
        "id": "5mtVz6S2rPeL",
        "outputId": "90b1a2d7-860a-46ac-c3c2-df85898dd0f4"
      },
      "source": [
        "%%time\n",
        "# Define the required dimensions and hyper parameters\n",
        "embedding_dim = 512\n",
        "hidden_dim = 1024\n",
        "dropout = 0.5\n",
        "layers = 2\n",
        "save = 'es_en_nmt-model-lstm-glove512-2L.pth'\n",
        "embedding=\"glove.42B.300d\"\n",
        "train_iterator, valid_iterator, test_iterator, source, target = get_datasets(batch_size=300, embedding=embedding)\n",
        "model = train(train_iterator, valid_iterator, source, target, save, epochs=10)"
      ],
      "execution_count": 12,
      "outputs": [
        {
          "output_type": "stream",
          "text": [
            "100%|██████████| 382/382 [02:47<00:00,  2.28 batches/s, epoch=1, train loss= 4.6819, val loss= 4.1252]                                                                                                  \n",
            "100%|██████████| 382/382 [02:48<00:00,  2.27 batches/s, epoch=2, train loss= 3.4019, val loss= 3.383]                                                                                                   \n",
            "100%|██████████| 382/382 [02:48<00:00,  2.27 batches/s, epoch=3, train loss= 2.7621, val loss= 2.977]                                                                                                   \n",
            "100%|██████████| 382/382 [02:47<00:00,  2.28 batches/s, epoch=4, train loss= 2.3492, val loss= 2.7793]                                                                                                  \n",
            "100%|██████████| 382/382 [02:48<00:00,  2.27 batches/s, epoch=5, train loss= 2.0494, val loss= 2.6225]                                                                                                  \n",
            "100%|██████████| 382/382 [02:48<00:00,  2.26 batches/s, epoch=6, train loss= 1.8355, val loss= 2.5595]                                                                                                  \n",
            "100%|██████████| 382/382 [02:48<00:00,  2.27 batches/s, epoch=7, train loss= 1.6608, val loss= 2.4787]                                                                                                  \n",
            "100%|██████████| 382/382 [02:48<00:00,  2.27 batches/s, epoch=8, train loss= 1.5256, val loss= 2.4453]                                                                                                  \n",
            "100%|██████████| 382/382 [02:48<00:00,  2.27 batches/s, epoch=9, train loss= 1.4065, val loss= 2.4293]                                                                                                  \n",
            "100%|██████████| 382/382 [02:48<00:00,  2.27 batches/s, epoch=10, train loss= 1.3056, val loss= 2.4179]                                                                                                 \n"
          ],
          "name": "stderr"
        },
        {
          "output_type": "display_data",
          "data": {
            "image/png": "[encoded data removed]",
            "text/plain": [
              "<Figure size 432x288 with 1 Axes>"
            ]
          },
          "metadata": {
            "tags": [],
            "needs_background": "light"
          }
        },
        {
          "output_type": "stream",
          "text": [
            "CPU times: user 26min 21s, sys: 1min 42s, total: 28min 4s\n",
            "Wall time: 28min 27s\n"
          ],
          "name": "stdout"
        }
      ]
    },
    {
      "cell_type": "code",
      "metadata": {
        "colab": {
          "base_uri": "https://localhost:8080/"
        },
        "id": "VEZDgCso5l2V",
        "outputId": "1ef3dbf1-0390-4ceb-f266-20566756ff79"
      },
      "source": [
        "embedding_dim = 512\n",
        "hidden_dim = 1024\n",
        "dropout = 0.5\n",
        "layers=2\n",
        "save='es_en_nmt-model-lstm-glove512-2L.pth'\n",
        "model, source_vocab, target_vocab, test_data = load_models_and_test_data(save)\n",
        "show_prediction(model, source_vocab, target_vocab, test_data, n_examples=20)"
      ],
      "execution_count": 13,
      "outputs": [
        {
          "output_type": "stream",
          "text": [
            "\n",
            "Source          = me gustó tu idea y la adopté\n",
            "\u001b[32mGround Truth    = i liked your idea and adopted it\u001b[0m\n",
            "\u001b[31mPredicted Label = i liked your idea and and the idea\u001b[0m\n",
            "\n",
            "Source          = tom está muy disgustado por esto\n",
            "\u001b[32mGround Truth    = tom is very upset about this\u001b[0m\n",
            "\u001b[31mPredicted Label = tom is very angry about this\u001b[0m\n",
            "\n",
            "Source          = podría sacarme una foto por favor\n",
            "\u001b[32mGround Truth    = would you please take my picture\u001b[0m\n",
            "\u001b[31mPredicted Label = could you send me a photo please\u001b[0m\n",
            "\n",
            "Source          = él es uno de mis vecinos\n",
            "\u001b[32mGround Truth    = he is one of my neighbours\u001b[0m\n",
            "\u001b[31mPredicted Label = he is one of my neighbors\u001b[0m\n",
            "\n",
            "Source          = parece como si hubiese estado enfermo\n",
            "\u001b[32mGround Truth    = he looks as if he had been ill\u001b[0m\n",
            "\u001b[31mPredicted Label = he seems like if he had been ill\u001b[0m\n",
            "\n",
            "Source          = nuestro frigorífico está estropeado\n",
            "\u001b[32mGround Truth    = our refrigerator is out of order\u001b[0m\n",
            "\u001b[31mPredicted Label = our fridge is broken\u001b[0m\n",
            "\n",
            "Source          = quiero que me hagas un favor\n",
            "\u001b[32mGround Truth    = i want you to do me a favor\u001b[0m\n",
            "\u001b[31mPredicted Label = i want you to call me a favor\u001b[0m\n",
            "\n",
            "Source          = de verdad que no lo sabías\n",
            "\u001b[32mGround Truth    = did you really not know that\u001b[0m\n",
            "\u001b[31mPredicted Label = did not really know that\u001b[0m\n",
            "\n",
            "Source          = mi madre está preparando el desayuno\n",
            "\u001b[32mGround Truth    = my mother is cooking breakfast\u001b[0m\n",
            "\u001b[31mPredicted Label = my mother is preparing breakfast\u001b[0m\n",
            "\n",
            "Source          = este libro merece la pena releer\n",
            "\u001b[32mGround Truth    = this book is worth reading twice\u001b[0m\n",
            "\u001b[31mPredicted Label = this book cost worth the\u001b[0m\n",
            "\n",
            "Source          = deberías de cortarte el cabello\n",
            "\u001b[32mGround Truth    = you should get your hair cut\u001b[0m\n",
            "\u001b[31mPredicted Label = you should take off the hair\u001b[0m\n",
            "\n",
            "Source          = tom recomendó a mary\n",
            "\u001b[32mGround Truth    = tom recommended mary\u001b[0m\n",
            "\u001b[31mPredicted Label = tom honked mary\u001b[0m\n",
            "\n",
            "Source          = tom espera que mary le ayude\n",
            "\u001b[32mGround Truth    = tom hopes that mary will help him\u001b[0m\n",
            "\u001b[31mPredicted Label = tom hopes mary will help him\u001b[0m\n",
            "\n",
            "Source          = tom se fue a dormir a medianoche\n",
            "\u001b[32mGround Truth    = tom went to bed at midnight\u001b[0m\n",
            "\u001b[31mPredicted Label = tom went to bed midnight midnight\u001b[0m\n",
            "\n",
            "Source          = a lo mejor es mi culpa\n",
            "\u001b[32mGround Truth    = it is probably my fault\u001b[0m\n",
            "\u001b[31mPredicted Label = it is my fault fault\u001b[0m\n",
            "\n",
            "Source          = es difícil hablar de tus sentimientos\n",
            "\u001b[32mGround Truth    = it is hard to talk about your feelings\u001b[0m\n",
            "\u001b[31mPredicted Label = he is difficult to speak your feelings\u001b[0m\n",
            "\n",
            "Source          = tom dio con el bug\n",
            "\u001b[32mGround Truth    = tom found the bug\u001b[0m\n",
            "\u001b[31mPredicted Label = tom hit the bug\u001b[0m\n",
            "\n",
            "Source          = sabes conducir\n",
            "\u001b[32mGround Truth    = can you drive a car\u001b[0m\n",
            "\u001b[31mPredicted Label = do you know how to drive a car\u001b[0m\n",
            "\n",
            "Source          = estoy sorprendido de su rápido progreso en inglés\n",
            "\u001b[32mGround Truth    = i am amazed at his rapid progress in english\u001b[0m\n",
            "\u001b[31mPredicted Label = i am ashamed of his driving in english\u001b[0m\n",
            "\n",
            "Source          = tom fue estrangulado\n",
            "\u001b[32mGround Truth    = tom was strangled\u001b[0m\n",
            "\u001b[31mPredicted Label = tom was humble\u001b[0m\n",
            "\n",
            "BLEU Score: 28.85\n"
          ],
          "name": "stdout"
        }
      ]
    },
    {
      "cell_type": "code",
      "metadata": {
        "id": "VsRImwh95uHB"
      },
      "source": [
        ""
      ],
      "execution_count": null,
      "outputs": []
    }
  ]
}