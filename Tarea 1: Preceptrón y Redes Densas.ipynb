{
 "cells": [
  {
   "source": [
    "## 1) Un perceptrón o neurona no es capaz de aproximar una función que separe en dos clases (naranja y azul) el conjunto de datos mostrado en la figura 1. \n",
    "\n",
    "## Propón una transformación aplicada a los atributos x1 y x2 de forma que puedan ser separados por solo un perceptrón. Justifica porque la transformación propuesta funciona. "
   ],
   "cell_type": "markdown",
   "metadata": {}
  },
  {
   "source": [
    "Los datos asemenjan una frontera de decision circular, si consideramos un circulo unitario podemos representar su ecuacion de forma vectorial\n",
    "$$\n",
    "g(\\vec{x}) =  w_1 x_1^2+ w_2 x_2^2+ w_0\n",
    "$$\n",
    "Donde:\n",
    "- $w_1=1$\n",
    "- $w_2=1$\n",
    "- $w_0=-radio$\n",
    "\n",
    "Esta ecuacion no es lineal en el espacio original de $x_1$ y $x_2$, podemos trasladar nuestros datos a otro tipo espacio donde la ecuacion del circulo sea lineal esto lo podemos hacer mediante una transformacion\n",
    "\n",
    "$$\n",
    "g(\\vec{x}) =  w_1 x_1^2 + w_2 x_2^2+ w_0 = w_1 X_1 + w_2 X_2+ w_0\n",
    "$$\n",
    "\n",
    "Se propone la siguiente transformacion para poder separar mejor nuestros datos\n",
    "\n",
    "$$\n",
    "\\phi(x_1,x_2)\\mapsto(x_1^2,x_2^2)\n",
    "$$"
   ],
   "cell_type": "markdown",
   "metadata": {}
  },
  {
   "cell_type": "markdown",
   "metadata": {},
   "source": [
    "## 2) Extiende el ejercicio 1c reglin.ipynb visto en clase para realizar regresión lineal con los dos atributos de entrada"
   ]
  },
  {
   "cell_type": "markdown",
   "metadata": {},
   "source": [
    "### Preparación"
   ]
  },
  {
   "cell_type": "code",
   "execution_count": 368,
   "metadata": {},
   "outputs": [],
   "source": [
    "# sistema de archivos\n",
    "import os\n",
    "# gráficas\n",
    "import matplotlib.pyplot as plt\n",
    "# csv\n",
    "import pandas as pd\n",
    "# redes neuronales\n",
    "import torch\n",
    "from torch import tensor\n",
    "from torch.nn.functional import mse_loss\n",
    "import torch.nn as nn\n",
    "import torch.nn.functional as F\n",
    "import torch.optim as optim\n",
    "import torchvision.transforms as T\n",
    "# procesamiento de imágenes\n",
    "from skimage import io\n",
    "# redes neuronales\n",
    "from torch.utils.data import DataLoader\n",
    "from torchvision.datasets import CIFAR10\n",
    "# inspección de arquitectura\n",
    "from torchinfo import summary\n",
    "# barras de progreso\n",
    "from tqdm.auto import trange"
   ]
  },
  {
   "cell_type": "code",
   "execution_count": 318,
   "metadata": {},
   "outputs": [],
   "source": [
    "def set_seed(seed=0):\n",
    "    \"\"\"Initializes pseudo-random number generators.\"\"\"\n",
    "    random.seed(seed)\n",
    "    np.random.seed(seed)\n",
    "    torch.manual_seed(seed)\n",
    "\n",
    "# reproducibilidad\n",
    "set_seed()"
   ]
  },
  {
   "cell_type": "markdown",
   "metadata": {},
   "source": [
    "### Auxiliares"
   ]
  },
  {
   "cell_type": "code",
   "execution_count": 3,
   "metadata": {},
   "outputs": [],
   "source": [
    "URL = 'https://raw.githubusercontent.com/bereml/iap/master/datos/califs.csv'\n",
    "base_dir = '../datos'\n",
    "filename = 'califs.csv'\n",
    "filepath = os.path.join(base_dir, filename)"
   ]
  },
  {
   "cell_type": "code",
   "execution_count": 370,
   "metadata": {},
   "outputs": [],
   "source": [
    "# directorio de datos\n",
    "DATA_DIR = '../datos'\n",
    "# tamaño del lote\n",
    "BATCH_SIZE = 32"
   ]
  },
  {
   "cell_type": "markdown",
   "metadata": {},
   "source": [
    "### Datos"
   ]
  },
  {
   "cell_type": "markdown",
   "metadata": {},
   "source": [
    "Descargamos los datos."
   ]
  },
  {
   "cell_type": "code",
   "execution_count": 4,
   "metadata": {},
   "outputs": [
    {
     "output_type": "stream",
     "name": "stdout",
     "text": [
      "mkdir: no se puede crear el directorio «../datos»: El fichero ya existe\n",
      "El fichero «../datos/califs.csv» ya está ahí, no se recupera.\n"
     ]
    }
   ],
   "source": [
    "! mkdir {base_dir}\n",
    "! wget -nc {URL} -O {filepath}"
   ]
  },
  {
   "cell_type": "markdown",
   "metadata": {},
   "source": [
    "Utilizamos para la lectura del csv e imprimimos los primeros 5 ejemplos."
   ]
  },
  {
   "cell_type": "code",
   "execution_count": 347,
   "metadata": {
    "scrolled": true
   },
   "outputs": [
    {
     "output_type": "execute_result",
     "data": {
      "text/plain": [
       "   prev  horas  calif\n",
       "0   5.6    8.2    5.1\n",
       "1   6.7    9.3    5.9\n",
       "2   5.1   10.0    5.4\n",
       "3   5.7   10.4    6.5\n",
       "4   7.1   10.4    6.7"
      ],
      "text/html": "<div>\n<style scoped>\n    .dataframe tbody tr th:only-of-type {\n        vertical-align: middle;\n    }\n\n    .dataframe tbody tr th {\n        vertical-align: top;\n    }\n\n    .dataframe thead th {\n        text-align: right;\n    }\n</style>\n<table border=\"1\" class=\"dataframe\">\n  <thead>\n    <tr style=\"text-align: right;\">\n      <th></th>\n      <th>prev</th>\n      <th>horas</th>\n      <th>calif</th>\n    </tr>\n  </thead>\n  <tbody>\n    <tr>\n      <th>0</th>\n      <td>5.6</td>\n      <td>8.2</td>\n      <td>5.1</td>\n    </tr>\n    <tr>\n      <th>1</th>\n      <td>6.7</td>\n      <td>9.3</td>\n      <td>5.9</td>\n    </tr>\n    <tr>\n      <th>2</th>\n      <td>5.1</td>\n      <td>10.0</td>\n      <td>5.4</td>\n    </tr>\n    <tr>\n      <th>3</th>\n      <td>5.7</td>\n      <td>10.4</td>\n      <td>6.5</td>\n    </tr>\n    <tr>\n      <th>4</th>\n      <td>7.1</td>\n      <td>10.4</td>\n      <td>6.7</td>\n    </tr>\n  </tbody>\n</table>\n</div>"
     },
     "metadata": {},
     "execution_count": 347
    }
   ],
   "source": [
    "df = pd.read_csv(filepath)\n",
    "df.head(5)"
   ]
  },
  {
   "cell_type": "markdown",
   "metadata": {},
   "source": [
    "Obtengamos el atributo y la salida:"
   ]
  },
  {
   "cell_type": "code",
   "execution_count": 44,
   "metadata": {},
   "outputs": [
    {
     "output_type": "stream",
     "name": "stdout",
     "text": [
      "torch.Size([50, 2])\n"
     ]
    },
    {
     "output_type": "execute_result",
     "data": {
      "text/plain": [
       "tensor([[ 5.6000,  8.2000],\n",
       "        [ 6.7000,  9.3000],\n",
       "        [ 5.1000, 10.0000],\n",
       "        [ 5.7000, 10.4000],\n",
       "        [ 7.1000, 10.4000]])"
      ]
     },
     "metadata": {},
     "execution_count": 44
    }
   ],
   "source": [
    "x = torch.tensor(df.iloc[:, :2].values)\n",
    "x = x.view(-1, 2).type(torch.float32)\n",
    "print(x.shape)\n",
    "x[:5]"
   ]
  },
  {
   "cell_type": "code",
   "execution_count": 45,
   "metadata": {},
   "outputs": [
    {
     "output_type": "stream",
     "name": "stdout",
     "text": [
      "torch.Size([50, 1])\n"
     ]
    },
    {
     "output_type": "execute_result",
     "data": {
      "text/plain": [
       "tensor([[5.1000],\n",
       "        [5.9000],\n",
       "        [5.4000],\n",
       "        [6.5000],\n",
       "        [6.7000]])"
      ]
     },
     "metadata": {},
     "execution_count": 45
    }
   ],
   "source": [
    "y_true = torch.tensor(df.iloc[:, 2].values)\n",
    "y_true = y_true.view(-1, 1).type(torch.float32)\n",
    "print(y_true.shape)\n",
    "y_true[:5]"
   ]
  },
  {
   "cell_type": "code",
   "execution_count": 46,
   "metadata": {},
   "outputs": [
    {
     "output_type": "execute_result",
     "data": {
      "text/plain": [
       "(50, 2)"
      ]
     },
     "metadata": {},
     "execution_count": 46
    }
   ],
   "source": [
    "# número de ejemplos y atributos\n",
    "m, d = x.shape\n",
    "m, d"
   ]
  },
  {
   "cell_type": "markdown",
   "metadata": {},
   "source": [
    "Grafiquemos para tener una idea de la distribución de los datos:"
   ]
  },
  {
   "cell_type": "code",
   "execution_count": 53,
   "metadata": {},
   "outputs": [
    {
     "output_type": "execute_result",
     "data": {
      "text/plain": [
       "<mpl_toolkits.mplot3d.art3d.Path3DCollection at 0x7f18224b03a0>"
      ]
     },
     "metadata": {},
     "execution_count": 53
    },
    {
     "output_type": "display_data",
     "data": {
      "text/plain": "<Figure size 432x288 with 1 Axes>",
      "image/svg+xml": "<?xml version=\"1.0\" encoding=\"utf-8\" standalone=\"no\"?>\n<!DOCTYPE svg PUBLIC \"-//W3C//DTD SVG 1.1//EN\"\n  \"http://www.w3.org/Graphics/SVG/1.1/DTD/svg11.dtd\">\n<!-- Created with matplotlib (https://matplotlib.org/) -->\n<svg height=\"241.129374pt\" version=\"1.1\" viewBox=\"0 0 243.632107 241.129374\" width=\"243.632107pt\" xmlns=\"http://www.w3.org/2000/svg\" xmlns:xlink=\"http://www.w3.org/1999/xlink\">\n <metadata>\n  <rdf:RDF xmlns:cc=\"http://creativecommons.org/ns#\" xmlns:dc=\"http://purl.org/dc/elements/1.1/\" xmlns:rdf=\"http://www.w3.org/1999/02/22-rdf-syntax-ns#\">\n   <cc:Work>\n    <dc:type rdf:resource=\"http://purl.org/dc/dcmitype/StillImage\"/>\n    <dc:date>2021-03-18T21:57:41.456659</dc:date>\n    <dc:format>image/svg+xml</dc:format>\n    <dc:creator>\n     <cc:Agent>\n      <dc:title>Matplotlib v3.3.4, https://matplotlib.org/</dc:title>\n     </cc:Agent>\n    </dc:creator>\n   </cc:Work>\n  </rdf:RDF>\n </metadata>\n <defs>\n  <style type=\"text/css\">*{stroke-linecap:butt;stroke-linejoin:round;}</style>\n </defs>\n <g id=\"figure_1\">\n  <g id=\"patch_1\">\n   <path d=\"M 0 241.129374 \nL 243.632107 241.129374 \nL 243.632107 0 \nL 0 0 \nz\n\" style=\"fill:none;\"/>\n  </g>\n  <g id=\"patch_2\">\n   <path d=\"M 7.2 224.64 \nL 224.64 224.64 \nL 224.64 7.2 \nL 7.2 7.2 \nz\n\" style=\"fill:#ffffff;\"/>\n  </g>\n  <g id=\"pane3d_1\">\n   <g id=\"patch_3\">\n    <path d=\"M 23.61822 171.026264 \nL 95.424009 110.837228 \nL 94.42584 24.033878 \nL 19.183773 78.942111 \n\" style=\"fill:#f2f2f2;opacity:0.5;stroke:#f2f2f2;stroke-linejoin:miter;\"/>\n   </g>\n  </g>\n  <g id=\"pane3d_2\">\n   <g id=\"patch_4\">\n    <path d=\"M 95.424009 110.837228 \nL 210.64668 144.32791 \nL 214.758571 54.534718 \nL 94.42584 24.033878 \n\" style=\"fill:#e6e6e6;opacity:0.5;stroke:#e6e6e6;stroke-linejoin:miter;\"/>\n   </g>\n  </g>\n  <g id=\"pane3d_3\">\n   <g id=\"patch_5\">\n    <path d=\"M 23.61822 171.026264 \nL 145.759879 210.91773 \nL 210.64668 144.32791 \nL 95.424009 110.837228 \n\" style=\"fill:#ececec;opacity:0.5;stroke:#ececec;stroke-linejoin:miter;\"/>\n   </g>\n  </g>\n  <g id=\"axis3d_1\">\n   <g id=\"line2d_1\">\n    <path d=\"M 23.61822 171.026264 \nL 145.759879 210.91773 \n\" style=\"fill:none;stroke:#000000;stroke-linecap:square;stroke-width:0.8;\"/>\n   </g>\n   <g id=\"Line3DCollection_1\">\n    <path d=\"M 27.570683 172.317139 \nL 99.168538 111.925615 \nL 98.328457 25.023078 \n\" style=\"fill:none;stroke:#b0b0b0;stroke-width:0.8;\"/>\n    <path d=\"M 44.901769 177.977472 \nL 115.575207 116.694386 \nL 115.4341 29.35886 \n\" style=\"fill:none;stroke:#b0b0b0;stroke-width:0.8;\"/>\n    <path d=\"M 62.50079 183.725312 \nL 132.214468 121.530762 \nL 132.792743 33.75877 \n\" style=\"fill:none;stroke:#b0b0b0;stroke-width:0.8;\"/>\n    <path d=\"M 80.374009 189.562705 \nL 149.091302 126.436191 \nL 150.410041 38.224241 \n\" style=\"fill:none;stroke:#b0b0b0;stroke-width:0.8;\"/>\n    <path d=\"M 98.527882 195.49176 \nL 166.210833 131.412163 \nL 168.291819 42.75675 \n\" style=\"fill:none;stroke:#b0b0b0;stroke-width:0.8;\"/>\n    <path d=\"M 116.969074 201.514653 \nL 183.578334 136.46021 \nL 186.444076 47.357819 \n\" style=\"fill:none;stroke:#b0b0b0;stroke-width:0.8;\"/>\n    <path d=\"M 135.704459 207.63363 \nL 201.199233 141.58191 \nL 204.872998 52.029013 \n\" style=\"fill:none;stroke:#b0b0b0;stroke-width:0.8;\"/>\n   </g>\n   <g id=\"xtick_1\">\n    <g id=\"line2d_2\">\n     <path d=\"M 28.194076 171.791318 \nL 26.321226 173.371034 \n\" style=\"fill:none;stroke:#000000;stroke-linecap:square;stroke-width:0.8;\"/>\n    </g>\n    <g id=\"text_1\">\n     <!-- 4 -->\n     <g transform=\"translate(16.849976 195.610209)scale(0.1 -0.1)\">\n      <defs>\n       <path d=\"M 37.796875 64.3125 \nL 12.890625 25.390625 \nL 37.796875 25.390625 \nz\nM 35.203125 72.90625 \nL 47.609375 72.90625 \nL 47.609375 25.390625 \nL 58.015625 25.390625 \nL 58.015625 17.1875 \nL 47.609375 17.1875 \nL 47.609375 0 \nL 37.796875 0 \nL 37.796875 17.1875 \nL 4.890625 17.1875 \nL 4.890625 26.703125 \nz\n\" id=\"DejaVuSans-52\"/>\n      </defs>\n      <use xlink:href=\"#DejaVuSans-52\"/>\n     </g>\n    </g>\n   </g>\n   <g id=\"xtick_2\">\n    <g id=\"line2d_3\">\n     <path d=\"M 45.517496 177.443556 \nL 43.667656 179.047608 \n\" style=\"fill:none;stroke:#000000;stroke-linecap:square;stroke-width:0.8;\"/>\n    </g>\n    <g id=\"text_2\">\n     <!-- 5 -->\n     <g transform=\"translate(34.202362 201.417411)scale(0.1 -0.1)\">\n      <defs>\n       <path d=\"M 10.796875 72.90625 \nL 49.515625 72.90625 \nL 49.515625 64.59375 \nL 19.828125 64.59375 \nL 19.828125 46.734375 \nQ 21.96875 47.46875 24.109375 47.828125 \nQ 26.265625 48.1875 28.421875 48.1875 \nQ 40.625 48.1875 47.75 41.5 \nQ 54.890625 34.8125 54.890625 23.390625 \nQ 54.890625 11.625 47.5625 5.09375 \nQ 40.234375 -1.421875 26.90625 -1.421875 \nQ 22.3125 -1.421875 17.546875 -0.640625 \nQ 12.796875 0.140625 7.71875 1.703125 \nL 7.71875 11.625 \nQ 12.109375 9.234375 16.796875 8.0625 \nQ 21.484375 6.890625 26.703125 6.890625 \nQ 35.15625 6.890625 40.078125 11.328125 \nQ 45.015625 15.765625 45.015625 23.390625 \nQ 45.015625 31 40.078125 35.4375 \nQ 35.15625 39.890625 26.703125 39.890625 \nQ 22.75 39.890625 18.8125 39.015625 \nQ 14.890625 38.140625 10.796875 36.28125 \nz\n\" id=\"DejaVuSans-53\"/>\n      </defs>\n      <use xlink:href=\"#DejaVuSans-53\"/>\n     </g>\n    </g>\n   </g>\n   <g id=\"xtick_3\">\n    <g id=\"line2d_4\">\n     <path d=\"M 63.108539 183.183113 \nL 61.282648 184.812069 \n\" style=\"fill:none;stroke:#000000;stroke-linecap:square;stroke-width:0.8;\"/>\n    </g>\n    <g id=\"text_3\">\n     <!-- 6 -->\n     <g transform=\"translate(51.824251 207.314807)scale(0.1 -0.1)\">\n      <defs>\n       <path d=\"M 33.015625 40.375 \nQ 26.375 40.375 22.484375 35.828125 \nQ 18.609375 31.296875 18.609375 23.390625 \nQ 18.609375 15.53125 22.484375 10.953125 \nQ 26.375 6.390625 33.015625 6.390625 \nQ 39.65625 6.390625 43.53125 10.953125 \nQ 47.40625 15.53125 47.40625 23.390625 \nQ 47.40625 31.296875 43.53125 35.828125 \nQ 39.65625 40.375 33.015625 40.375 \nz\nM 52.59375 71.296875 \nL 52.59375 62.3125 \nQ 48.875 64.0625 45.09375 64.984375 \nQ 41.3125 65.921875 37.59375 65.921875 \nQ 27.828125 65.921875 22.671875 59.328125 \nQ 17.53125 52.734375 16.796875 39.40625 \nQ 19.671875 43.65625 24.015625 45.921875 \nQ 28.375 48.1875 33.59375 48.1875 \nQ 44.578125 48.1875 50.953125 41.515625 \nQ 57.328125 34.859375 57.328125 23.390625 \nQ 57.328125 12.15625 50.6875 5.359375 \nQ 44.046875 -1.421875 33.015625 -1.421875 \nQ 20.359375 -1.421875 13.671875 8.265625 \nQ 6.984375 17.96875 6.984375 36.375 \nQ 6.984375 53.65625 15.1875 63.9375 \nQ 23.390625 74.21875 37.203125 74.21875 \nQ 40.921875 74.21875 44.703125 73.484375 \nQ 48.484375 72.75 52.59375 71.296875 \nz\n\" id=\"DejaVuSans-54\"/>\n      </defs>\n      <use xlink:href=\"#DejaVuSans-54\"/>\n     </g>\n    </g>\n   </g>\n   <g id=\"xtick_4\">\n    <g id=\"line2d_5\">\n     <path d=\"M 80.973455 189.012029 \nL 79.172487 190.666472 \n\" style=\"fill:none;stroke:#000000;stroke-linecap:square;stroke-width:0.8;\"/>\n    </g>\n    <g id=\"text_4\">\n     <!-- 7 -->\n     <g transform=\"translate(69.72197 213.304512)scale(0.1 -0.1)\">\n      <defs>\n       <path d=\"M 8.203125 72.90625 \nL 55.078125 72.90625 \nL 55.078125 68.703125 \nL 28.609375 0 \nL 18.3125 0 \nL 43.21875 64.59375 \nL 8.203125 64.59375 \nz\n\" id=\"DejaVuSans-55\"/>\n      </defs>\n      <use xlink:href=\"#DejaVuSans-55\"/>\n     </g>\n    </g>\n   </g>\n   <g id=\"xtick_5\">\n    <g id=\"line2d_6\">\n     <path d=\"M 99.11869 194.932406 \nL 97.343655 196.61294 \n\" style=\"fill:none;stroke:#000000;stroke-linecap:square;stroke-width:0.8;\"/>\n    </g>\n    <g id=\"text_5\">\n     <!-- 8 -->\n     <g transform=\"translate(87.902048 219.388713)scale(0.1 -0.1)\">\n      <defs>\n       <path d=\"M 31.78125 34.625 \nQ 24.75 34.625 20.71875 30.859375 \nQ 16.703125 27.09375 16.703125 20.515625 \nQ 16.703125 13.921875 20.71875 10.15625 \nQ 24.75 6.390625 31.78125 6.390625 \nQ 38.8125 6.390625 42.859375 10.171875 \nQ 46.921875 13.96875 46.921875 20.515625 \nQ 46.921875 27.09375 42.890625 30.859375 \nQ 38.875 34.625 31.78125 34.625 \nz\nM 21.921875 38.8125 \nQ 15.578125 40.375 12.03125 44.71875 \nQ 8.5 49.078125 8.5 55.328125 \nQ 8.5 64.0625 14.71875 69.140625 \nQ 20.953125 74.21875 31.78125 74.21875 \nQ 42.671875 74.21875 48.875 69.140625 \nQ 55.078125 64.0625 55.078125 55.328125 \nQ 55.078125 49.078125 51.53125 44.71875 \nQ 48 40.375 41.703125 38.8125 \nQ 48.828125 37.15625 52.796875 32.3125 \nQ 56.78125 27.484375 56.78125 20.515625 \nQ 56.78125 9.90625 50.3125 4.234375 \nQ 43.84375 -1.421875 31.78125 -1.421875 \nQ 19.734375 -1.421875 13.25 4.234375 \nQ 6.78125 9.90625 6.78125 20.515625 \nQ 6.78125 27.484375 10.78125 32.3125 \nQ 14.796875 37.15625 21.921875 38.8125 \nz\nM 18.3125 54.390625 \nQ 18.3125 48.734375 21.84375 45.5625 \nQ 25.390625 42.390625 31.78125 42.390625 \nQ 38.140625 42.390625 41.71875 45.5625 \nQ 45.3125 48.734375 45.3125 54.390625 \nQ 45.3125 60.0625 41.71875 63.234375 \nQ 38.140625 66.40625 31.78125 66.40625 \nQ 25.390625 66.40625 21.84375 63.234375 \nQ 18.3125 60.0625 18.3125 54.390625 \nz\n\" id=\"DejaVuSans-56\"/>\n      </defs>\n      <use xlink:href=\"#DejaVuSans-56\"/>\n     </g>\n    </g>\n   </g>\n   <g id=\"xtick_6\">\n    <g id=\"line2d_7\">\n     <path d=\"M 117.550893 200.946415 \nL 115.802843 202.653661 \n\" style=\"fill:none;stroke:#000000;stroke-linecap:square;stroke-width:0.8;\"/>\n    </g>\n    <g id=\"text_6\">\n     <!-- 9 -->\n     <g transform=\"translate(106.371219 225.569662)scale(0.1 -0.1)\">\n      <defs>\n       <path d=\"M 10.984375 1.515625 \nL 10.984375 10.5 \nQ 14.703125 8.734375 18.5 7.8125 \nQ 22.3125 6.890625 25.984375 6.890625 \nQ 35.75 6.890625 40.890625 13.453125 \nQ 46.046875 20.015625 46.78125 33.40625 \nQ 43.953125 29.203125 39.59375 26.953125 \nQ 35.25 24.703125 29.984375 24.703125 \nQ 19.046875 24.703125 12.671875 31.3125 \nQ 6.296875 37.9375 6.296875 49.421875 \nQ 6.296875 60.640625 12.9375 67.421875 \nQ 19.578125 74.21875 30.609375 74.21875 \nQ 43.265625 74.21875 49.921875 64.515625 \nQ 56.59375 54.828125 56.59375 36.375 \nQ 56.59375 19.140625 48.40625 8.859375 \nQ 40.234375 -1.421875 26.421875 -1.421875 \nQ 22.703125 -1.421875 18.890625 -0.6875 \nQ 15.09375 0.046875 10.984375 1.515625 \nz\nM 30.609375 32.421875 \nQ 37.25 32.421875 41.125 36.953125 \nQ 45.015625 41.5 45.015625 49.421875 \nQ 45.015625 57.28125 41.125 61.84375 \nQ 37.25 66.40625 30.609375 66.40625 \nQ 23.96875 66.40625 20.09375 61.84375 \nQ 16.21875 57.28125 16.21875 49.421875 \nQ 16.21875 41.5 20.09375 36.953125 \nQ 23.96875 32.421875 30.609375 32.421875 \nz\n\" id=\"DejaVuSans-57\"/>\n      </defs>\n      <use xlink:href=\"#DejaVuSans-57\"/>\n     </g>\n    </g>\n   </g>\n   <g id=\"xtick_7\">\n    <g id=\"line2d_8\">\n     <path d=\"M 136.276927 207.056294 \nL 134.556952 208.790895 \n\" style=\"fill:none;stroke:#000000;stroke-linecap:square;stroke-width:0.8;\"/>\n    </g>\n    <g id=\"text_7\">\n     <!-- 10 -->\n     <g transform=\"translate(121.955183 231.849686)scale(0.1 -0.1)\">\n      <defs>\n       <path d=\"M 12.40625 8.296875 \nL 28.515625 8.296875 \nL 28.515625 63.921875 \nL 10.984375 60.40625 \nL 10.984375 69.390625 \nL 28.421875 72.90625 \nL 38.28125 72.90625 \nL 38.28125 8.296875 \nL 54.390625 8.296875 \nL 54.390625 0 \nL 12.40625 0 \nz\n\" id=\"DejaVuSans-49\"/>\n       <path d=\"M 31.78125 66.40625 \nQ 24.171875 66.40625 20.328125 58.90625 \nQ 16.5 51.421875 16.5 36.375 \nQ 16.5 21.390625 20.328125 13.890625 \nQ 24.171875 6.390625 31.78125 6.390625 \nQ 39.453125 6.390625 43.28125 13.890625 \nQ 47.125 21.390625 47.125 36.375 \nQ 47.125 51.421875 43.28125 58.90625 \nQ 39.453125 66.40625 31.78125 66.40625 \nz\nM 31.78125 74.21875 \nQ 44.046875 74.21875 50.515625 64.515625 \nQ 56.984375 54.828125 56.984375 36.375 \nQ 56.984375 17.96875 50.515625 8.265625 \nQ 44.046875 -1.421875 31.78125 -1.421875 \nQ 19.53125 -1.421875 13.0625 8.265625 \nQ 6.59375 17.96875 6.59375 36.375 \nQ 6.59375 54.828125 13.0625 64.515625 \nQ 19.53125 74.21875 31.78125 74.21875 \nz\n\" id=\"DejaVuSans-48\"/>\n      </defs>\n      <use xlink:href=\"#DejaVuSans-49\"/>\n      <use x=\"63.623047\" xlink:href=\"#DejaVuSans-48\"/>\n     </g>\n    </g>\n   </g>\n  </g>\n  <g id=\"axis3d_2\">\n   <g id=\"line2d_9\">\n    <path d=\"M 210.64668 144.32791 \nL 145.759879 210.91773 \n\" style=\"fill:none;stroke:#000000;stroke-linecap:square;stroke-width:0.8;\"/>\n   </g>\n   <g id=\"Line3DCollection_2\">\n    <path d=\"M 22.092664 76.819335 \nL 26.384146 168.70781 \nL 148.269921 208.341809 \n\" style=\"fill:none;stroke:#b0b0b0;stroke-width:0.8;\"/>\n    <path d=\"M 33.445735 68.534381 \nL 37.187007 159.652638 \nL 158.065184 198.28946 \n\" style=\"fill:none;stroke:#b0b0b0;stroke-width:0.8;\"/>\n    <path d=\"M 44.509709 60.460397 \nL 47.726683 150.818072 \nL 167.60926 188.49489 \n\" style=\"fill:none;stroke:#b0b0b0;stroke-width:0.8;\"/>\n    <path d=\"M 55.295488 52.589426 \nL 58.012676 142.196149 \nL 176.91169 178.948309 \n\" style=\"fill:none;stroke:#b0b0b0;stroke-width:0.8;\"/>\n    <path d=\"M 65.813436 44.913907 \nL 68.054038 133.77928 \nL 185.981535 169.640416 \n\" style=\"fill:none;stroke:#b0b0b0;stroke-width:0.8;\"/>\n    <path d=\"M 76.073406 37.426648 \nL 77.859392 125.560238 \nL 194.827411 160.562371 \n\" style=\"fill:none;stroke:#b0b0b0;stroke-width:0.8;\"/>\n    <path d=\"M 86.084774 30.120808 \nL 87.436961 117.532129 \nL 203.457513 151.705764 \n\" style=\"fill:none;stroke:#b0b0b0;stroke-width:0.8;\"/>\n   </g>\n   <g id=\"xtick_8\">\n    <g id=\"line2d_10\">\n     <path d=\"M 147.242649 208.007768 \nL 150.327129 209.010758 \n\" style=\"fill:none;stroke:#000000;stroke-linecap:square;stroke-width:0.8;\"/>\n    </g>\n    <g id=\"text_8\">\n     <!-- 8 -->\n     <g transform=\"translate(158.003507 229.40219)scale(0.1 -0.1)\">\n      <use xlink:href=\"#DejaVuSans-56\"/>\n     </g>\n    </g>\n   </g>\n   <g id=\"xtick_9\">\n    <g id=\"line2d_11\">\n     <path d=\"M 157.047076 197.964038 \nL 160.104005 198.941137 \n\" style=\"fill:none;stroke:#000000;stroke-linecap:square;stroke-width:0.8;\"/>\n    </g>\n    <g id=\"text_9\">\n     <!-- 9 -->\n     <g transform=\"translate(167.638009 219.167575)scale(0.1 -0.1)\">\n      <use xlink:href=\"#DejaVuSans-57\"/>\n     </g>\n    </g>\n   </g>\n   <g id=\"xtick_10\">\n    <g id=\"line2d_12\">\n     <path d=\"M 166.600187 188.177757 \nL 169.629956 189.129956 \n\" style=\"fill:none;stroke:#000000;stroke-linecap:square;stroke-width:0.8;\"/>\n    </g>\n    <g id=\"text_10\">\n     <!-- 10 -->\n     <g transform=\"translate(173.844021 209.1956)scale(0.1 -0.1)\">\n      <use xlink:href=\"#DejaVuSans-49\"/>\n      <use x=\"63.623047\" xlink:href=\"#DejaVuSans-48\"/>\n     </g>\n    </g>\n   </g>\n   <g id=\"xtick_11\">\n    <g id=\"line2d_13\">\n     <path d=\"M 175.911523 178.639153 \nL 178.914518 179.567391 \n\" style=\"fill:none;stroke:#000000;stroke-linecap:square;stroke-width:0.8;\"/>\n    </g>\n    <g id=\"text_11\">\n     <!-- 11 -->\n     <g transform=\"translate(182.993438 199.476285)scale(0.1 -0.1)\">\n      <use xlink:href=\"#DejaVuSans-49\"/>\n      <use x=\"63.623047\" xlink:href=\"#DejaVuSans-49\"/>\n     </g>\n    </g>\n   </g>\n   <g id=\"xtick_12\">\n    <g id=\"line2d_14\">\n     <path d=\"M 184.990148 169.338941 \nL 187.966752 170.24411 \n\" style=\"fill:none;stroke:#000000;stroke-linecap:square;stroke-width:0.8;\"/>\n    </g>\n    <g id=\"text_12\">\n     <!-- 12 -->\n     <g transform=\"translate(191.913937 190.000146)scale(0.1 -0.1)\">\n      <defs>\n       <path d=\"M 19.1875 8.296875 \nL 53.609375 8.296875 \nL 53.609375 0 \nL 7.328125 0 \nL 7.328125 8.296875 \nQ 12.9375 14.109375 22.625 23.890625 \nQ 32.328125 33.6875 34.8125 36.53125 \nQ 39.546875 41.84375 41.421875 45.53125 \nQ 43.3125 49.21875 43.3125 52.78125 \nQ 43.3125 58.59375 39.234375 62.25 \nQ 35.15625 65.921875 28.609375 65.921875 \nQ 23.96875 65.921875 18.8125 64.3125 \nQ 13.671875 62.703125 7.8125 59.421875 \nL 7.8125 69.390625 \nQ 13.765625 71.78125 18.9375 73 \nQ 24.125 74.21875 28.421875 74.21875 \nQ 39.75 74.21875 46.484375 68.546875 \nQ 53.21875 62.890625 53.21875 53.421875 \nQ 53.21875 48.921875 51.53125 44.890625 \nQ 49.859375 40.875 45.40625 35.40625 \nQ 44.1875 33.984375 37.640625 27.21875 \nQ 31.109375 20.453125 19.1875 8.296875 \nz\n\" id=\"DejaVuSans-50\"/>\n      </defs>\n      <use xlink:href=\"#DejaVuSans-49\"/>\n      <use x=\"63.623047\" xlink:href=\"#DejaVuSans-50\"/>\n     </g>\n    </g>\n   </g>\n   <g id=\"xtick_13\">\n    <g id=\"line2d_15\">\n     <path d=\"M 193.844677 160.268293 \nL 196.79527 161.151244 \n\" style=\"fill:none;stroke:#000000;stroke-linecap:square;stroke-width:0.8;\"/>\n    </g>\n    <g id=\"text_13\">\n     <!-- 13 -->\n     <g transform=\"translate(200.614003 180.758172)scale(0.1 -0.1)\">\n      <defs>\n       <path d=\"M 40.578125 39.3125 \nQ 47.65625 37.796875 51.625 33 \nQ 55.609375 28.21875 55.609375 21.1875 \nQ 55.609375 10.40625 48.1875 4.484375 \nQ 40.765625 -1.421875 27.09375 -1.421875 \nQ 22.515625 -1.421875 17.65625 -0.515625 \nQ 12.796875 0.390625 7.625 2.203125 \nL 7.625 11.71875 \nQ 11.71875 9.328125 16.59375 8.109375 \nQ 21.484375 6.890625 26.8125 6.890625 \nQ 36.078125 6.890625 40.9375 10.546875 \nQ 45.796875 14.203125 45.796875 21.1875 \nQ 45.796875 27.640625 41.28125 31.265625 \nQ 36.765625 34.90625 28.71875 34.90625 \nL 20.21875 34.90625 \nL 20.21875 43.015625 \nL 29.109375 43.015625 \nQ 36.375 43.015625 40.234375 45.921875 \nQ 44.09375 48.828125 44.09375 54.296875 \nQ 44.09375 59.90625 40.109375 62.90625 \nQ 36.140625 65.921875 28.71875 65.921875 \nQ 24.65625 65.921875 20.015625 65.03125 \nQ 15.375 64.15625 9.8125 62.3125 \nL 9.8125 71.09375 \nQ 15.4375 72.65625 20.34375 73.4375 \nQ 25.25 74.21875 29.59375 74.21875 \nQ 40.828125 74.21875 47.359375 69.109375 \nQ 53.90625 64.015625 53.90625 55.328125 \nQ 53.90625 49.265625 50.4375 45.09375 \nQ 46.96875 40.921875 40.578125 39.3125 \nz\n\" id=\"DejaVuSans-51\"/>\n      </defs>\n      <use xlink:href=\"#DejaVuSans-49\"/>\n      <use x=\"63.623047\" xlink:href=\"#DejaVuSans-51\"/>\n     </g>\n    </g>\n   </g>\n   <g id=\"xtick_14\">\n    <g id=\"line2d_16\">\n     <path d=\"M 202.483307 151.418814 \nL 205.408265 152.280354 \n\" style=\"fill:none;stroke:#000000;stroke-linecap:square;stroke-width:0.8;\"/>\n    </g>\n    <g id=\"text_14\">\n     <!-- 14 -->\n     <g transform=\"translate(209.101707 171.741786)scale(0.1 -0.1)\">\n      <use xlink:href=\"#DejaVuSans-49\"/>\n      <use x=\"63.623047\" xlink:href=\"#DejaVuSans-52\"/>\n     </g>\n    </g>\n   </g>\n  </g>\n  <g id=\"axis3d_3\">\n   <g id=\"line2d_17\">\n    <path d=\"M 210.64668 144.32791 \nL 214.758571 54.534718 \n\" style=\"fill:none;stroke:#000000;stroke-linecap:square;stroke-width:0.8;\"/>\n   </g>\n   <g id=\"Line3DCollection_3\">\n    <path d=\"M 210.813657 140.681567 \nL 95.383393 107.305152 \nL 23.438436 167.292935 \n\" style=\"fill:none;stroke:#b0b0b0;stroke-width:0.8;\"/>\n    <path d=\"M 211.662196 122.151637 \nL 95.177098 89.36526 \nL 22.524432 148.313055 \n\" style=\"fill:none;stroke:#b0b0b0;stroke-width:0.8;\"/>\n    <path d=\"M 212.526541 103.276542 \nL 94.967146 71.107267 \nL 21.592749 128.966051 \n\" style=\"fill:none;stroke:#b0b0b0;stroke-width:0.8;\"/>\n    <path d=\"M 213.407139 84.046549 \nL 94.753438 52.522637 \nL 20.642868 109.241168 \n\" style=\"fill:none;stroke:#b0b0b0;stroke-width:0.8;\"/>\n    <path d=\"M 214.30445 64.451553 \nL 94.535871 33.602525 \nL 19.674252 89.127226 \n\" style=\"fill:none;stroke:#b0b0b0;stroke-width:0.8;\"/>\n   </g>\n   <g id=\"xtick_15\">\n    <g id=\"line2d_18\">\n     <path d=\"M 209.844796 140.401424 \nL 212.753686 141.242523 \n\" style=\"fill:none;stroke:#000000;stroke-linecap:square;stroke-width:0.8;\"/>\n    </g>\n    <g id=\"text_15\">\n     <!-- 5 -->\n     <g transform=\"translate(225.901247 145.685431)scale(0.1 -0.1)\">\n      <use xlink:href=\"#DejaVuSans-53\"/>\n     </g>\n    </g>\n   </g>\n   <g id=\"xtick_16\">\n    <g id=\"line2d_19\">\n     <path d=\"M 210.684059 121.876326 \nL 213.620822 122.70292 \n\" style=\"fill:none;stroke:#000000;stroke-linecap:square;stroke-width:0.8;\"/>\n    </g>\n    <g id=\"text_16\">\n     <!-- 6 -->\n     <g transform=\"translate(226.914595 127.200343)scale(0.1 -0.1)\">\n      <use xlink:href=\"#DejaVuSans-54\"/>\n     </g>\n    </g>\n   </g>\n   <g id=\"xtick_17\">\n    <g id=\"line2d_20\">\n     <path d=\"M 211.538949 103.006295 \nL 214.504123 103.817693 \n\" style=\"fill:none;stroke:#000000;stroke-linecap:square;stroke-width:0.8;\"/>\n    </g>\n    <g id=\"text_17\">\n     <!-- 7 -->\n     <g transform=\"translate(227.946749 108.372215)scale(0.1 -0.1)\">\n      <use xlink:href=\"#DejaVuSans-55\"/>\n     </g>\n    </g>\n   </g>\n   <g id=\"xtick_18\">\n    <g id=\"line2d_21\">\n     <path d=\"M 212.409906 83.781605 \nL 215.404046 84.577088 \n\" style=\"fill:none;stroke:#000000;stroke-linecap:square;stroke-width:0.8;\"/>\n    </g>\n    <g id=\"text_18\">\n     <!-- 8 -->\n     <g transform=\"translate(228.998237 89.191409)scale(0.1 -0.1)\">\n      <use xlink:href=\"#DejaVuSans-56\"/>\n     </g>\n    </g>\n   </g>\n   <g id=\"xtick_19\">\n    <g id=\"line2d_22\">\n     <path d=\"M 213.297388 64.192162 \nL 216.321065 64.970976 \n\" style=\"fill:none;stroke:#000000;stroke-linecap:square;stroke-width:0.8;\"/>\n    </g>\n    <g id=\"text_19\">\n     <!-- 9 -->\n     <g transform=\"translate(230.069607 69.647921)scale(0.1 -0.1)\">\n      <use xlink:href=\"#DejaVuSans-57\"/>\n     </g>\n    </g>\n   </g>\n  </g>\n  <g id=\"axes_1\">\n   <g id=\"Path3DCollection_1\">\n    <defs>\n     <path d=\"M 0 2.236068 \nC 0.593012 2.236068 1.161816 2.000462 1.581139 1.581139 \nC 2.000462 1.161816 2.236068 0.593012 2.236068 -0 \nC 2.236068 -0.593012 2.000462 -1.161816 1.581139 -1.581139 \nC 1.161816 -2.000462 0.593012 -2.236068 0 -2.236068 \nC -0.593012 -2.236068 -1.161816 -2.000462 -1.581139 -1.581139 \nC -2.000462 -1.161816 -2.236068 -0.593012 -2.236068 0 \nC -2.236068 0.593012 -2.000462 1.161816 -1.581139 1.581139 \nC -1.161816 2.000462 -0.593012 2.236068 0 2.236068 \nz\n\" id=\"C0_0_904a954919\"/>\n    </defs>\n    <g clip-path=\"url(#p5e5f7fd917)\">\n     <use style=\"fill:#e0f3db;fill-opacity:0.3;stroke:#e0f3db;stroke-opacity:0.3;\" x=\"71.861443\" xlink:href=\"#C0_0_904a954919\" y=\"121.984718\"/>\n    </g>\n    <g clip-path=\"url(#p5e5f7fd917)\">\n     <use style=\"fill:#9cd797;fill-opacity:0.407379;stroke:#9cd797;stroke-opacity:0.407379;\" x=\"101.650196\" xlink:href=\"#C0_0_904a954919\" y=\"103.226628\"/>\n    </g>\n    <g clip-path=\"url(#p5e5f7fd917)\">\n     <use style=\"fill:#65bd6f;fill-opacity:0.420922;stroke:#65bd6f;stroke-opacity:0.420922;\" x=\"102.757937\" xlink:href=\"#C0_0_904a954919\" y=\"88.970721\"/>\n    </g>\n    <g clip-path=\"url(#p5e5f7fd917)\">\n     <use style=\"fill:#81ca81;fill-opacity:0.44096;stroke:#81ca81;stroke-opacity:0.44096;\" x=\"113.182056\" xlink:href=\"#C0_0_904a954919\" y=\"97.587228\"/>\n    </g>\n    <g clip-path=\"url(#p5e5f7fd917)\">\n     <use style=\"fill:#3fa85b;fill-opacity:0.495128;stroke:#3fa85b;stroke-opacity:0.495128;\" x=\"112.367984\" xlink:href=\"#C0_0_904a954919\" y=\"82.961009\"/>\n    </g>\n    <g clip-path=\"url(#p5e5f7fd917)\">\n     <use style=\"fill:#137d39;fill-opacity:0.508916;stroke:#137d39;stroke-opacity:0.508916;\" x=\"130.570341\" xlink:href=\"#C0_0_904a954919\" y=\"66.0587\"/>\n    </g>\n    <g clip-path=\"url(#p5e5f7fd917)\">\n     <use style=\"fill:#278f48;fill-opacity:0.523413;stroke:#278f48;stroke-opacity:0.523413;\" x=\"143.824897\" xlink:href=\"#C0_0_904a954919\" y=\"74.390359\"/>\n    </g>\n    <g clip-path=\"url(#p5e5f7fd917)\">\n     <use style=\"fill:#0c7735;fill-opacity:0.529113;stroke:#0c7735;stroke-opacity:0.529113;\" x=\"132.344647\" xlink:href=\"#C0_0_904a954919\" y=\"64.592796\"/>\n    </g>\n    <g clip-path=\"url(#p5e5f7fd917)\">\n     <use style=\"fill:#1a843f;fill-opacity:0.531015;stroke:#1a843f;stroke-opacity:0.531015;\" x=\"144.804824\" xlink:href=\"#C0_0_904a954919\" y=\"69.74291\"/>\n    </g>\n    <g clip-path=\"url(#p5e5f7fd917)\">\n     <use style=\"fill:#65bd6f;fill-opacity:0.553604;stroke:#65bd6f;stroke-opacity:0.553604;\" x=\"93.885333\" xlink:href=\"#C0_0_904a954919\" y=\"96.233505\"/>\n    </g>\n    <g clip-path=\"url(#p5e5f7fd917)\">\n     <use style=\"fill:#5bb86a;fill-opacity:0.573952;stroke:#5bb86a;stroke-opacity:0.573952;\" x=\"95.604494\" xlink:href=\"#C0_0_904a954919\" y=\"94.812935\"/>\n    </g>\n    <g clip-path=\"url(#p5e5f7fd917)\">\n     <use style=\"fill:#81ca81;fill-opacity:0.579472;stroke:#81ca81;stroke-opacity:0.579472;\" x=\"89.959653\" xlink:href=\"#C0_0_904a954919\" y=\"105.256125\"/>\n    </g>\n    <g clip-path=\"url(#p5e5f7fd917)\">\n     <use style=\"fill:#9cd797;fill-opacity:0.589933;stroke:#9cd797;stroke-opacity:0.589933;\" x=\"75.303751\" xlink:href=\"#C0_0_904a954919\" y=\"113.448499\"/>\n    </g>\n    <g clip-path=\"url(#p5e5f7fd917)\">\n     <use style=\"fill:#5bb86a;fill-opacity:0.592128;stroke:#5bb86a;stroke-opacity:0.592128;\" x=\"99.097261\" xlink:href=\"#C0_0_904a954919\" y=\"95.804019\"/>\n    </g>\n    <g clip-path=\"url(#p5e5f7fd917)\">\n     <use style=\"fill:#edf8e9;fill-opacity:0.595696;stroke:#edf8e9;stroke-opacity:0.595696;\" x=\"70.087524\" xlink:href=\"#C0_0_904a954919\" y=\"146.777474\"/>\n    </g>\n    <g clip-path=\"url(#p5e5f7fd917)\">\n     <use style=\"fill:#abdda5;fill-opacity:0.598763;stroke:#abdda5;stroke-opacity:0.598763;\" x=\"108.531215\" xlink:href=\"#C0_0_904a954919\" y=\"119.022099\"/>\n    </g>\n    <g clip-path=\"url(#p5e5f7fd917)\">\n     <use style=\"fill:#9cd797;fill-opacity:0.608661;stroke:#9cd797;stroke-opacity:0.608661;\" x=\"90.511327\" xlink:href=\"#C0_0_904a954919\" y=\"114.497139\"/>\n    </g>\n    <g clip-path=\"url(#p5e5f7fd917)\">\n     <use style=\"fill:#6ec173;fill-opacity:0.616508;stroke:#6ec173;stroke-opacity:0.616508;\" x=\"143.144276\" xlink:href=\"#C0_0_904a954919\" y=\"102.220032\"/>\n    </g>\n    <g clip-path=\"url(#p5e5f7fd917)\">\n     <use style=\"fill:#3fa85b;fill-opacity:0.61862;stroke:#3fa85b;stroke-opacity:0.61862;\" x=\"132.542392\" xlink:href=\"#C0_0_904a954919\" y=\"89.617415\"/>\n    </g>\n    <g clip-path=\"url(#p5e5f7fd917)\">\n     <use style=\"fill:#8ace88;fill-opacity:0.623813;stroke:#8ace88;stroke-opacity:0.623813;\" x=\"123.978562\" xlink:href=\"#C0_0_904a954919\" y=\"110.255937\"/>\n    </g>\n    <g clip-path=\"url(#p5e5f7fd917)\">\n     <use style=\"fill:#92d28f;fill-opacity:0.629701;stroke:#92d28f;stroke-opacity:0.629701;\" x=\"103.994222\" xlink:href=\"#C0_0_904a954919\" y=\"113.129203\"/>\n    </g>\n    <g clip-path=\"url(#p5e5f7fd917)\">\n     <use style=\"fill:#067230;fill-opacity:0.635502;stroke:#067230;stroke-opacity:0.635502;\" x=\"178.214386\" xlink:href=\"#C0_0_904a954919\" y=\"67.601893\"/>\n    </g>\n    <g clip-path=\"url(#p5e5f7fd917)\">\n     <use style=\"fill:#278f48;fill-opacity:0.637299;stroke:#278f48;stroke-opacity:0.637299;\" x=\"139.022267\" xlink:href=\"#C0_0_904a954919\" y=\"80.433604\"/>\n    </g>\n    <g clip-path=\"url(#p5e5f7fd917)\">\n     <use style=\"fill:#8ace88;fill-opacity:0.641631;stroke:#8ace88;stroke-opacity:0.641631;\" x=\"115.753886\" xlink:href=\"#C0_0_904a954919\" y=\"111.24619\"/>\n    </g>\n    <g clip-path=\"url(#p5e5f7fd917)\">\n     <use style=\"fill:#39a257;fill-opacity:0.644122;stroke:#39a257;stroke-opacity:0.644122;\" x=\"108.044579\" xlink:href=\"#C0_0_904a954919\" y=\"88.442902\"/>\n    </g>\n    <g clip-path=\"url(#p5e5f7fd917)\">\n     <use style=\"fill:#81ca81;fill-opacity:0.655295;stroke:#81ca81;stroke-opacity:0.655295;\" x=\"96.695662\" xlink:href=\"#C0_0_904a954919\" y=\"109.454138\"/>\n    </g>\n    <g clip-path=\"url(#p5e5f7fd917)\">\n     <use style=\"fill:#b2e0ac;fill-opacity:0.657375;stroke:#b2e0ac;stroke-opacity:0.657375;\" x=\"118.146972\" xlink:href=\"#C0_0_904a954919\" y=\"124.880396\"/>\n    </g>\n    <g clip-path=\"url(#p5e5f7fd917)\">\n     <use style=\"fill:#a4da9e;fill-opacity:0.665656;stroke:#a4da9e;stroke-opacity:0.665656;\" x=\"130.918901\" xlink:href=\"#C0_0_904a954919\" y=\"120.242086\"/>\n    </g>\n    <g clip-path=\"url(#p5e5f7fd917)\">\n     <use style=\"fill:#52b365;fill-opacity:0.669175;stroke:#52b365;stroke-opacity:0.669175;\" x=\"146.799586\" xlink:href=\"#C0_0_904a954919\" y=\"97.450996\"/>\n    </g>\n    <g clip-path=\"url(#p5e5f7fd917)\">\n     <use style=\"fill:#9cd797;fill-opacity:0.691866;stroke:#9cd797;stroke-opacity:0.691866;\" x=\"118.14496\" xlink:href=\"#C0_0_904a954919\" y=\"119.156147\"/>\n    </g>\n    <g clip-path=\"url(#p5e5f7fd917)\">\n     <use style=\"fill:#39a257;fill-opacity:0.697727;stroke:#39a257;stroke-opacity:0.697727;\" x=\"149.621641\" xlink:href=\"#C0_0_904a954919\" y=\"91.321065\"/>\n    </g>\n    <g clip-path=\"url(#p5e5f7fd917)\">\n     <use style=\"fill:#abdda5;fill-opacity:0.716323;stroke:#abdda5;stroke-opacity:0.716323;\" x=\"84.209982\" xlink:href=\"#C0_0_904a954919\" y=\"125.653923\"/>\n    </g>\n    <g clip-path=\"url(#p5e5f7fd917)\">\n     <use style=\"fill:#39a257;fill-opacity:0.721272;stroke:#39a257;stroke-opacity:0.721272;\" x=\"126.781598\" xlink:href=\"#C0_0_904a954919\" y=\"92.585267\"/>\n    </g>\n    <g clip-path=\"url(#p5e5f7fd917)\">\n     <use style=\"fill:#ceecc8;fill-opacity:0.723468;stroke:#ceecc8;stroke-opacity:0.723468;\" x=\"96.670293\" xlink:href=\"#C0_0_904a954919\" y=\"138.885431\"/>\n    </g>\n    <g clip-path=\"url(#p5e5f7fd917)\">\n     <use style=\"fill:#067230;fill-opacity:0.72632;stroke:#067230;stroke-opacity:0.72632;\" x=\"160.922339\" xlink:href=\"#C0_0_904a954919\" y=\"72.326039\"/>\n    </g>\n    <g clip-path=\"url(#p5e5f7fd917)\">\n     <use style=\"fill:#339c52;fill-opacity:0.731137;stroke:#339c52;stroke-opacity:0.731137;\" x=\"157.822009\" xlink:href=\"#C0_0_904a954919\" y=\"90.547631\"/>\n    </g>\n    <g clip-path=\"url(#p5e5f7fd917)\">\n     <use style=\"fill:#278f48;fill-opacity:0.736239;stroke:#278f48;stroke-opacity:0.736239;\" x=\"166.134339\" xlink:href=\"#C0_0_904a954919\" y=\"85.683802\"/>\n    </g>\n    <g clip-path=\"url(#p5e5f7fd917)\">\n     <use style=\"fill:#005b25;fill-opacity:0.748567;stroke:#005b25;stroke-opacity:0.748567;\" x=\"154.657333\" xlink:href=\"#C0_0_904a954919\" y=\"65.770528\"/>\n    </g>\n    <g clip-path=\"url(#p5e5f7fd917)\">\n     <use style=\"fill:#004c1e;fill-opacity:0.760262;stroke:#004c1e;stroke-opacity:0.760262;\" x=\"172.121912\" xlink:href=\"#C0_0_904a954919\" y=\"61.224765\"/>\n    </g>\n    <g clip-path=\"url(#p5e5f7fd917)\">\n     <use style=\"fill:#46ae60;fill-opacity:0.766094;stroke:#46ae60;stroke-opacity:0.766094;\" x=\"132.00114\" xlink:href=\"#C0_0_904a954919\" y=\"100.141059\"/>\n    </g>\n    <g clip-path=\"url(#p5e5f7fd917)\">\n     <use style=\"fill:#6ec173;fill-opacity:0.767459;stroke:#6ec173;stroke-opacity:0.767459;\" x=\"97.927437\" xlink:href=\"#C0_0_904a954919\" y=\"110.514457\"/>\n    </g>\n    <g clip-path=\"url(#p5e5f7fd917)\">\n     <use style=\"fill:#c2e7bb;fill-opacity:0.768683;stroke:#c2e7bb;stroke-opacity:0.768683;\" x=\"104.729672\" xlink:href=\"#C0_0_904a954919\" y=\"136.333129\"/>\n    </g>\n    <g clip-path=\"url(#p5e5f7fd917)\">\n     <use style=\"fill:#92d28f;fill-opacity:0.788629;stroke:#92d28f;stroke-opacity:0.788629;\" x=\"91.175156\" xlink:href=\"#C0_0_904a954919\" y=\"121.99493\"/>\n    </g>\n    <g clip-path=\"url(#p5e5f7fd917)\">\n     <use style=\"fill:#6ec173;fill-opacity:0.807834;stroke:#6ec173;stroke-opacity:0.807834;\" x=\"97.681343\" xlink:href=\"#C0_0_904a954919\" y=\"112.732925\"/>\n    </g>\n    <g clip-path=\"url(#p5e5f7fd917)\">\n     <use style=\"fill:#339c52;fill-opacity:0.841277;stroke:#339c52;stroke-opacity:0.841277;\" x=\"119.936306\" xlink:href=\"#C0_0_904a954919\" y=\"96.438218\"/>\n    </g>\n    <g clip-path=\"url(#p5e5f7fd917)\">\n     <use style=\"fill:#39a257;fill-opacity:0.867961;stroke:#39a257;stroke-opacity:0.867961;\" x=\"139.147445\" xlink:href=\"#C0_0_904a954919\" y=\"100.461291\"/>\n    </g>\n    <g clip-path=\"url(#p5e5f7fd917)\">\n     <use style=\"fill:#9cd797;fill-opacity:0.871455;stroke:#9cd797;stroke-opacity:0.871455;\" x=\"109.033641\" xlink:href=\"#C0_0_904a954919\" y=\"129.211982\"/>\n    </g>\n    <g clip-path=\"url(#p5e5f7fd917)\">\n     <use style=\"fill:#f7fcf5;fill-opacity:0.884056;stroke:#f7fcf5;stroke-opacity:0.884056;\" x=\"60.096684\" xlink:href=\"#C0_0_904a954919\" y=\"171.506155\"/>\n    </g>\n    <g clip-path=\"url(#p5e5f7fd917)\">\n     <use style=\"fill:#d5efcf;fill-opacity:0.911215;stroke:#d5efcf;stroke-opacity:0.911215;\" x=\"90.820997\" xlink:href=\"#C0_0_904a954919\" y=\"152.278042\"/>\n    </g>\n    <g clip-path=\"url(#p5e5f7fd917)\">\n     <use style=\"fill:#00441b;stroke:#00441b;\" x=\"192.674303\" xlink:href=\"#C0_0_904a954919\" y=\"70.821051\"/>\n    </g>\n   </g>\n  </g>\n </g>\n <defs>\n  <clipPath id=\"p5e5f7fd917\">\n   <rect height=\"217.44\" width=\"217.44\" x=\"7.2\" y=\"7.2\"/>\n  </clipPath>\n </defs>\n</svg>\n",
      "image/png": "[encoded data removed]"
     },
     "metadata": {
      "needs_background": "light"
     }
    }
   ],
   "source": [
    "from mpl_toolkits import mplot3d\n",
    "\n",
    "%matplotlib inline\n",
    "import numpy as np\n",
    "import matplotlib.pyplot as plt\n",
    "\n",
    "fig = plt.figure()\n",
    "ax = plt.axes(projection='3d')\n",
    "\n",
    "# Data for a three-dimensional line\n",
    "X,Y,Z= df[\"prev\"], df[\"horas\"], df[\"calif\"]\n",
    "ax.scatter3D(X,Y,Z, c=Z, cmap='Greens')"
   ]
  },
  {
   "cell_type": "markdown",
   "metadata": {},
   "source": [
    "### Hipótesis"
   ]
  },
  {
   "cell_type": "markdown",
   "metadata": {},
   "source": [
    "Recordemos que dado un conjunto de ejemplos con atributos ($x_1, \\dots, x_d$) y salidas $y$, la hipótesis de regresión lineal considerando un plano está dada por:\n",
    "\n",
    "$$\\hat{y} =  x_1 w_1 + \\dots + x_d w_d + b$$\n",
    "\n",
    "donde $w_i$ y $b$ son pesos y sesgo (parámetros) del modelo y $\\hat{y}$ la salida predicha. Podemos expresar la hipótesis en su forma vectorial como:\n",
    "\n",
    "$$\\hat{y} =  x w + b$$\n",
    "\n",
    "Nuestro trabajo consiste en estimar (aprender) los parámetros $w_i$ y $b$. Por el momento supongamos que proponemos valores para los parámetros y hagamos inferencia:"
   ]
  },
  {
   "cell_type": "markdown",
   "metadata": {},
   "source": [
    "### Función de pérdida\n",
    "\n",
    "La pérdida para este modelo es el error cuadrático medio y queda expresado de la siguiente manera:\n",
    "\n",
    "$$ J(w, b) = \\frac{1}{2m}  \\sum_{i=1}^{m}{(\\hat{y}^{(i)} - y^{(i)})^2} $$\n",
    "\n",
    "en su forma vectorial:\n",
    "\n",
    "$$ J(w, b) = \\frac{1}{2m} (\\hat{y} - y)^T (\\hat{y} - y) $$\n"
   ]
  },
  {
   "cell_type": "code",
   "execution_count": 356,
   "metadata": {},
   "outputs": [
    {
     "output_type": "execute_result",
     "data": {
      "text/plain": [
       "torch.Size([50, 2])"
      ]
     },
     "metadata": {},
     "execution_count": 356
    }
   ],
   "source": [
    "x=torch.from_numpy(df[[\"prev\",\"horas\"]].values)\n",
    "x=x.float()\n",
    "x.shape"
   ]
  },
  {
   "cell_type": "code",
   "execution_count": 357,
   "metadata": {},
   "outputs": [
    {
     "output_type": "execute_result",
     "data": {
      "text/plain": [
       "torch.Size([50])"
      ]
     },
     "metadata": {},
     "execution_count": 357
    }
   ],
   "source": [
    "y=torch.from_numpy(df[\"calif\"].values)\n",
    "y.shape"
   ]
  },
  {
   "cell_type": "code",
   "execution_count": 358,
   "metadata": {},
   "outputs": [],
   "source": [
    "def LinearReg(x,w,b):\n",
    "    #tranpose=torch.transpose(w,0,1)\n",
    "    return x@w.T+b"
   ]
  },
  {
   "source": [
    "Inicilizamos los pesos y el bias de manera aleatoria"
   ],
   "cell_type": "markdown",
   "metadata": {}
  },
  {
   "cell_type": "code",
   "execution_count": 359,
   "metadata": {},
   "outputs": [],
   "source": [
    "w=torch.randn(1,2,requires_grad=True)\n",
    "b=torch.randn(1,requires_grad=True)"
   ]
  },
  {
   "cell_type": "code",
   "execution_count": 360,
   "metadata": {},
   "outputs": [],
   "source": [
    "y_pred=LinearReg(x,w,b)\n",
    "y_true=y.float()\n",
    "y_true=torch.reshape(y_true, (y_true.shape[0], 1))"
   ]
  },
  {
   "cell_type": "code",
   "execution_count": 361,
   "metadata": {},
   "outputs": [
    {
     "output_type": "stream",
     "name": "stdout",
     "text": [
      "torch.Size([50, 1])\ntorch.Size([50, 1])\n"
     ]
    }
   ],
   "source": [
    "print(y_true.shape)\n",
    "print(y_pred.shape)"
   ]
  },
  {
   "cell_type": "code",
   "execution_count": 362,
   "metadata": {},
   "outputs": [
    {
     "output_type": "execute_result",
     "data": {
      "text/plain": [
       "tensor([[0.3450]], grad_fn=<DivBackward0>)"
      ]
     },
     "metadata": {},
     "execution_count": 362
    }
   ],
   "source": [
    "loss = (y_pred - y_true).T @ (y_pred - y_true) / (2 * m)\n",
    "loss"
   ]
  },
  {
   "cell_type": "markdown",
   "metadata": {},
   "source": [
    "### Descenso por gradiente\n",
    "\n",
    "![graddes](https://ml-cheatsheet.readthedocs.io/en/latest/_images/gradient_descent_demystified.png)\n",
    "<div> https://ml-cheatsheet.readthedocs.io/en/latest/gradient_descent.html </div>\n",
    "&nbsp;\n",
    "\n",
    "El algoritmo del gradiente descendente se basa en el gradiente de la pérdida respecto de los parámetros:\n",
    "\n",
    "$$\\frac{\\partial J(w_j)}{\\partial w_j} = \\frac{1}{m} \\sum_{i=1}^{m}{x^{(i)}_j(\\hat{y}^{(i)} - y^{(i)})}$$\n",
    "\n",
    "$$\\frac{\\partial J(b)}{\\partial b} = \\frac{1}{m} \\sum_{i=1}^{m}{(\\hat{y}^{(i)} - y^{(i)})}$$\n",
    "\n",
    "en su forma vectorial:\n",
    "\n",
    "$$\\Delta J(w) = \\frac{1}{m} x^T (\\hat{y} - y)$$\n",
    "\n",
    "$$\\Delta J(b) = \\frac{1}{m} \\sum_{i=1}^{m}{(\\hat{y} - y)^{(i)}}$$\n",
    "\n",
    "Para los parámetros propuestos, el computo gradiente se puede implementar como:"
   ]
  },
  {
   "cell_type": "code",
   "execution_count": 366,
   "metadata": {},
   "outputs": [
    {
     "output_type": "stream",
     "name": "stdout",
     "text": [
      "grad_w = tensor([[4.8502],\n        [8.5822]], grad_fn=<DivBackward0>)\ngrad_b = 0.7020413875579834\n"
     ]
    }
   ],
   "source": [
    "grad_w = (x.T @ (y_pred - y_true)) / m\n",
    "grad_b = (y_pred - y_true).sum() / m\n",
    "print(f\"grad_w = {grad_w}\")\n",
    "print(f\"grad_b = {grad_b}\")"
   ]
  },
  {
   "cell_type": "markdown",
   "metadata": {},
   "source": [
    "### Entrenamiento\n",
    "\n",
    "Ahora implementemos todo en una función:"
   ]
  },
  {
   "cell_type": "code",
   "execution_count": 375,
   "metadata": {},
   "outputs": [],
   "source": [
    "def trainLR(x, y_true, alpha=0.01, steps=10):\n",
    "    \"\"\"Fits linear regression.\"\"\"\n",
    "\n",
    "    # ejemplos, atributos\n",
    "    m, d = x.shape\n",
    "\n",
    "    # inicialización de parámetros\n",
    "    w = torch.zeros(d, 1)\n",
    "    b = torch.zeros(1)\n",
    "\n",
    "    # histórico de pérdidas\n",
    "    loss_hist = []\n",
    "\n",
    "    # ciclo de entrenamiento\n",
    "    for i in range(steps):\n",
    "\n",
    "        # cómputo de la hipótesis\n",
    "        y_pred = x @ w + b\n",
    "\n",
    "        # cómputo de la pérdida\n",
    "        loss = (y_pred - y_true).T @ (y_pred - y_true) / (2 * m)\n",
    "\n",
    "        # cómputo del gradiente\n",
    "        grad_w = (x.T @ (y_pred - y_true)) / m\n",
    "        grad_b = (y_pred - y_true).sum() / m\n",
    "\n",
    "        # actualización de parámetros\n",
    "        w = w - alpha * grad_w\n",
    "        b = b - alpha * grad_b\n",
    "\n",
    "        # histórico de pérdida\n",
    "        loss_hist.append(loss)\n",
    "\n",
    "    return w, b, loss_hist"
   ]
  },
  {
   "cell_type": "markdown",
   "metadata": {},
   "source": [
    "Entrenemos diferentes medelos con valores de alpha distintos"
   ]
  },
  {
   "cell_type": "code",
   "execution_count": 450,
   "metadata": {},
   "outputs": [],
   "source": [
    "alphas=[0.01,0.001]\n",
    "resultados=dict()\n",
    "for alpha in alphas:\n",
    "    w, b, loss_hist = trainLR(x, y_true,alpha=alpha,steps=100)\n",
    "    resultados [alpha]={\"w\":w,\"b\":b,\"loss\":loss_hist}"
   ]
  },
  {
   "cell_type": "markdown",
   "metadata": {},
   "source": [
    "Grafiquemos la evolución de las pérdidas:"
   ]
  },
  {
   "cell_type": "code",
   "execution_count": 451,
   "metadata": {},
   "outputs": [
    {
     "output_type": "execute_result",
     "data": {
      "text/plain": [
       "Text(0, 0.5, 'pérdida')"
      ]
     },
     "metadata": {},
     "execution_count": 451
    },
    {
     "output_type": "display_data",
     "data": {
      "text/plain": "<Figure size 432x288 with 1 Axes>",
      "image/svg+xml": "<?xml version=\"1.0\" encoding=\"utf-8\" standalone=\"no\"?>\n<!DOCTYPE svg PUBLIC \"-//W3C//DTD SVG 1.1//EN\"\n  \"http://www.w3.org/Graphics/SVG/1.1/DTD/svg11.dtd\">\n<!-- Created with matplotlib (https://matplotlib.org/) -->\n<svg height=\"262.59625pt\" version=\"1.1\" viewBox=\"0 0 383.003125 262.59625\" width=\"383.003125pt\" xmlns=\"http://www.w3.org/2000/svg\" xmlns:xlink=\"http://www.w3.org/1999/xlink\">\n <metadata>\n  <rdf:RDF xmlns:cc=\"http://creativecommons.org/ns#\" xmlns:dc=\"http://purl.org/dc/elements/1.1/\" xmlns:rdf=\"http://www.w3.org/1999/02/22-rdf-syntax-ns#\">\n   <cc:Work>\n    <dc:type rdf:resource=\"http://purl.org/dc/dcmitype/StillImage\"/>\n    <dc:date>2021-03-19T20:44:04.168126</dc:date>\n    <dc:format>image/svg+xml</dc:format>\n    <dc:creator>\n     <cc:Agent>\n      <dc:title>Matplotlib v3.3.4, https://matplotlib.org/</dc:title>\n     </cc:Agent>\n    </dc:creator>\n   </cc:Work>\n  </rdf:RDF>\n </metadata>\n <defs>\n  <style type=\"text/css\">*{stroke-linecap:butt;stroke-linejoin:round;}</style>\n </defs>\n <g id=\"figure_1\">\n  <g id=\"patch_1\">\n   <path d=\"M 0 262.59625 \nL 383.003125 262.59625 \nL 383.003125 0 \nL 0 0 \nz\n\" style=\"fill:none;\"/>\n  </g>\n  <g id=\"axes_1\">\n   <g id=\"patch_2\">\n    <path d=\"M 41.003125 224.64 \nL 375.803125 224.64 \nL 375.803125 7.2 \nL 41.003125 7.2 \nz\n\" style=\"fill:#ffffff;\"/>\n   </g>\n   <g id=\"matplotlib.axis_1\">\n    <g id=\"xtick_1\">\n     <g id=\"line2d_1\">\n      <defs>\n       <path d=\"M 0 0 \nL 0 3.5 \n\" id=\"me6a8ea014e\" style=\"stroke:#000000;stroke-width:0.8;\"/>\n      </defs>\n      <g>\n       <use style=\"stroke:#000000;stroke-width:0.8;\" x=\"56.221307\" xlink:href=\"#me6a8ea014e\" y=\"224.64\"/>\n      </g>\n     </g>\n     <g id=\"text_1\">\n      <!-- 0 -->\n      <g transform=\"translate(53.040057 239.238437)scale(0.1 -0.1)\">\n       <defs>\n        <path d=\"M 31.78125 66.40625 \nQ 24.171875 66.40625 20.328125 58.90625 \nQ 16.5 51.421875 16.5 36.375 \nQ 16.5 21.390625 20.328125 13.890625 \nQ 24.171875 6.390625 31.78125 6.390625 \nQ 39.453125 6.390625 43.28125 13.890625 \nQ 47.125 21.390625 47.125 36.375 \nQ 47.125 51.421875 43.28125 58.90625 \nQ 39.453125 66.40625 31.78125 66.40625 \nz\nM 31.78125 74.21875 \nQ 44.046875 74.21875 50.515625 64.515625 \nQ 56.984375 54.828125 56.984375 36.375 \nQ 56.984375 17.96875 50.515625 8.265625 \nQ 44.046875 -1.421875 31.78125 -1.421875 \nQ 19.53125 -1.421875 13.0625 8.265625 \nQ 6.59375 17.96875 6.59375 36.375 \nQ 6.59375 54.828125 13.0625 64.515625 \nQ 19.53125 74.21875 31.78125 74.21875 \nz\n\" id=\"DejaVuSans-48\"/>\n       </defs>\n       <use xlink:href=\"#DejaVuSans-48\"/>\n      </g>\n     </g>\n    </g>\n    <g id=\"xtick_2\">\n     <g id=\"line2d_2\">\n      <g>\n       <use style=\"stroke:#000000;stroke-width:0.8;\" x=\"117.70891\" xlink:href=\"#me6a8ea014e\" y=\"224.64\"/>\n      </g>\n     </g>\n     <g id=\"text_2\">\n      <!-- 20 -->\n      <g transform=\"translate(111.34641 239.238437)scale(0.1 -0.1)\">\n       <defs>\n        <path d=\"M 19.1875 8.296875 \nL 53.609375 8.296875 \nL 53.609375 0 \nL 7.328125 0 \nL 7.328125 8.296875 \nQ 12.9375 14.109375 22.625 23.890625 \nQ 32.328125 33.6875 34.8125 36.53125 \nQ 39.546875 41.84375 41.421875 45.53125 \nQ 43.3125 49.21875 43.3125 52.78125 \nQ 43.3125 58.59375 39.234375 62.25 \nQ 35.15625 65.921875 28.609375 65.921875 \nQ 23.96875 65.921875 18.8125 64.3125 \nQ 13.671875 62.703125 7.8125 59.421875 \nL 7.8125 69.390625 \nQ 13.765625 71.78125 18.9375 73 \nQ 24.125 74.21875 28.421875 74.21875 \nQ 39.75 74.21875 46.484375 68.546875 \nQ 53.21875 62.890625 53.21875 53.421875 \nQ 53.21875 48.921875 51.53125 44.890625 \nQ 49.859375 40.875 45.40625 35.40625 \nQ 44.1875 33.984375 37.640625 27.21875 \nQ 31.109375 20.453125 19.1875 8.296875 \nz\n\" id=\"DejaVuSans-50\"/>\n       </defs>\n       <use xlink:href=\"#DejaVuSans-50\"/>\n       <use x=\"63.623047\" xlink:href=\"#DejaVuSans-48\"/>\n      </g>\n     </g>\n    </g>\n    <g id=\"xtick_3\">\n     <g id=\"line2d_3\">\n      <g>\n       <use style=\"stroke:#000000;stroke-width:0.8;\" x=\"179.196513\" xlink:href=\"#me6a8ea014e\" y=\"224.64\"/>\n      </g>\n     </g>\n     <g id=\"text_3\">\n      <!-- 40 -->\n      <g transform=\"translate(172.834013 239.238437)scale(0.1 -0.1)\">\n       <defs>\n        <path d=\"M 37.796875 64.3125 \nL 12.890625 25.390625 \nL 37.796875 25.390625 \nz\nM 35.203125 72.90625 \nL 47.609375 72.90625 \nL 47.609375 25.390625 \nL 58.015625 25.390625 \nL 58.015625 17.1875 \nL 47.609375 17.1875 \nL 47.609375 0 \nL 37.796875 0 \nL 37.796875 17.1875 \nL 4.890625 17.1875 \nL 4.890625 26.703125 \nz\n\" id=\"DejaVuSans-52\"/>\n       </defs>\n       <use xlink:href=\"#DejaVuSans-52\"/>\n       <use x=\"63.623047\" xlink:href=\"#DejaVuSans-48\"/>\n      </g>\n     </g>\n    </g>\n    <g id=\"xtick_4\">\n     <g id=\"line2d_4\">\n      <g>\n       <use style=\"stroke:#000000;stroke-width:0.8;\" x=\"240.684117\" xlink:href=\"#me6a8ea014e\" y=\"224.64\"/>\n      </g>\n     </g>\n     <g id=\"text_4\">\n      <!-- 60 -->\n      <g transform=\"translate(234.321617 239.238437)scale(0.1 -0.1)\">\n       <defs>\n        <path d=\"M 33.015625 40.375 \nQ 26.375 40.375 22.484375 35.828125 \nQ 18.609375 31.296875 18.609375 23.390625 \nQ 18.609375 15.53125 22.484375 10.953125 \nQ 26.375 6.390625 33.015625 6.390625 \nQ 39.65625 6.390625 43.53125 10.953125 \nQ 47.40625 15.53125 47.40625 23.390625 \nQ 47.40625 31.296875 43.53125 35.828125 \nQ 39.65625 40.375 33.015625 40.375 \nz\nM 52.59375 71.296875 \nL 52.59375 62.3125 \nQ 48.875 64.0625 45.09375 64.984375 \nQ 41.3125 65.921875 37.59375 65.921875 \nQ 27.828125 65.921875 22.671875 59.328125 \nQ 17.53125 52.734375 16.796875 39.40625 \nQ 19.671875 43.65625 24.015625 45.921875 \nQ 28.375 48.1875 33.59375 48.1875 \nQ 44.578125 48.1875 50.953125 41.515625 \nQ 57.328125 34.859375 57.328125 23.390625 \nQ 57.328125 12.15625 50.6875 5.359375 \nQ 44.046875 -1.421875 33.015625 -1.421875 \nQ 20.359375 -1.421875 13.671875 8.265625 \nQ 6.984375 17.96875 6.984375 36.375 \nQ 6.984375 53.65625 15.1875 63.9375 \nQ 23.390625 74.21875 37.203125 74.21875 \nQ 40.921875 74.21875 44.703125 73.484375 \nQ 48.484375 72.75 52.59375 71.296875 \nz\n\" id=\"DejaVuSans-54\"/>\n       </defs>\n       <use xlink:href=\"#DejaVuSans-54\"/>\n       <use x=\"63.623047\" xlink:href=\"#DejaVuSans-48\"/>\n      </g>\n     </g>\n    </g>\n    <g id=\"xtick_5\">\n     <g id=\"line2d_5\">\n      <g>\n       <use style=\"stroke:#000000;stroke-width:0.8;\" x=\"302.17172\" xlink:href=\"#me6a8ea014e\" y=\"224.64\"/>\n      </g>\n     </g>\n     <g id=\"text_5\">\n      <!-- 80 -->\n      <g transform=\"translate(295.80922 239.238437)scale(0.1 -0.1)\">\n       <defs>\n        <path d=\"M 31.78125 34.625 \nQ 24.75 34.625 20.71875 30.859375 \nQ 16.703125 27.09375 16.703125 20.515625 \nQ 16.703125 13.921875 20.71875 10.15625 \nQ 24.75 6.390625 31.78125 6.390625 \nQ 38.8125 6.390625 42.859375 10.171875 \nQ 46.921875 13.96875 46.921875 20.515625 \nQ 46.921875 27.09375 42.890625 30.859375 \nQ 38.875 34.625 31.78125 34.625 \nz\nM 21.921875 38.8125 \nQ 15.578125 40.375 12.03125 44.71875 \nQ 8.5 49.078125 8.5 55.328125 \nQ 8.5 64.0625 14.71875 69.140625 \nQ 20.953125 74.21875 31.78125 74.21875 \nQ 42.671875 74.21875 48.875 69.140625 \nQ 55.078125 64.0625 55.078125 55.328125 \nQ 55.078125 49.078125 51.53125 44.71875 \nQ 48 40.375 41.703125 38.8125 \nQ 48.828125 37.15625 52.796875 32.3125 \nQ 56.78125 27.484375 56.78125 20.515625 \nQ 56.78125 9.90625 50.3125 4.234375 \nQ 43.84375 -1.421875 31.78125 -1.421875 \nQ 19.734375 -1.421875 13.25 4.234375 \nQ 6.78125 9.90625 6.78125 20.515625 \nQ 6.78125 27.484375 10.78125 32.3125 \nQ 14.796875 37.15625 21.921875 38.8125 \nz\nM 18.3125 54.390625 \nQ 18.3125 48.734375 21.84375 45.5625 \nQ 25.390625 42.390625 31.78125 42.390625 \nQ 38.140625 42.390625 41.71875 45.5625 \nQ 45.3125 48.734375 45.3125 54.390625 \nQ 45.3125 60.0625 41.71875 63.234375 \nQ 38.140625 66.40625 31.78125 66.40625 \nQ 25.390625 66.40625 21.84375 63.234375 \nQ 18.3125 60.0625 18.3125 54.390625 \nz\n\" id=\"DejaVuSans-56\"/>\n       </defs>\n       <use xlink:href=\"#DejaVuSans-56\"/>\n       <use x=\"63.623047\" xlink:href=\"#DejaVuSans-48\"/>\n      </g>\n     </g>\n    </g>\n    <g id=\"xtick_6\">\n     <g id=\"line2d_6\">\n      <g>\n       <use style=\"stroke:#000000;stroke-width:0.8;\" x=\"363.659323\" xlink:href=\"#me6a8ea014e\" y=\"224.64\"/>\n      </g>\n     </g>\n     <g id=\"text_6\">\n      <!-- 100 -->\n      <g transform=\"translate(354.115573 239.238437)scale(0.1 -0.1)\">\n       <defs>\n        <path d=\"M 12.40625 8.296875 \nL 28.515625 8.296875 \nL 28.515625 63.921875 \nL 10.984375 60.40625 \nL 10.984375 69.390625 \nL 28.421875 72.90625 \nL 38.28125 72.90625 \nL 38.28125 8.296875 \nL 54.390625 8.296875 \nL 54.390625 0 \nL 12.40625 0 \nz\n\" id=\"DejaVuSans-49\"/>\n       </defs>\n       <use xlink:href=\"#DejaVuSans-49\"/>\n       <use x=\"63.623047\" xlink:href=\"#DejaVuSans-48\"/>\n       <use x=\"127.246094\" xlink:href=\"#DejaVuSans-48\"/>\n      </g>\n     </g>\n    </g>\n    <g id=\"text_7\">\n     <!-- época -->\n     <g transform=\"translate(193.279688 253.316562)scale(0.1 -0.1)\">\n      <defs>\n       <path d=\"M 56.203125 29.59375 \nL 56.203125 25.203125 \nL 14.890625 25.203125 \nQ 15.484375 15.921875 20.484375 11.0625 \nQ 25.484375 6.203125 34.421875 6.203125 \nQ 39.59375 6.203125 44.453125 7.46875 \nQ 49.3125 8.734375 54.109375 11.28125 \nL 54.109375 2.78125 \nQ 49.265625 0.734375 44.1875 -0.34375 \nQ 39.109375 -1.421875 33.890625 -1.421875 \nQ 20.796875 -1.421875 13.15625 6.1875 \nQ 5.515625 13.8125 5.515625 26.8125 \nQ 5.515625 40.234375 12.765625 48.109375 \nQ 20.015625 56 32.328125 56 \nQ 43.359375 56 49.78125 48.890625 \nQ 56.203125 41.796875 56.203125 29.59375 \nz\nM 47.21875 32.234375 \nQ 47.125 39.59375 43.09375 43.984375 \nQ 39.0625 48.390625 32.421875 48.390625 \nQ 24.90625 48.390625 20.390625 44.140625 \nQ 15.875 39.890625 15.1875 32.171875 \nz\nM 38.578125 79.984375 \nL 48.296875 79.984375 \nL 32.375 61.625 \nL 24.90625 61.625 \nz\n\" id=\"DejaVuSans-233\"/>\n       <path d=\"M 18.109375 8.203125 \nL 18.109375 -20.796875 \nL 9.078125 -20.796875 \nL 9.078125 54.6875 \nL 18.109375 54.6875 \nL 18.109375 46.390625 \nQ 20.953125 51.265625 25.265625 53.625 \nQ 29.59375 56 35.59375 56 \nQ 45.5625 56 51.78125 48.09375 \nQ 58.015625 40.1875 58.015625 27.296875 \nQ 58.015625 14.40625 51.78125 6.484375 \nQ 45.5625 -1.421875 35.59375 -1.421875 \nQ 29.59375 -1.421875 25.265625 0.953125 \nQ 20.953125 3.328125 18.109375 8.203125 \nz\nM 48.6875 27.296875 \nQ 48.6875 37.203125 44.609375 42.84375 \nQ 40.53125 48.484375 33.40625 48.484375 \nQ 26.265625 48.484375 22.1875 42.84375 \nQ 18.109375 37.203125 18.109375 27.296875 \nQ 18.109375 17.390625 22.1875 11.75 \nQ 26.265625 6.109375 33.40625 6.109375 \nQ 40.53125 6.109375 44.609375 11.75 \nQ 48.6875 17.390625 48.6875 27.296875 \nz\n\" id=\"DejaVuSans-112\"/>\n       <path d=\"M 30.609375 48.390625 \nQ 23.390625 48.390625 19.1875 42.75 \nQ 14.984375 37.109375 14.984375 27.296875 \nQ 14.984375 17.484375 19.15625 11.84375 \nQ 23.34375 6.203125 30.609375 6.203125 \nQ 37.796875 6.203125 41.984375 11.859375 \nQ 46.1875 17.53125 46.1875 27.296875 \nQ 46.1875 37.015625 41.984375 42.703125 \nQ 37.796875 48.390625 30.609375 48.390625 \nz\nM 30.609375 56 \nQ 42.328125 56 49.015625 48.375 \nQ 55.71875 40.765625 55.71875 27.296875 \nQ 55.71875 13.875 49.015625 6.21875 \nQ 42.328125 -1.421875 30.609375 -1.421875 \nQ 18.84375 -1.421875 12.171875 6.21875 \nQ 5.515625 13.875 5.515625 27.296875 \nQ 5.515625 40.765625 12.171875 48.375 \nQ 18.84375 56 30.609375 56 \nz\n\" id=\"DejaVuSans-111\"/>\n       <path d=\"M 48.78125 52.59375 \nL 48.78125 44.1875 \nQ 44.96875 46.296875 41.140625 47.34375 \nQ 37.3125 48.390625 33.40625 48.390625 \nQ 24.65625 48.390625 19.8125 42.84375 \nQ 14.984375 37.3125 14.984375 27.296875 \nQ 14.984375 17.28125 19.8125 11.734375 \nQ 24.65625 6.203125 33.40625 6.203125 \nQ 37.3125 6.203125 41.140625 7.25 \nQ 44.96875 8.296875 48.78125 10.40625 \nL 48.78125 2.09375 \nQ 45.015625 0.34375 40.984375 -0.53125 \nQ 36.96875 -1.421875 32.421875 -1.421875 \nQ 20.0625 -1.421875 12.78125 6.34375 \nQ 5.515625 14.109375 5.515625 27.296875 \nQ 5.515625 40.671875 12.859375 48.328125 \nQ 20.21875 56 33.015625 56 \nQ 37.15625 56 41.109375 55.140625 \nQ 45.0625 54.296875 48.78125 52.59375 \nz\n\" id=\"DejaVuSans-99\"/>\n       <path d=\"M 34.28125 27.484375 \nQ 23.390625 27.484375 19.1875 25 \nQ 14.984375 22.515625 14.984375 16.5 \nQ 14.984375 11.71875 18.140625 8.90625 \nQ 21.296875 6.109375 26.703125 6.109375 \nQ 34.1875 6.109375 38.703125 11.40625 \nQ 43.21875 16.703125 43.21875 25.484375 \nL 43.21875 27.484375 \nz\nM 52.203125 31.203125 \nL 52.203125 0 \nL 43.21875 0 \nL 43.21875 8.296875 \nQ 40.140625 3.328125 35.546875 0.953125 \nQ 30.953125 -1.421875 24.3125 -1.421875 \nQ 15.921875 -1.421875 10.953125 3.296875 \nQ 6 8.015625 6 15.921875 \nQ 6 25.140625 12.171875 29.828125 \nQ 18.359375 34.515625 30.609375 34.515625 \nL 43.21875 34.515625 \nL 43.21875 35.40625 \nQ 43.21875 41.609375 39.140625 45 \nQ 35.0625 48.390625 27.6875 48.390625 \nQ 23 48.390625 18.546875 47.265625 \nQ 14.109375 46.140625 10.015625 43.890625 \nL 10.015625 52.203125 \nQ 14.9375 54.109375 19.578125 55.046875 \nQ 24.21875 56 28.609375 56 \nQ 40.484375 56 46.34375 49.84375 \nQ 52.203125 43.703125 52.203125 31.203125 \nz\n\" id=\"DejaVuSans-97\"/>\n      </defs>\n      <use xlink:href=\"#DejaVuSans-233\"/>\n      <use x=\"61.523438\" xlink:href=\"#DejaVuSans-112\"/>\n      <use x=\"125\" xlink:href=\"#DejaVuSans-111\"/>\n      <use x=\"186.181641\" xlink:href=\"#DejaVuSans-99\"/>\n      <use x=\"241.162109\" xlink:href=\"#DejaVuSans-97\"/>\n     </g>\n    </g>\n   </g>\n   <g id=\"matplotlib.axis_2\">\n    <g id=\"ytick_1\">\n     <g id=\"line2d_7\">\n      <defs>\n       <path d=\"M 0 0 \nL -3.5 0 \n\" id=\"m2a4431864e\" style=\"stroke:#000000;stroke-width:0.8;\"/>\n      </defs>\n      <g>\n       <use style=\"stroke:#000000;stroke-width:0.8;\" x=\"41.003125\" xlink:href=\"#m2a4431864e\" y=\"215.425371\"/>\n      </g>\n     </g>\n     <g id=\"text_8\">\n      <!-- 0 -->\n      <g transform=\"translate(27.640625 219.224589)scale(0.1 -0.1)\">\n       <use xlink:href=\"#DejaVuSans-48\"/>\n      </g>\n     </g>\n    </g>\n    <g id=\"ytick_2\">\n     <g id=\"line2d_8\">\n      <g>\n       <use style=\"stroke:#000000;stroke-width:0.8;\" x=\"41.003125\" xlink:href=\"#m2a4431864e\" y=\"178.703309\"/>\n      </g>\n     </g>\n     <g id=\"text_9\">\n      <!-- 5 -->\n      <g transform=\"translate(27.640625 182.502527)scale(0.1 -0.1)\">\n       <defs>\n        <path d=\"M 10.796875 72.90625 \nL 49.515625 72.90625 \nL 49.515625 64.59375 \nL 19.828125 64.59375 \nL 19.828125 46.734375 \nQ 21.96875 47.46875 24.109375 47.828125 \nQ 26.265625 48.1875 28.421875 48.1875 \nQ 40.625 48.1875 47.75 41.5 \nQ 54.890625 34.8125 54.890625 23.390625 \nQ 54.890625 11.625 47.5625 5.09375 \nQ 40.234375 -1.421875 26.90625 -1.421875 \nQ 22.3125 -1.421875 17.546875 -0.640625 \nQ 12.796875 0.140625 7.71875 1.703125 \nL 7.71875 11.625 \nQ 12.109375 9.234375 16.796875 8.0625 \nQ 21.484375 6.890625 26.703125 6.890625 \nQ 35.15625 6.890625 40.078125 11.328125 \nQ 45.015625 15.765625 45.015625 23.390625 \nQ 45.015625 31 40.078125 35.4375 \nQ 35.15625 39.890625 26.703125 39.890625 \nQ 22.75 39.890625 18.8125 39.015625 \nQ 14.890625 38.140625 10.796875 36.28125 \nz\n\" id=\"DejaVuSans-53\"/>\n       </defs>\n       <use xlink:href=\"#DejaVuSans-53\"/>\n      </g>\n     </g>\n    </g>\n    <g id=\"ytick_3\">\n     <g id=\"line2d_9\">\n      <g>\n       <use style=\"stroke:#000000;stroke-width:0.8;\" x=\"41.003125\" xlink:href=\"#m2a4431864e\" y=\"141.981247\"/>\n      </g>\n     </g>\n     <g id=\"text_10\">\n      <!-- 10 -->\n      <g transform=\"translate(21.278125 145.780465)scale(0.1 -0.1)\">\n       <use xlink:href=\"#DejaVuSans-49\"/>\n       <use x=\"63.623047\" xlink:href=\"#DejaVuSans-48\"/>\n      </g>\n     </g>\n    </g>\n    <g id=\"ytick_4\">\n     <g id=\"line2d_10\">\n      <g>\n       <use style=\"stroke:#000000;stroke-width:0.8;\" x=\"41.003125\" xlink:href=\"#m2a4431864e\" y=\"105.259185\"/>\n      </g>\n     </g>\n     <g id=\"text_11\">\n      <!-- 15 -->\n      <g transform=\"translate(21.278125 109.058403)scale(0.1 -0.1)\">\n       <use xlink:href=\"#DejaVuSans-49\"/>\n       <use x=\"63.623047\" xlink:href=\"#DejaVuSans-53\"/>\n      </g>\n     </g>\n    </g>\n    <g id=\"ytick_5\">\n     <g id=\"line2d_11\">\n      <g>\n       <use style=\"stroke:#000000;stroke-width:0.8;\" x=\"41.003125\" xlink:href=\"#m2a4431864e\" y=\"68.537123\"/>\n      </g>\n     </g>\n     <g id=\"text_12\">\n      <!-- 20 -->\n      <g transform=\"translate(21.278125 72.336341)scale(0.1 -0.1)\">\n       <use xlink:href=\"#DejaVuSans-50\"/>\n       <use x=\"63.623047\" xlink:href=\"#DejaVuSans-48\"/>\n      </g>\n     </g>\n    </g>\n    <g id=\"ytick_6\">\n     <g id=\"line2d_12\">\n      <g>\n       <use style=\"stroke:#000000;stroke-width:0.8;\" x=\"41.003125\" xlink:href=\"#m2a4431864e\" y=\"31.815061\"/>\n      </g>\n     </g>\n     <g id=\"text_13\">\n      <!-- 25 -->\n      <g transform=\"translate(21.278125 35.614279)scale(0.1 -0.1)\">\n       <use xlink:href=\"#DejaVuSans-50\"/>\n       <use x=\"63.623047\" xlink:href=\"#DejaVuSans-53\"/>\n      </g>\n     </g>\n    </g>\n    <g id=\"text_14\">\n     <!-- pérdida -->\n     <g transform=\"translate(15.198438 134.940312)rotate(-90)scale(0.1 -0.1)\">\n      <defs>\n       <path d=\"M 41.109375 46.296875 \nQ 39.59375 47.171875 37.8125 47.578125 \nQ 36.03125 48 33.890625 48 \nQ 26.265625 48 22.1875 43.046875 \nQ 18.109375 38.09375 18.109375 28.8125 \nL 18.109375 0 \nL 9.078125 0 \nL 9.078125 54.6875 \nL 18.109375 54.6875 \nL 18.109375 46.1875 \nQ 20.953125 51.171875 25.484375 53.578125 \nQ 30.03125 56 36.53125 56 \nQ 37.453125 56 38.578125 55.875 \nQ 39.703125 55.765625 41.0625 55.515625 \nz\n\" id=\"DejaVuSans-114\"/>\n       <path d=\"M 45.40625 46.390625 \nL 45.40625 75.984375 \nL 54.390625 75.984375 \nL 54.390625 0 \nL 45.40625 0 \nL 45.40625 8.203125 \nQ 42.578125 3.328125 38.25 0.953125 \nQ 33.9375 -1.421875 27.875 -1.421875 \nQ 17.96875 -1.421875 11.734375 6.484375 \nQ 5.515625 14.40625 5.515625 27.296875 \nQ 5.515625 40.1875 11.734375 48.09375 \nQ 17.96875 56 27.875 56 \nQ 33.9375 56 38.25 53.625 \nQ 42.578125 51.265625 45.40625 46.390625 \nz\nM 14.796875 27.296875 \nQ 14.796875 17.390625 18.875 11.75 \nQ 22.953125 6.109375 30.078125 6.109375 \nQ 37.203125 6.109375 41.296875 11.75 \nQ 45.40625 17.390625 45.40625 27.296875 \nQ 45.40625 37.203125 41.296875 42.84375 \nQ 37.203125 48.484375 30.078125 48.484375 \nQ 22.953125 48.484375 18.875 42.84375 \nQ 14.796875 37.203125 14.796875 27.296875 \nz\n\" id=\"DejaVuSans-100\"/>\n       <path d=\"M 9.421875 54.6875 \nL 18.40625 54.6875 \nL 18.40625 0 \nL 9.421875 0 \nz\nM 9.421875 75.984375 \nL 18.40625 75.984375 \nL 18.40625 64.59375 \nL 9.421875 64.59375 \nz\n\" id=\"DejaVuSans-105\"/>\n      </defs>\n      <use xlink:href=\"#DejaVuSans-112\"/>\n      <use x=\"63.476562\" xlink:href=\"#DejaVuSans-233\"/>\n      <use x=\"125\" xlink:href=\"#DejaVuSans-114\"/>\n      <use x=\"164.363281\" xlink:href=\"#DejaVuSans-100\"/>\n      <use x=\"227.839844\" xlink:href=\"#DejaVuSans-105\"/>\n      <use x=\"255.623047\" xlink:href=\"#DejaVuSans-100\"/>\n      <use x=\"319.099609\" xlink:href=\"#DejaVuSans-97\"/>\n     </g>\n    </g>\n   </g>\n   <g id=\"line2d_13\">\n    <path clip-path=\"url(#p7398dab506)\" d=\"M 56.221307 17.083636 \nL 59.295687 44.001041 \nL 62.370067 67.253047 \nL 65.444447 87.338786 \nL 68.518827 104.689409 \nL 71.593208 119.677354 \nL 74.667588 132.624345 \nL 77.741968 143.808286 \nL 80.816348 153.469295 \nL 83.890728 161.814738 \nL 86.965108 169.023795 \nL 90.039489 175.251156 \nL 93.113869 180.630519 \nL 96.188249 185.27736 \nL 99.262629 189.291415 \nL 102.337009 192.758884 \nL 105.411389 195.754182 \nL 108.48577 198.341616 \nL 111.56015 200.576721 \nL 114.63453 202.507451 \nL 117.70891 204.175277 \nL 120.78329 205.615993 \nL 123.85767 206.860531 \nL 126.932051 207.935601 \nL 130.006431 208.86427 \nL 133.080811 209.666483 \nL 136.155191 210.359464 \nL 139.229571 210.95808 \nL 142.303951 211.475185 \nL 145.378332 211.921877 \nL 148.452712 212.307748 \nL 151.527092 212.641081 \nL 154.601472 212.929021 \nL 157.675852 213.177755 \nL 160.750232 213.392622 \nL 163.824613 213.578232 \nL 166.898993 213.73857 \nL 169.973373 213.877078 \nL 173.047753 213.996727 \nL 176.122133 214.100085 \nL 179.196513 214.18937 \nL 182.270894 214.266501 \nL 185.345274 214.333131 \nL 188.419654 214.390691 \nL 191.494034 214.440414 \nL 194.568414 214.483368 \nL 197.642794 214.520476 \nL 200.717175 214.552534 \nL 203.791555 214.580228 \nL 206.865935 214.604154 \nL 209.940315 214.624823 \nL 213.014695 214.64268 \nL 216.089075 214.658107 \nL 219.163456 214.671437 \nL 222.237836 214.682952 \nL 225.312216 214.692903 \nL 228.386596 214.701499 \nL 231.460976 214.708928 \nL 234.535356 214.715347 \nL 237.609737 214.720894 \nL 240.684117 214.725688 \nL 243.758497 214.72983 \nL 246.832877 214.733411 \nL 249.907257 214.736505 \nL 252.981637 214.739181 \nL 256.056018 214.741494 \nL 259.130398 214.743493 \nL 262.204778 214.745222 \nL 265.279158 214.746718 \nL 268.353538 214.748011 \nL 271.427918 214.74913 \nL 274.502299 214.750098 \nL 277.576679 214.750937 \nL 280.651059 214.751662 \nL 283.725439 214.75229 \nL 286.799819 214.752835 \nL 289.874199 214.753307 \nL 292.94858 214.753716 \nL 296.02296 214.754071 \nL 299.09734 214.754379 \nL 302.17172 214.754646 \nL 305.2461 214.754879 \nL 308.32048 214.755081 \nL 311.394861 214.755257 \nL 314.469241 214.755411 \nL 317.543621 214.755545 \nL 320.618001 214.755662 \nL 323.692381 214.755765 \nL 326.766761 214.755854 \nL 329.841142 214.755933 \nL 332.915522 214.756003 \nL 335.989902 214.756064 \nL 339.064282 214.756118 \nL 342.138662 214.756166 \nL 345.213042 214.756209 \nL 348.287423 214.756247 \nL 351.361803 214.756281 \nL 354.436183 214.756311 \nL 357.510563 214.756339 \nL 360.584943 214.756364 \n\" style=\"fill:none;stroke:#1f77b4;stroke-linecap:square;stroke-width:1.5;\"/>\n   </g>\n   <g id=\"line2d_14\">\n    <path clip-path=\"url(#p7398dab506)\" d=\"M 56.221307 17.083636 \nL 59.295687 86.003146 \nL 62.370067 130.893325 \nL 65.444447 160.132205 \nL 68.518827 179.176696 \nL 71.593208 191.581189 \nL 74.667588 199.660755 \nL 77.741968 204.923322 \nL 80.816348 208.351049 \nL 83.890728 210.583673 \nL 86.965108 212.03788 \nL 90.039489 212.985062 \nL 93.113869 213.602006 \nL 96.188249 214.003849 \nL 99.262629 214.265587 \nL 102.337009 214.436069 \nL 105.411389 214.547113 \nL 108.48577 214.619441 \nL 111.56015 214.666554 \nL 114.63453 214.697241 \nL 117.70891 214.717231 \nL 120.78329 214.730251 \nL 123.85767 214.738734 \nL 126.932051 214.74426 \nL 130.006431 214.747861 \nL 133.080811 214.750207 \nL 136.155191 214.751737 \nL 139.229571 214.752735 \nL 142.303951 214.753386 \nL 145.378332 214.753811 \nL 148.452712 214.754089 \nL 151.527092 214.754272 \nL 154.601472 214.754392 \nL 157.675852 214.754471 \nL 160.750232 214.754524 \nL 163.824613 214.75456 \nL 166.898993 214.754585 \nL 169.973373 214.754602 \nL 173.047753 214.754614 \nL 176.122133 214.754624 \nL 179.196513 214.754631 \nL 182.270894 214.754637 \nL 185.345274 214.754642 \nL 188.419654 214.754647 \nL 191.494034 214.754651 \nL 194.568414 214.754655 \nL 197.642794 214.754659 \nL 200.717175 214.754663 \nL 203.791555 214.754666 \nL 206.865935 214.75467 \nL 209.940315 214.754673 \nL 213.014695 214.754677 \nL 216.089075 214.75468 \nL 219.163456 214.754684 \nL 222.237836 214.754687 \nL 225.312216 214.754691 \nL 228.386596 214.754694 \nL 231.460976 214.754697 \nL 234.535356 214.754701 \nL 237.609737 214.754705 \nL 240.684117 214.754708 \nL 243.758497 214.754711 \nL 246.832877 214.754715 \nL 249.907257 214.754718 \nL 252.981637 214.754721 \nL 256.056018 214.754725 \nL 259.130398 214.754728 \nL 262.204778 214.754732 \nL 265.279158 214.754735 \nL 268.353538 214.754739 \nL 271.427918 214.754742 \nL 274.502299 214.754745 \nL 277.576679 214.754749 \nL 280.651059 214.754752 \nL 283.725439 214.754756 \nL 286.799819 214.754759 \nL 289.874199 214.754762 \nL 292.94858 214.754766 \nL 296.02296 214.754769 \nL 299.09734 214.754772 \nL 302.17172 214.754776 \nL 305.2461 214.754779 \nL 308.32048 214.754782 \nL 311.394861 214.754786 \nL 314.469241 214.754789 \nL 317.543621 214.754792 \nL 320.618001 214.754796 \nL 323.692381 214.754799 \nL 326.766761 214.754802 \nL 329.841142 214.754806 \nL 332.915522 214.754809 \nL 335.989902 214.754812 \nL 339.064282 214.754816 \nL 342.138662 214.754819 \nL 345.213042 214.754822 \nL 348.287423 214.754825 \nL 351.361803 214.754829 \nL 354.436183 214.754832 \nL 357.510563 214.754835 \nL 360.584943 214.754838 \n\" style=\"fill:none;stroke:#ff7f0e;stroke-linecap:square;stroke-width:1.5;\"/>\n   </g>\n   <g id=\"patch_3\">\n    <path d=\"M 41.003125 224.64 \nL 41.003125 7.2 \n\" style=\"fill:none;stroke:#000000;stroke-linecap:square;stroke-linejoin:miter;stroke-width:0.8;\"/>\n   </g>\n   <g id=\"patch_4\">\n    <path d=\"M 375.803125 224.64 \nL 375.803125 7.2 \n\" style=\"fill:none;stroke:#000000;stroke-linecap:square;stroke-linejoin:miter;stroke-width:0.8;\"/>\n   </g>\n   <g id=\"patch_5\">\n    <path d=\"M 41.003125 224.64 \nL 375.803125 224.64 \n\" style=\"fill:none;stroke:#000000;stroke-linecap:square;stroke-linejoin:miter;stroke-width:0.8;\"/>\n   </g>\n   <g id=\"patch_6\">\n    <path d=\"M 41.003125 7.2 \nL 375.803125 7.2 \n\" style=\"fill:none;stroke:#000000;stroke-linecap:square;stroke-linejoin:miter;stroke-width:0.8;\"/>\n   </g>\n   <g id=\"legend_1\">\n    <g id=\"patch_7\">\n     <path d=\"M 277.276563 44.55625 \nL 368.803125 44.55625 \nQ 370.803125 44.55625 370.803125 42.55625 \nL 370.803125 14.2 \nQ 370.803125 12.2 368.803125 12.2 \nL 277.276563 12.2 \nQ 275.276563 12.2 275.276563 14.2 \nL 275.276563 42.55625 \nQ 275.276563 44.55625 277.276563 44.55625 \nz\n\" style=\"fill:#ffffff;opacity:0.8;stroke:#cccccc;stroke-linejoin:miter;\"/>\n    </g>\n    <g id=\"line2d_15\">\n     <path d=\"M 279.276563 20.298437 \nL 299.276563 20.298437 \n\" style=\"fill:none;stroke:#1f77b4;stroke-linecap:square;stroke-width:1.5;\"/>\n    </g>\n    <g id=\"line2d_16\"/>\n    <g id=\"text_15\">\n     <!-- alpha 0.01 -->\n     <g transform=\"translate(307.276563 23.798437)scale(0.1 -0.1)\">\n      <defs>\n       <path d=\"M 9.421875 75.984375 \nL 18.40625 75.984375 \nL 18.40625 0 \nL 9.421875 0 \nz\n\" id=\"DejaVuSans-108\"/>\n       <path d=\"M 54.890625 33.015625 \nL 54.890625 0 \nL 45.90625 0 \nL 45.90625 32.71875 \nQ 45.90625 40.484375 42.875 44.328125 \nQ 39.84375 48.1875 33.796875 48.1875 \nQ 26.515625 48.1875 22.3125 43.546875 \nQ 18.109375 38.921875 18.109375 30.90625 \nL 18.109375 0 \nL 9.078125 0 \nL 9.078125 75.984375 \nL 18.109375 75.984375 \nL 18.109375 46.1875 \nQ 21.34375 51.125 25.703125 53.5625 \nQ 30.078125 56 35.796875 56 \nQ 45.21875 56 50.046875 50.171875 \nQ 54.890625 44.34375 54.890625 33.015625 \nz\n\" id=\"DejaVuSans-104\"/>\n       <path id=\"DejaVuSans-32\"/>\n       <path d=\"M 10.6875 12.40625 \nL 21 12.40625 \nL 21 0 \nL 10.6875 0 \nz\n\" id=\"DejaVuSans-46\"/>\n      </defs>\n      <use xlink:href=\"#DejaVuSans-97\"/>\n      <use x=\"61.279297\" xlink:href=\"#DejaVuSans-108\"/>\n      <use x=\"89.0625\" xlink:href=\"#DejaVuSans-112\"/>\n      <use x=\"152.539062\" xlink:href=\"#DejaVuSans-104\"/>\n      <use x=\"215.917969\" xlink:href=\"#DejaVuSans-97\"/>\n      <use x=\"277.197266\" xlink:href=\"#DejaVuSans-32\"/>\n      <use x=\"308.984375\" xlink:href=\"#DejaVuSans-48\"/>\n      <use x=\"372.607422\" xlink:href=\"#DejaVuSans-46\"/>\n      <use x=\"404.394531\" xlink:href=\"#DejaVuSans-48\"/>\n      <use x=\"468.017578\" xlink:href=\"#DejaVuSans-49\"/>\n     </g>\n    </g>\n    <g id=\"line2d_17\">\n     <path d=\"M 279.276563 34.976562 \nL 299.276563 34.976562 \n\" style=\"fill:none;stroke:#ff7f0e;stroke-linecap:square;stroke-width:1.5;\"/>\n    </g>\n    <g id=\"line2d_18\"/>\n    <g id=\"text_16\">\n     <!-- alpha 0.001 -->\n     <g transform=\"translate(307.276563 38.476562)scale(0.1 -0.1)\">\n      <use xlink:href=\"#DejaVuSans-97\"/>\n      <use x=\"61.279297\" xlink:href=\"#DejaVuSans-108\"/>\n      <use x=\"89.0625\" xlink:href=\"#DejaVuSans-112\"/>\n      <use x=\"152.539062\" xlink:href=\"#DejaVuSans-104\"/>\n      <use x=\"215.917969\" xlink:href=\"#DejaVuSans-97\"/>\n      <use x=\"277.197266\" xlink:href=\"#DejaVuSans-32\"/>\n      <use x=\"308.984375\" xlink:href=\"#DejaVuSans-48\"/>\n      <use x=\"372.607422\" xlink:href=\"#DejaVuSans-46\"/>\n      <use x=\"404.394531\" xlink:href=\"#DejaVuSans-48\"/>\n      <use x=\"468.017578\" xlink:href=\"#DejaVuSans-48\"/>\n      <use x=\"531.640625\" xlink:href=\"#DejaVuSans-49\"/>\n     </g>\n    </g>\n   </g>\n  </g>\n </g>\n <defs>\n  <clipPath id=\"p7398dab506\">\n   <rect height=\"217.44\" width=\"334.8\" x=\"41.003125\" y=\"7.2\"/>\n  </clipPath>\n </defs>\n</svg>\n",
      "image/png": "[encoded data removed]"
     },
     "metadata": {
      "needs_background": "light"
     }
    }
   ],
   "source": [
    "plt.figure()\n",
    "for k in resultados.keys():\n",
    "    grafica=resultados[k][\"loss\"]\n",
    "    plt.plot(range(len(grafica)), grafica, label=f\"alpha {k}\")\n",
    "\n",
    "plt.legend(loc='upper right')\n",
    "plt.xlabel('época')\n",
    "plt.ylabel('pérdida')"
   ]
  },
  {
   "source": [
    "podemos observar que una tasa de aprendizaje menor 0.001 converge en la mitad de iteraciones con respecto a la tasa de aprendizaje de 0.01"
   ],
   "cell_type": "markdown",
   "metadata": {}
  },
  {
   "source": [
    "## 3) Entrena una red completamente conectada para aproximar la compuerta XOR.\n"
   ],
   "cell_type": "markdown",
   "metadata": {}
  },
  {
   "cell_type": "code",
   "execution_count": 327,
   "metadata": {},
   "outputs": [],
   "source": [
    "def XOR(x,y,lr,epocas):\n",
    "    model = pt.nn.Sequential(\n",
    "    nn.Linear(2, 5),\n",
    "    nn.ReLU(),\n",
    "    nn.Linear(5, 1))\n",
    "    optimizer = optim.SGD(model.parameters(), lr=lr)\n",
    "\n",
    "    for epoca in range(epocas):\n",
    "        #forward\n",
    "        y_est = model(X)\n",
    "        \n",
    "        #compute mean squared error loss\n",
    "        loss = mse_loss(y_est, y)\n",
    "\n",
    "        #backprop the loss gradients\n",
    "        loss.backward()\n",
    "\n",
    "        #update the model weights using the gradients\n",
    "        optimizer.step()\n",
    "\n",
    "        #empty the gradients for the next iteration\n",
    "        optimizer.zero_grad()\n",
    "    return model(X).round()"
   ]
  },
  {
   "cell_type": "code",
   "execution_count": 328,
   "metadata": {},
   "outputs": [],
   "source": [
    "xor= np.array([[1, 0, 1], [0, 1, 1],\n",
    "                 [1, 1, 0], [0, 0, 0]], dtype='float32')\n",
    "x = tensor(xor[:, :2])\n",
    "y = tensor(xor[:, -1]).reshape(x.shape[0], 1)"
   ]
  },
  {
   "source": [
    "Podemos ver que con un learning rate de 0.01 y 100 épocas el modelo clasifca todo como 0"
   ],
   "cell_type": "markdown",
   "metadata": {}
  },
  {
   "cell_type": "code",
   "execution_count": 331,
   "metadata": {},
   "outputs": [
    {
     "output_type": "execute_result",
     "data": {
      "text/plain": [
       "tensor([[0.],\n",
       "        [0.],\n",
       "        [0.],\n",
       "        [0.]], grad_fn=<RoundBackward>)"
      ]
     },
     "metadata": {},
     "execution_count": 331
    }
   ],
   "source": [
    "XOR(x=x,y=y,lr=0.01,epocas=100)"
   ]
  },
  {
   "source": [
    "Si aumentamos el número de épocas a 100 el modelo converge a la solucion correcta la cual deberia ser 1 1 0 0 "
   ],
   "cell_type": "markdown",
   "metadata": {}
  },
  {
   "cell_type": "code",
   "execution_count": 330,
   "metadata": {},
   "outputs": [
    {
     "output_type": "execute_result",
     "data": {
      "text/plain": [
       "tensor([[1.],\n",
       "        [1.],\n",
       "        [-0.],\n",
       "        [0.]], grad_fn=<RoundBackward>)"
      ]
     },
     "metadata": {},
     "execution_count": 330
    }
   ],
   "source": [
    "XOR(x=x,y=y,lr=0.01,epocas=1000)"
   ]
  },
  {
   "source": [
    "## 4. Entrena una red completamente conectada para clasificación multiclase en el conjunto CIFAR10\n",
    "\n",
    "### Datos de entrenamiento"
   ],
   "cell_type": "markdown",
   "metadata": {}
  },
  {
   "cell_type": "code",
   "execution_count": 371,
   "metadata": {},
   "outputs": [
    {
     "output_type": "stream",
     "name": "stdout",
     "text": [
      "Files already downloaded and verified\n"
     ]
    }
   ],
   "source": [
    "tsfm = T.ToTensor()\n",
    "\n",
    "# creamos un Dataset\n",
    "trn_ds = CIFAR10(\n",
    "    # directorio de datos\n",
    "    root=DATA_DIR,\n",
    "    # subconjunto de entrenamiento\n",
    "    train=True,\n",
    "    # transformación\n",
    "    transform=tsfm,\n",
    "    # descaraga\n",
    "    download=True\n",
    ")\n",
    "\n",
    "# creamos un DataLoader\n",
    "trn_dl = DataLoader(\n",
    "    # conjunto\n",
    "    trn_ds,\n",
    "    # tamaño del lote\n",
    "    batch_size=BATCH_SIZE,\n",
    "    # desordenar\n",
    "    shuffle=True\n",
    ")"
   ]
  },
  {
   "source": [
    "### Datos de prueba"
   ],
   "cell_type": "markdown",
   "metadata": {}
  },
  {
   "cell_type": "code",
   "execution_count": 372,
   "metadata": {},
   "outputs": [],
   "source": [
    "# creamos un Dataset\n",
    "tst_ds = CIFAR10(\n",
    "    # directorio de datos\n",
    "    root=DATA_DIR, \n",
    "    # subconjunto de entrenamiento\n",
    "    train=False,\n",
    "    # transformación\n",
    "    transform=tsfm\n",
    ")\n",
    "\n",
    "# creamos un DataLoader\n",
    "tst_dl = DataLoader(\n",
    "    # subconjunto\n",
    "    tst_ds,\n",
    "    # tamaño del lote\n",
    "    batch_size=BATCH_SIZE,\n",
    "    # desordenar\n",
    "    shuffle=False\n",
    ")"
   ]
  },
  {
   "source": [
    "### Definición de la arquitectura"
   ],
   "cell_type": "markdown",
   "metadata": {}
  },
  {
   "cell_type": "code",
   "execution_count": 379,
   "metadata": {},
   "outputs": [],
   "source": [
    "# definición del arquitectura\n",
    "class CNN(nn.Module):\n",
    "    \n",
    "    # inicializador\n",
    "    def __init__(self):\n",
    "\n",
    "        # inicilización del objeto padre, obligatorio\n",
    "        super(CNN, self).__init__()\n",
    "        self.num_feats = 6 * 16 * 16\n",
    "\n",
    "        # definición de bloques conv\n",
    "        # [M, 1, 28, 28] => [M, 4, 14, 14]\n",
    "        self.cnn = nn.Sequential(\n",
    "\n",
    "            # bloque conv1\n",
    "            # [M, 1, 28, 28] => [M, 4, 28, 28]\n",
    "            nn.Conv2d(in_channels=3, out_channels=6, \n",
    "                      kernel_size=3, padding=1),\n",
    "            # [M, 4, 28, 28]\n",
    "            nn.ReLU(),\n",
    "            # [M, 4, 28, 28] => [M, 4, 14, 14]\n",
    "            nn.MaxPool2d(kernel_size=2, stride=2),\n",
    "\n",
    "        )       \n",
    "        \n",
    "        # [M, 4, 14, 14] => [M, 4x14x14]\n",
    "        self.flatten = nn.Flatten()\n",
    "\n",
    "        # [M, 4x14x14] => [M, 1]\n",
    "        self.cls = nn.Linear(self.num_feats, 10)\n",
    "    \n",
    "    # metodo para inferencia\n",
    "    def forward(self, x):\n",
    "        # [M, 1, 28, 28] => [M, 4, 14, 14]\n",
    "        x = self.cnn(x)\n",
    "        # [M, 4, 14, 14] => [M, 4x14x14]\n",
    "        x = self.flatten(x)\n",
    "        # [M, 4x14x14] => [M, 10]\n",
    "        x = self.cls(x)\n",
    "        return x"
   ]
  },
  {
   "source": [
    "### Instancia de la arquitectura"
   ],
   "cell_type": "markdown",
   "metadata": {}
  },
  {
   "cell_type": "code",
   "execution_count": 459,
   "metadata": {},
   "outputs": [
    {
     "output_type": "stream",
     "name": "stdout",
     "text": [
      "CNN(\n  (cnn): Sequential(\n    (0): Conv2d(3, 6, kernel_size=(3, 3), stride=(1, 1), padding=(1, 1))\n    (1): ReLU()\n    (2): MaxPool2d(kernel_size=2, stride=2, padding=0, dilation=1, ceil_mode=False)\n  )\n  (flatten): Flatten(start_dim=1, end_dim=-1)\n  (cls): Linear(in_features=1536, out_features=10, bias=True)\n)\n"
     ]
    }
   ],
   "source": [
    "model = CNN()\n",
    "print(model)"
   ]
  },
  {
   "cell_type": "code",
   "execution_count": 462,
   "metadata": {},
   "outputs": [],
   "source": [
    "x,y=next(iter(tst_ds))"
   ]
  },
  {
   "source": [
    "### Inferencia con datos sintéticos"
   ],
   "cell_type": "markdown",
   "metadata": {}
  },
  {
   "cell_type": "code",
   "execution_count": 465,
   "metadata": {},
   "outputs": [
    {
     "output_type": "stream",
     "name": "stdout",
     "text": [
      "torch.Size([1, 3, 32, 32]) => torch.Size([1, 10])\n"
     ]
    }
   ],
   "source": [
    "x = torch.zeros(1, 3, 32, 32)\n",
    "y = model(x)\n",
    "print(f'{x.shape} => {y.shape}')"
   ]
  },
  {
   "source": [
    "### Inspacción de la arquitectura"
   ],
   "cell_type": "markdown",
   "metadata": {}
  },
  {
   "cell_type": "code",
   "execution_count": 466,
   "metadata": {},
   "outputs": [
    {
     "output_type": "execute_result",
     "data": {
      "text/plain": [
       "==========================================================================================\n",
       "Layer (type:depth-idx)                   Output Shape              Param #\n",
       "==========================================================================================\n",
       "├─Sequential: 1-1                        [1, 6, 16, 16]            --\n",
       "|    └─Conv2d: 2-1                       [1, 6, 32, 32]            168\n",
       "|    └─ReLU: 2-2                         [1, 6, 32, 32]            --\n",
       "|    └─MaxPool2d: 2-3                    [1, 6, 16, 16]            --\n",
       "├─Flatten: 1-2                           [1, 1536]                 --\n",
       "├─Linear: 1-3                            [1, 10]                   15,370\n",
       "==========================================================================================\n",
       "Total params: 15,538\n",
       "Trainable params: 15,538\n",
       "Non-trainable params: 0\n",
       "Total mult-adds (M): 0.18\n",
       "==========================================================================================\n",
       "Input size (MB): 0.01\n",
       "Forward/backward pass size (MB): 0.05\n",
       "Params size (MB): 0.06\n",
       "Estimated Total Size (MB): 0.12\n",
       "=========================================================================================="
      ]
     },
     "metadata": {},
     "execution_count": 466
    }
   ],
   "source": [
    "summary(model, (1, 3, 32, 32), device='cpu', verbose=0)"
   ]
  },
  {
   "source": [
    "### Entrenamiento"
   ],
   "cell_type": "markdown",
   "metadata": {}
  },
  {
   "cell_type": "code",
   "execution_count": 377,
   "metadata": {},
   "outputs": [],
   "source": [
    "def train_epoch(dl, model, opt):\n",
    "\n",
    "    # por cada lote\n",
    "    for x, y_true in dl:\n",
    "        \n",
    "        # computamos logits\n",
    "        y_lgts = model(x)\n",
    "        \n",
    "        # computamos la pérdida\n",
    "        loss = F.cross_entropy(y_lgts, y_true)\n",
    "        \n",
    "        # vaciamos los gradientes\n",
    "        opt.zero_grad()\n",
    "        \n",
    "        # retropropagamos\n",
    "        loss.backward()\n",
    "        \n",
    "        # actualizamos parámetros\n",
    "        opt.step()\n",
    "\n",
    "\n",
    "def eval_epoch(dl, model, num_batches=None):\n",
    "\n",
    "    # evitamos que se registren las operaciones \n",
    "    # en la gráfica de cómputo\n",
    "    with torch.no_grad():\n",
    "\n",
    "        # historiales\n",
    "        losses, accs = [], []\n",
    "\n",
    "        # validación de la época con num_batches\n",
    "        # si num_batches==None, se usan todos los lotes\n",
    "        for x, y_true in take(dl, num_batches):\n",
    "\n",
    "            # computamos los logits\n",
    "            y_lgts = model(x)\n",
    "\n",
    "            # computamos los puntajes\n",
    "            y_prob = F.softmax(y_lgts, 1)\n",
    "\n",
    "            # computamos la clases\n",
    "            y_pred = torch.argmax(y_prob, 1)\n",
    "\n",
    "            # computamos la pérdida\n",
    "            loss = F.cross_entropy(y_lgts, y_true)\n",
    "\n",
    "            # computamos la exactitud\n",
    "            acc = (y_true == y_pred).type(torch.float32).mean()\n",
    "\n",
    "            # guardamos históricos\n",
    "            losses.append(loss.item())\n",
    "            accs.append(acc.item())\n",
    "\n",
    "        # promediamos\n",
    "        loss = np.mean(losses) * 100\n",
    "        acc = np.mean(accs) * 100\n",
    "\n",
    "        return loss, acc\n",
    "        \n",
    "        \n",
    "def train(model, trn_dl, tst_dl, lr=1e-3, epochs=20,\n",
    "          trn_batches=None, tst_batches=None):\n",
    "\n",
    "    # historiales\n",
    "    loss_hist, acc_hist = [], []\n",
    "    \n",
    "    # optimizador\n",
    "    opt = optim.SGD(model.parameters(), lr=lr)\n",
    "\n",
    "    # ciclo de entrenamiento\n",
    "    for epoch in trange(epochs):\n",
    "\n",
    "        # entrenamos la época\n",
    "        train_epoch(trn_dl, model, opt)\n",
    "\n",
    "        # evaluamos la época en entrenamiento\n",
    "        trn_loss, trn_acc = eval_epoch(trn_dl, model, trn_batches)\n",
    "        # evaluamos la época en prueba\n",
    "        tst_loss, tst_acc = eval_epoch(tst_dl, model, tst_batches)\n",
    "\n",
    "        # guardamos historial\n",
    "        loss_hist.append([trn_loss, tst_loss])\n",
    "        acc_hist.append([trn_acc, tst_acc])\n",
    "\n",
    "        # imprimimos progreso\n",
    "        print(f'E{epoch:02} '\n",
    "              f'loss=[{trn_loss:6.2f},{tst_loss:6.2f}] '\n",
    "              f'acc=[{trn_acc:5.2f},{tst_acc:5.2f}]')\n",
    "\n",
    "    return loss_hist, acc_hist"
   ]
  },
  {
   "cell_type": "code",
   "execution_count": 452,
   "metadata": {},
   "outputs": [
    {
     "output_type": "stream",
     "name": "stderr",
     "text": [
      "  2%|▏         | 1/50 [00:25<20:52, 25.56s/it]E00 loss=[218.23,218.29] acc=[21.48,21.83]\n",
      "  4%|▍         | 2/50 [00:46<18:10, 22.72s/it]E01 loss=[206.38,206.33] acc=[28.30,28.41]\n",
      "  6%|▌         | 3/50 [01:09<18:00, 22.99s/it]E02 loss=[196.14,195.96] acc=[32.48,32.03]\n",
      "  8%|▊         | 4/50 [01:31<17:19, 22.59s/it]E03 loss=[190.84,190.67] acc=[33.46,32.94]\n",
      " 10%|█         | 5/50 [01:54<17:03, 22.75s/it]E04 loss=[188.75,188.71] acc=[34.55,33.80]\n",
      " 12%|█▏        | 6/50 [02:17<16:41, 22.75s/it]E05 loss=[186.07,186.12] acc=[35.70,35.33]\n",
      " 14%|█▍        | 7/50 [02:40<16:19, 22.77s/it]E06 loss=[183.85,183.91] acc=[36.55,35.78]\n",
      " 16%|█▌        | 8/50 [03:01<15:35, 22.27s/it]E07 loss=[181.91,181.97] acc=[36.92,36.68]\n",
      " 18%|█▊        | 9/50 [03:23<15:10, 22.22s/it]E08 loss=[180.04,180.09] acc=[37.89,37.26]\n",
      " 20%|██        | 10/50 [03:48<15:28, 23.22s/it]E09 loss=[179.06,179.16] acc=[37.95,37.42]\n",
      " 22%|██▏       | 11/50 [04:11<14:57, 23.02s/it]E10 loss=[177.28,177.38] acc=[38.79,38.44]\n",
      " 24%|██▍       | 12/50 [04:35<14:45, 23.29s/it]E11 loss=[175.83,175.98] acc=[39.17,38.68]\n",
      " 26%|██▌       | 13/50 [05:01<14:56, 24.22s/it]E12 loss=[174.57,174.76] acc=[39.79,39.39]\n",
      " 28%|██▊       | 14/50 [05:28<14:54, 24.84s/it]E13 loss=[173.52,173.61] acc=[39.94,39.56]\n",
      " 30%|███       | 15/50 [05:52<14:24, 24.70s/it]E14 loss=[171.45,171.64] acc=[41.18,40.70]\n",
      " 32%|███▏      | 16/50 [06:17<14:00, 24.73s/it]E15 loss=[170.56,170.89] acc=[41.18,40.35]\n",
      " 34%|███▍      | 17/50 [06:39<13:08, 23.88s/it]E16 loss=[168.82,169.10] acc=[41.43,40.97]\n",
      " 36%|███▌      | 18/50 [06:59<12:13, 22.92s/it]E17 loss=[166.86,167.21] acc=[42.79,42.21]\n",
      " 38%|███▊      | 19/50 [07:22<11:49, 22.90s/it]E18 loss=[165.45,165.88] acc=[43.54,42.87]\n",
      " 40%|████      | 20/50 [07:48<11:51, 23.73s/it]E19 loss=[163.75,164.26] acc=[43.92,42.93]\n",
      " 42%|████▏     | 21/50 [08:14<11:46, 24.35s/it]E20 loss=[162.34,162.85] acc=[44.19,43.93]\n",
      " 44%|████▍     | 22/50 [08:40<11:41, 25.05s/it]E21 loss=[160.76,161.30] acc=[44.55,44.27]\n",
      " 46%|████▌     | 23/50 [09:06<11:23, 25.31s/it]E22 loss=[159.07,159.72] acc=[45.02,44.25]\n",
      " 48%|████▊     | 24/50 [09:33<11:09, 25.74s/it]E23 loss=[157.90,158.64] acc=[45.64,44.79]\n",
      " 50%|█████     | 25/50 [09:56<10:24, 24.99s/it]E24 loss=[157.02,157.86] acc=[45.83,45.16]\n",
      " 52%|█████▏    | 26/50 [10:20<09:54, 24.75s/it]E25 loss=[156.26,157.23] acc=[45.70,44.63]\n",
      " 54%|█████▍    | 27/50 [10:40<08:53, 23.21s/it]E26 loss=[154.67,155.68] acc=[46.44,45.35]\n",
      " 56%|█████▌    | 28/50 [11:01<08:18, 22.68s/it]E27 loss=[153.56,154.69] acc=[46.84,45.69]\n",
      " 58%|█████▊    | 29/50 [11:23<07:51, 22.46s/it]E28 loss=[153.09,154.19] acc=[46.87,45.76]\n",
      " 60%|██████    | 30/50 [11:43<07:11, 21.59s/it]E29 loss=[152.17,153.41] acc=[47.04,45.71]\n",
      " 62%|██████▏   | 31/50 [12:04<06:45, 21.33s/it]E30 loss=[152.06,153.41] acc=[46.80,45.36]\n",
      " 64%|██████▍   | 32/50 [12:24<06:19, 21.06s/it]E31 loss=[151.65,153.04] acc=[46.97,45.94]\n",
      " 66%|██████▌   | 33/50 [12:45<05:57, 21.05s/it]E32 loss=[151.27,152.68] acc=[47.25,46.03]\n",
      " 68%|██████▊   | 34/50 [13:09<05:50, 21.90s/it]E33 loss=[150.56,152.17] acc=[46.97,46.00]\n",
      " 70%|███████   | 35/50 [13:32<05:34, 22.27s/it]E34 loss=[149.77,151.46] acc=[47.94,46.71]\n",
      " 72%|███████▏  | 36/50 [13:54<05:10, 22.17s/it]E35 loss=[149.37,151.00] acc=[47.88,46.88]\n",
      " 74%|███████▍  | 37/50 [14:21<05:08, 23.71s/it]E36 loss=[149.43,151.34] acc=[47.36,46.07]\n",
      " 76%|███████▌  | 38/50 [14:43<04:35, 22.95s/it]E37 loss=[149.06,150.93] acc=[47.52,46.12]\n",
      " 78%|███████▊  | 39/50 [15:04<04:08, 22.57s/it]E38 loss=[148.56,150.37] acc=[48.35,47.04]\n",
      " 80%|████████  | 40/50 [15:29<03:52, 23.28s/it]E39 loss=[147.97,149.92] acc=[48.46,47.38]\n",
      " 82%|████████▏ | 41/50 [15:51<03:26, 22.95s/it]E40 loss=[147.58,149.53] acc=[48.24,47.23]\n",
      " 84%|████████▍ | 42/50 [16:15<03:05, 23.25s/it]E41 loss=[146.89,148.94] acc=[48.61,47.61]\n",
      " 86%|████████▌ | 43/50 [16:39<02:43, 23.36s/it]E42 loss=[147.33,149.50] acc=[48.19,46.82]\n",
      " 88%|████████▊ | 44/50 [17:02<02:19, 23.33s/it]E43 loss=[146.75,148.81] acc=[48.70,47.63]\n",
      " 90%|█████████ | 45/50 [17:23<01:52, 22.48s/it]E44 loss=[146.73,148.94] acc=[48.79,47.82]\n",
      " 92%|█████████▏| 46/50 [17:45<01:29, 22.36s/it]E45 loss=[147.20,149.40] acc=[48.44,47.20]\n",
      " 94%|█████████▍| 47/50 [18:07<01:07, 22.42s/it]E46 loss=[146.05,148.34] acc=[49.15,48.00]\n",
      " 96%|█████████▌| 48/50 [18:30<00:45, 22.62s/it]E47 loss=[145.52,148.01] acc=[49.02,47.86]\n",
      " 98%|█████████▊| 49/50 [18:51<00:22, 22.15s/it]E48 loss=[145.53,147.95] acc=[49.34,48.09]\n",
      "100%|██████████| 50/50 [19:14<00:00, 23.08s/it]E49 loss=[145.65,148.12] acc=[49.03,47.66]\n",
      "\n"
     ]
    }
   ],
   "source": [
    "# instanciamos un modelo\n",
    "model = CNN()\n",
    "# entrenamos\n",
    "loss_hist, acc_hist = train(model, trn_dl, tst_dl,epochs=50)"
   ]
  },
  {
   "source": [
    "### Gráficas de pérdidas y exactitud\n",
    "Gráfica de Pérdida"
   ],
   "cell_type": "markdown",
   "metadata": {}
  },
  {
   "cell_type": "code",
   "execution_count": 453,
   "metadata": {},
   "outputs": [
    {
     "output_type": "display_data",
     "data": {
      "text/plain": "<Figure size 432x288 with 1 Axes>",
      "image/svg+xml": "<?xml version=\"1.0\" encoding=\"utf-8\" standalone=\"no\"?>\n<!DOCTYPE svg PUBLIC \"-//W3C//DTD SVG 1.1//EN\"\n  \"http://www.w3.org/Graphics/SVG/1.1/DTD/svg11.dtd\">\n<!-- Created with matplotlib (https://matplotlib.org/) -->\n<svg height=\"262.59625pt\" version=\"1.1\" viewBox=\"0 0 389.365625 262.59625\" width=\"389.365625pt\" xmlns=\"http://www.w3.org/2000/svg\" xmlns:xlink=\"http://www.w3.org/1999/xlink\">\n <metadata>\n  <rdf:RDF xmlns:cc=\"http://creativecommons.org/ns#\" xmlns:dc=\"http://purl.org/dc/elements/1.1/\" xmlns:rdf=\"http://www.w3.org/1999/02/22-rdf-syntax-ns#\">\n   <cc:Work>\n    <dc:type rdf:resource=\"http://purl.org/dc/dcmitype/StillImage\"/>\n    <dc:date>2021-03-19T21:06:18.116898</dc:date>\n    <dc:format>image/svg+xml</dc:format>\n    <dc:creator>\n     <cc:Agent>\n      <dc:title>Matplotlib v3.3.4, https://matplotlib.org/</dc:title>\n     </cc:Agent>\n    </dc:creator>\n   </cc:Work>\n  </rdf:RDF>\n </metadata>\n <defs>\n  <style type=\"text/css\">*{stroke-linecap:butt;stroke-linejoin:round;}</style>\n </defs>\n <g id=\"figure_1\">\n  <g id=\"patch_1\">\n   <path d=\"M 0 262.59625 \nL 389.365625 262.59625 \nL 389.365625 0 \nL 0 0 \nz\n\" style=\"fill:none;\"/>\n  </g>\n  <g id=\"axes_1\">\n   <g id=\"patch_2\">\n    <path d=\"M 47.365625 224.64 \nL 382.165625 224.64 \nL 382.165625 7.2 \nL 47.365625 7.2 \nz\n\" style=\"fill:#ffffff;\"/>\n   </g>\n   <g id=\"matplotlib.axis_1\">\n    <g id=\"xtick_1\">\n     <g id=\"line2d_1\">\n      <defs>\n       <path d=\"M 0 0 \nL 0 3.5 \n\" id=\"md7ec84767e\" style=\"stroke:#000000;stroke-width:0.8;\"/>\n      </defs>\n      <g>\n       <use style=\"stroke:#000000;stroke-width:0.8;\" x=\"62.583807\" xlink:href=\"#md7ec84767e\" y=\"224.64\"/>\n      </g>\n     </g>\n     <g id=\"text_1\">\n      <!-- 0 -->\n      <g transform=\"translate(59.402557 239.238437)scale(0.1 -0.1)\">\n       <defs>\n        <path d=\"M 31.78125 66.40625 \nQ 24.171875 66.40625 20.328125 58.90625 \nQ 16.5 51.421875 16.5 36.375 \nQ 16.5 21.390625 20.328125 13.890625 \nQ 24.171875 6.390625 31.78125 6.390625 \nQ 39.453125 6.390625 43.28125 13.890625 \nQ 47.125 21.390625 47.125 36.375 \nQ 47.125 51.421875 43.28125 58.90625 \nQ 39.453125 66.40625 31.78125 66.40625 \nz\nM 31.78125 74.21875 \nQ 44.046875 74.21875 50.515625 64.515625 \nQ 56.984375 54.828125 56.984375 36.375 \nQ 56.984375 17.96875 50.515625 8.265625 \nQ 44.046875 -1.421875 31.78125 -1.421875 \nQ 19.53125 -1.421875 13.0625 8.265625 \nQ 6.59375 17.96875 6.59375 36.375 \nQ 6.59375 54.828125 13.0625 64.515625 \nQ 19.53125 74.21875 31.78125 74.21875 \nz\n\" id=\"DejaVuSans-48\"/>\n       </defs>\n       <use xlink:href=\"#DejaVuSans-48\"/>\n      </g>\n     </g>\n    </g>\n    <g id=\"xtick_2\">\n     <g id=\"line2d_2\">\n      <g>\n       <use style=\"stroke:#000000;stroke-width:0.8;\" x=\"124.698835\" xlink:href=\"#md7ec84767e\" y=\"224.64\"/>\n      </g>\n     </g>\n     <g id=\"text_2\">\n      <!-- 10 -->\n      <g transform=\"translate(118.336335 239.238437)scale(0.1 -0.1)\">\n       <defs>\n        <path d=\"M 12.40625 8.296875 \nL 28.515625 8.296875 \nL 28.515625 63.921875 \nL 10.984375 60.40625 \nL 10.984375 69.390625 \nL 28.421875 72.90625 \nL 38.28125 72.90625 \nL 38.28125 8.296875 \nL 54.390625 8.296875 \nL 54.390625 0 \nL 12.40625 0 \nz\n\" id=\"DejaVuSans-49\"/>\n       </defs>\n       <use xlink:href=\"#DejaVuSans-49\"/>\n       <use x=\"63.623047\" xlink:href=\"#DejaVuSans-48\"/>\n      </g>\n     </g>\n    </g>\n    <g id=\"xtick_3\">\n     <g id=\"line2d_3\">\n      <g>\n       <use style=\"stroke:#000000;stroke-width:0.8;\" x=\"186.813862\" xlink:href=\"#md7ec84767e\" y=\"224.64\"/>\n      </g>\n     </g>\n     <g id=\"text_3\">\n      <!-- 20 -->\n      <g transform=\"translate(180.451362 239.238437)scale(0.1 -0.1)\">\n       <defs>\n        <path d=\"M 19.1875 8.296875 \nL 53.609375 8.296875 \nL 53.609375 0 \nL 7.328125 0 \nL 7.328125 8.296875 \nQ 12.9375 14.109375 22.625 23.890625 \nQ 32.328125 33.6875 34.8125 36.53125 \nQ 39.546875 41.84375 41.421875 45.53125 \nQ 43.3125 49.21875 43.3125 52.78125 \nQ 43.3125 58.59375 39.234375 62.25 \nQ 35.15625 65.921875 28.609375 65.921875 \nQ 23.96875 65.921875 18.8125 64.3125 \nQ 13.671875 62.703125 7.8125 59.421875 \nL 7.8125 69.390625 \nQ 13.765625 71.78125 18.9375 73 \nQ 24.125 74.21875 28.421875 74.21875 \nQ 39.75 74.21875 46.484375 68.546875 \nQ 53.21875 62.890625 53.21875 53.421875 \nQ 53.21875 48.921875 51.53125 44.890625 \nQ 49.859375 40.875 45.40625 35.40625 \nQ 44.1875 33.984375 37.640625 27.21875 \nQ 31.109375 20.453125 19.1875 8.296875 \nz\n\" id=\"DejaVuSans-50\"/>\n       </defs>\n       <use xlink:href=\"#DejaVuSans-50\"/>\n       <use x=\"63.623047\" xlink:href=\"#DejaVuSans-48\"/>\n      </g>\n     </g>\n    </g>\n    <g id=\"xtick_4\">\n     <g id=\"line2d_4\">\n      <g>\n       <use style=\"stroke:#000000;stroke-width:0.8;\" x=\"248.92889\" xlink:href=\"#md7ec84767e\" y=\"224.64\"/>\n      </g>\n     </g>\n     <g id=\"text_4\">\n      <!-- 30 -->\n      <g transform=\"translate(242.56639 239.238437)scale(0.1 -0.1)\">\n       <defs>\n        <path d=\"M 40.578125 39.3125 \nQ 47.65625 37.796875 51.625 33 \nQ 55.609375 28.21875 55.609375 21.1875 \nQ 55.609375 10.40625 48.1875 4.484375 \nQ 40.765625 -1.421875 27.09375 -1.421875 \nQ 22.515625 -1.421875 17.65625 -0.515625 \nQ 12.796875 0.390625 7.625 2.203125 \nL 7.625 11.71875 \nQ 11.71875 9.328125 16.59375 8.109375 \nQ 21.484375 6.890625 26.8125 6.890625 \nQ 36.078125 6.890625 40.9375 10.546875 \nQ 45.796875 14.203125 45.796875 21.1875 \nQ 45.796875 27.640625 41.28125 31.265625 \nQ 36.765625 34.90625 28.71875 34.90625 \nL 20.21875 34.90625 \nL 20.21875 43.015625 \nL 29.109375 43.015625 \nQ 36.375 43.015625 40.234375 45.921875 \nQ 44.09375 48.828125 44.09375 54.296875 \nQ 44.09375 59.90625 40.109375 62.90625 \nQ 36.140625 65.921875 28.71875 65.921875 \nQ 24.65625 65.921875 20.015625 65.03125 \nQ 15.375 64.15625 9.8125 62.3125 \nL 9.8125 71.09375 \nQ 15.4375 72.65625 20.34375 73.4375 \nQ 25.25 74.21875 29.59375 74.21875 \nQ 40.828125 74.21875 47.359375 69.109375 \nQ 53.90625 64.015625 53.90625 55.328125 \nQ 53.90625 49.265625 50.4375 45.09375 \nQ 46.96875 40.921875 40.578125 39.3125 \nz\n\" id=\"DejaVuSans-51\"/>\n       </defs>\n       <use xlink:href=\"#DejaVuSans-51\"/>\n       <use x=\"63.623047\" xlink:href=\"#DejaVuSans-48\"/>\n      </g>\n     </g>\n    </g>\n    <g id=\"xtick_5\">\n     <g id=\"line2d_5\">\n      <g>\n       <use style=\"stroke:#000000;stroke-width:0.8;\" x=\"311.043918\" xlink:href=\"#md7ec84767e\" y=\"224.64\"/>\n      </g>\n     </g>\n     <g id=\"text_5\">\n      <!-- 40 -->\n      <g transform=\"translate(304.681418 239.238437)scale(0.1 -0.1)\">\n       <defs>\n        <path d=\"M 37.796875 64.3125 \nL 12.890625 25.390625 \nL 37.796875 25.390625 \nz\nM 35.203125 72.90625 \nL 47.609375 72.90625 \nL 47.609375 25.390625 \nL 58.015625 25.390625 \nL 58.015625 17.1875 \nL 47.609375 17.1875 \nL 47.609375 0 \nL 37.796875 0 \nL 37.796875 17.1875 \nL 4.890625 17.1875 \nL 4.890625 26.703125 \nz\n\" id=\"DejaVuSans-52\"/>\n       </defs>\n       <use xlink:href=\"#DejaVuSans-52\"/>\n       <use x=\"63.623047\" xlink:href=\"#DejaVuSans-48\"/>\n      </g>\n     </g>\n    </g>\n    <g id=\"xtick_6\">\n     <g id=\"line2d_6\">\n      <g>\n       <use style=\"stroke:#000000;stroke-width:0.8;\" x=\"373.158946\" xlink:href=\"#md7ec84767e\" y=\"224.64\"/>\n      </g>\n     </g>\n     <g id=\"text_6\">\n      <!-- 50 -->\n      <g transform=\"translate(366.796446 239.238437)scale(0.1 -0.1)\">\n       <defs>\n        <path d=\"M 10.796875 72.90625 \nL 49.515625 72.90625 \nL 49.515625 64.59375 \nL 19.828125 64.59375 \nL 19.828125 46.734375 \nQ 21.96875 47.46875 24.109375 47.828125 \nQ 26.265625 48.1875 28.421875 48.1875 \nQ 40.625 48.1875 47.75 41.5 \nQ 54.890625 34.8125 54.890625 23.390625 \nQ 54.890625 11.625 47.5625 5.09375 \nQ 40.234375 -1.421875 26.90625 -1.421875 \nQ 22.3125 -1.421875 17.546875 -0.640625 \nQ 12.796875 0.140625 7.71875 1.703125 \nL 7.71875 11.625 \nQ 12.109375 9.234375 16.796875 8.0625 \nQ 21.484375 6.890625 26.703125 6.890625 \nQ 35.15625 6.890625 40.078125 11.328125 \nQ 45.015625 15.765625 45.015625 23.390625 \nQ 45.015625 31 40.078125 35.4375 \nQ 35.15625 39.890625 26.703125 39.890625 \nQ 22.75 39.890625 18.8125 39.015625 \nQ 14.890625 38.140625 10.796875 36.28125 \nz\n\" id=\"DejaVuSans-53\"/>\n       </defs>\n       <use xlink:href=\"#DejaVuSans-53\"/>\n       <use x=\"63.623047\" xlink:href=\"#DejaVuSans-48\"/>\n      </g>\n     </g>\n    </g>\n    <g id=\"text_7\">\n     <!-- época -->\n     <g transform=\"translate(199.642188 253.316562)scale(0.1 -0.1)\">\n      <defs>\n       <path d=\"M 56.203125 29.59375 \nL 56.203125 25.203125 \nL 14.890625 25.203125 \nQ 15.484375 15.921875 20.484375 11.0625 \nQ 25.484375 6.203125 34.421875 6.203125 \nQ 39.59375 6.203125 44.453125 7.46875 \nQ 49.3125 8.734375 54.109375 11.28125 \nL 54.109375 2.78125 \nQ 49.265625 0.734375 44.1875 -0.34375 \nQ 39.109375 -1.421875 33.890625 -1.421875 \nQ 20.796875 -1.421875 13.15625 6.1875 \nQ 5.515625 13.8125 5.515625 26.8125 \nQ 5.515625 40.234375 12.765625 48.109375 \nQ 20.015625 56 32.328125 56 \nQ 43.359375 56 49.78125 48.890625 \nQ 56.203125 41.796875 56.203125 29.59375 \nz\nM 47.21875 32.234375 \nQ 47.125 39.59375 43.09375 43.984375 \nQ 39.0625 48.390625 32.421875 48.390625 \nQ 24.90625 48.390625 20.390625 44.140625 \nQ 15.875 39.890625 15.1875 32.171875 \nz\nM 38.578125 79.984375 \nL 48.296875 79.984375 \nL 32.375 61.625 \nL 24.90625 61.625 \nz\n\" id=\"DejaVuSans-233\"/>\n       <path d=\"M 18.109375 8.203125 \nL 18.109375 -20.796875 \nL 9.078125 -20.796875 \nL 9.078125 54.6875 \nL 18.109375 54.6875 \nL 18.109375 46.390625 \nQ 20.953125 51.265625 25.265625 53.625 \nQ 29.59375 56 35.59375 56 \nQ 45.5625 56 51.78125 48.09375 \nQ 58.015625 40.1875 58.015625 27.296875 \nQ 58.015625 14.40625 51.78125 6.484375 \nQ 45.5625 -1.421875 35.59375 -1.421875 \nQ 29.59375 -1.421875 25.265625 0.953125 \nQ 20.953125 3.328125 18.109375 8.203125 \nz\nM 48.6875 27.296875 \nQ 48.6875 37.203125 44.609375 42.84375 \nQ 40.53125 48.484375 33.40625 48.484375 \nQ 26.265625 48.484375 22.1875 42.84375 \nQ 18.109375 37.203125 18.109375 27.296875 \nQ 18.109375 17.390625 22.1875 11.75 \nQ 26.265625 6.109375 33.40625 6.109375 \nQ 40.53125 6.109375 44.609375 11.75 \nQ 48.6875 17.390625 48.6875 27.296875 \nz\n\" id=\"DejaVuSans-112\"/>\n       <path d=\"M 30.609375 48.390625 \nQ 23.390625 48.390625 19.1875 42.75 \nQ 14.984375 37.109375 14.984375 27.296875 \nQ 14.984375 17.484375 19.15625 11.84375 \nQ 23.34375 6.203125 30.609375 6.203125 \nQ 37.796875 6.203125 41.984375 11.859375 \nQ 46.1875 17.53125 46.1875 27.296875 \nQ 46.1875 37.015625 41.984375 42.703125 \nQ 37.796875 48.390625 30.609375 48.390625 \nz\nM 30.609375 56 \nQ 42.328125 56 49.015625 48.375 \nQ 55.71875 40.765625 55.71875 27.296875 \nQ 55.71875 13.875 49.015625 6.21875 \nQ 42.328125 -1.421875 30.609375 -1.421875 \nQ 18.84375 -1.421875 12.171875 6.21875 \nQ 5.515625 13.875 5.515625 27.296875 \nQ 5.515625 40.765625 12.171875 48.375 \nQ 18.84375 56 30.609375 56 \nz\n\" id=\"DejaVuSans-111\"/>\n       <path d=\"M 48.78125 52.59375 \nL 48.78125 44.1875 \nQ 44.96875 46.296875 41.140625 47.34375 \nQ 37.3125 48.390625 33.40625 48.390625 \nQ 24.65625 48.390625 19.8125 42.84375 \nQ 14.984375 37.3125 14.984375 27.296875 \nQ 14.984375 17.28125 19.8125 11.734375 \nQ 24.65625 6.203125 33.40625 6.203125 \nQ 37.3125 6.203125 41.140625 7.25 \nQ 44.96875 8.296875 48.78125 10.40625 \nL 48.78125 2.09375 \nQ 45.015625 0.34375 40.984375 -0.53125 \nQ 36.96875 -1.421875 32.421875 -1.421875 \nQ 20.0625 -1.421875 12.78125 6.34375 \nQ 5.515625 14.109375 5.515625 27.296875 \nQ 5.515625 40.671875 12.859375 48.328125 \nQ 20.21875 56 33.015625 56 \nQ 37.15625 56 41.109375 55.140625 \nQ 45.0625 54.296875 48.78125 52.59375 \nz\n\" id=\"DejaVuSans-99\"/>\n       <path d=\"M 34.28125 27.484375 \nQ 23.390625 27.484375 19.1875 25 \nQ 14.984375 22.515625 14.984375 16.5 \nQ 14.984375 11.71875 18.140625 8.90625 \nQ 21.296875 6.109375 26.703125 6.109375 \nQ 34.1875 6.109375 38.703125 11.40625 \nQ 43.21875 16.703125 43.21875 25.484375 \nL 43.21875 27.484375 \nz\nM 52.203125 31.203125 \nL 52.203125 0 \nL 43.21875 0 \nL 43.21875 8.296875 \nQ 40.140625 3.328125 35.546875 0.953125 \nQ 30.953125 -1.421875 24.3125 -1.421875 \nQ 15.921875 -1.421875 10.953125 3.296875 \nQ 6 8.015625 6 15.921875 \nQ 6 25.140625 12.171875 29.828125 \nQ 18.359375 34.515625 30.609375 34.515625 \nL 43.21875 34.515625 \nL 43.21875 35.40625 \nQ 43.21875 41.609375 39.140625 45 \nQ 35.0625 48.390625 27.6875 48.390625 \nQ 23 48.390625 18.546875 47.265625 \nQ 14.109375 46.140625 10.015625 43.890625 \nL 10.015625 52.203125 \nQ 14.9375 54.109375 19.578125 55.046875 \nQ 24.21875 56 28.609375 56 \nQ 40.484375 56 46.34375 49.84375 \nQ 52.203125 43.703125 52.203125 31.203125 \nz\n\" id=\"DejaVuSans-97\"/>\n      </defs>\n      <use xlink:href=\"#DejaVuSans-233\"/>\n      <use x=\"61.523438\" xlink:href=\"#DejaVuSans-112\"/>\n      <use x=\"125\" xlink:href=\"#DejaVuSans-111\"/>\n      <use x=\"186.181641\" xlink:href=\"#DejaVuSans-99\"/>\n      <use x=\"241.162109\" xlink:href=\"#DejaVuSans-97\"/>\n     </g>\n    </g>\n   </g>\n   <g id=\"matplotlib.axis_2\">\n    <g id=\"ytick_1\">\n     <g id=\"line2d_7\">\n      <defs>\n       <path d=\"M 0 0 \nL -3.5 0 \n\" id=\"m8a5bd7739a\" style=\"stroke:#000000;stroke-width:0.8;\"/>\n      </defs>\n      <g>\n       <use style=\"stroke:#000000;stroke-width:0.8;\" x=\"47.365625\" xlink:href=\"#m8a5bd7739a\" y=\"202.589636\"/>\n      </g>\n     </g>\n     <g id=\"text_8\">\n      <!-- 150 -->\n      <g transform=\"translate(21.278125 206.388854)scale(0.1 -0.1)\">\n       <use xlink:href=\"#DejaVuSans-49\"/>\n       <use x=\"63.623047\" xlink:href=\"#DejaVuSans-53\"/>\n       <use x=\"127.246094\" xlink:href=\"#DejaVuSans-48\"/>\n      </g>\n     </g>\n    </g>\n    <g id=\"ytick_2\">\n     <g id=\"line2d_8\">\n      <g>\n       <use style=\"stroke:#000000;stroke-width:0.8;\" x=\"47.365625\" xlink:href=\"#m8a5bd7739a\" y=\"175.424739\"/>\n      </g>\n     </g>\n     <g id=\"text_9\">\n      <!-- 160 -->\n      <g transform=\"translate(21.278125 179.223958)scale(0.1 -0.1)\">\n       <defs>\n        <path d=\"M 33.015625 40.375 \nQ 26.375 40.375 22.484375 35.828125 \nQ 18.609375 31.296875 18.609375 23.390625 \nQ 18.609375 15.53125 22.484375 10.953125 \nQ 26.375 6.390625 33.015625 6.390625 \nQ 39.65625 6.390625 43.53125 10.953125 \nQ 47.40625 15.53125 47.40625 23.390625 \nQ 47.40625 31.296875 43.53125 35.828125 \nQ 39.65625 40.375 33.015625 40.375 \nz\nM 52.59375 71.296875 \nL 52.59375 62.3125 \nQ 48.875 64.0625 45.09375 64.984375 \nQ 41.3125 65.921875 37.59375 65.921875 \nQ 27.828125 65.921875 22.671875 59.328125 \nQ 17.53125 52.734375 16.796875 39.40625 \nQ 19.671875 43.65625 24.015625 45.921875 \nQ 28.375 48.1875 33.59375 48.1875 \nQ 44.578125 48.1875 50.953125 41.515625 \nQ 57.328125 34.859375 57.328125 23.390625 \nQ 57.328125 12.15625 50.6875 5.359375 \nQ 44.046875 -1.421875 33.015625 -1.421875 \nQ 20.359375 -1.421875 13.671875 8.265625 \nQ 6.984375 17.96875 6.984375 36.375 \nQ 6.984375 53.65625 15.1875 63.9375 \nQ 23.390625 74.21875 37.203125 74.21875 \nQ 40.921875 74.21875 44.703125 73.484375 \nQ 48.484375 72.75 52.59375 71.296875 \nz\n\" id=\"DejaVuSans-54\"/>\n       </defs>\n       <use xlink:href=\"#DejaVuSans-49\"/>\n       <use x=\"63.623047\" xlink:href=\"#DejaVuSans-54\"/>\n       <use x=\"127.246094\" xlink:href=\"#DejaVuSans-48\"/>\n      </g>\n     </g>\n    </g>\n    <g id=\"ytick_3\">\n     <g id=\"line2d_9\">\n      <g>\n       <use style=\"stroke:#000000;stroke-width:0.8;\" x=\"47.365625\" xlink:href=\"#m8a5bd7739a\" y=\"148.259843\"/>\n      </g>\n     </g>\n     <g id=\"text_10\">\n      <!-- 170 -->\n      <g transform=\"translate(21.278125 152.059061)scale(0.1 -0.1)\">\n       <defs>\n        <path d=\"M 8.203125 72.90625 \nL 55.078125 72.90625 \nL 55.078125 68.703125 \nL 28.609375 0 \nL 18.3125 0 \nL 43.21875 64.59375 \nL 8.203125 64.59375 \nz\n\" id=\"DejaVuSans-55\"/>\n       </defs>\n       <use xlink:href=\"#DejaVuSans-49\"/>\n       <use x=\"63.623047\" xlink:href=\"#DejaVuSans-55\"/>\n       <use x=\"127.246094\" xlink:href=\"#DejaVuSans-48\"/>\n      </g>\n     </g>\n    </g>\n    <g id=\"ytick_4\">\n     <g id=\"line2d_10\">\n      <g>\n       <use style=\"stroke:#000000;stroke-width:0.8;\" x=\"47.365625\" xlink:href=\"#m8a5bd7739a\" y=\"121.094946\"/>\n      </g>\n     </g>\n     <g id=\"text_11\">\n      <!-- 180 -->\n      <g transform=\"translate(21.278125 124.894165)scale(0.1 -0.1)\">\n       <defs>\n        <path d=\"M 31.78125 34.625 \nQ 24.75 34.625 20.71875 30.859375 \nQ 16.703125 27.09375 16.703125 20.515625 \nQ 16.703125 13.921875 20.71875 10.15625 \nQ 24.75 6.390625 31.78125 6.390625 \nQ 38.8125 6.390625 42.859375 10.171875 \nQ 46.921875 13.96875 46.921875 20.515625 \nQ 46.921875 27.09375 42.890625 30.859375 \nQ 38.875 34.625 31.78125 34.625 \nz\nM 21.921875 38.8125 \nQ 15.578125 40.375 12.03125 44.71875 \nQ 8.5 49.078125 8.5 55.328125 \nQ 8.5 64.0625 14.71875 69.140625 \nQ 20.953125 74.21875 31.78125 74.21875 \nQ 42.671875 74.21875 48.875 69.140625 \nQ 55.078125 64.0625 55.078125 55.328125 \nQ 55.078125 49.078125 51.53125 44.71875 \nQ 48 40.375 41.703125 38.8125 \nQ 48.828125 37.15625 52.796875 32.3125 \nQ 56.78125 27.484375 56.78125 20.515625 \nQ 56.78125 9.90625 50.3125 4.234375 \nQ 43.84375 -1.421875 31.78125 -1.421875 \nQ 19.734375 -1.421875 13.25 4.234375 \nQ 6.78125 9.90625 6.78125 20.515625 \nQ 6.78125 27.484375 10.78125 32.3125 \nQ 14.796875 37.15625 21.921875 38.8125 \nz\nM 18.3125 54.390625 \nQ 18.3125 48.734375 21.84375 45.5625 \nQ 25.390625 42.390625 31.78125 42.390625 \nQ 38.140625 42.390625 41.71875 45.5625 \nQ 45.3125 48.734375 45.3125 54.390625 \nQ 45.3125 60.0625 41.71875 63.234375 \nQ 38.140625 66.40625 31.78125 66.40625 \nQ 25.390625 66.40625 21.84375 63.234375 \nQ 18.3125 60.0625 18.3125 54.390625 \nz\n\" id=\"DejaVuSans-56\"/>\n       </defs>\n       <use xlink:href=\"#DejaVuSans-49\"/>\n       <use x=\"63.623047\" xlink:href=\"#DejaVuSans-56\"/>\n       <use x=\"127.246094\" xlink:href=\"#DejaVuSans-48\"/>\n      </g>\n     </g>\n    </g>\n    <g id=\"ytick_5\">\n     <g id=\"line2d_11\">\n      <g>\n       <use style=\"stroke:#000000;stroke-width:0.8;\" x=\"47.365625\" xlink:href=\"#m8a5bd7739a\" y=\"93.93005\"/>\n      </g>\n     </g>\n     <g id=\"text_12\">\n      <!-- 190 -->\n      <g transform=\"translate(21.278125 97.729269)scale(0.1 -0.1)\">\n       <defs>\n        <path d=\"M 10.984375 1.515625 \nL 10.984375 10.5 \nQ 14.703125 8.734375 18.5 7.8125 \nQ 22.3125 6.890625 25.984375 6.890625 \nQ 35.75 6.890625 40.890625 13.453125 \nQ 46.046875 20.015625 46.78125 33.40625 \nQ 43.953125 29.203125 39.59375 26.953125 \nQ 35.25 24.703125 29.984375 24.703125 \nQ 19.046875 24.703125 12.671875 31.3125 \nQ 6.296875 37.9375 6.296875 49.421875 \nQ 6.296875 60.640625 12.9375 67.421875 \nQ 19.578125 74.21875 30.609375 74.21875 \nQ 43.265625 74.21875 49.921875 64.515625 \nQ 56.59375 54.828125 56.59375 36.375 \nQ 56.59375 19.140625 48.40625 8.859375 \nQ 40.234375 -1.421875 26.421875 -1.421875 \nQ 22.703125 -1.421875 18.890625 -0.6875 \nQ 15.09375 0.046875 10.984375 1.515625 \nz\nM 30.609375 32.421875 \nQ 37.25 32.421875 41.125 36.953125 \nQ 45.015625 41.5 45.015625 49.421875 \nQ 45.015625 57.28125 41.125 61.84375 \nQ 37.25 66.40625 30.609375 66.40625 \nQ 23.96875 66.40625 20.09375 61.84375 \nQ 16.21875 57.28125 16.21875 49.421875 \nQ 16.21875 41.5 20.09375 36.953125 \nQ 23.96875 32.421875 30.609375 32.421875 \nz\n\" id=\"DejaVuSans-57\"/>\n       </defs>\n       <use xlink:href=\"#DejaVuSans-49\"/>\n       <use x=\"63.623047\" xlink:href=\"#DejaVuSans-57\"/>\n       <use x=\"127.246094\" xlink:href=\"#DejaVuSans-48\"/>\n      </g>\n     </g>\n    </g>\n    <g id=\"ytick_6\">\n     <g id=\"line2d_12\">\n      <g>\n       <use style=\"stroke:#000000;stroke-width:0.8;\" x=\"47.365625\" xlink:href=\"#m8a5bd7739a\" y=\"66.765153\"/>\n      </g>\n     </g>\n     <g id=\"text_13\">\n      <!-- 200 -->\n      <g transform=\"translate(21.278125 70.564372)scale(0.1 -0.1)\">\n       <use xlink:href=\"#DejaVuSans-50\"/>\n       <use x=\"63.623047\" xlink:href=\"#DejaVuSans-48\"/>\n       <use x=\"127.246094\" xlink:href=\"#DejaVuSans-48\"/>\n      </g>\n     </g>\n    </g>\n    <g id=\"ytick_7\">\n     <g id=\"line2d_13\">\n      <g>\n       <use style=\"stroke:#000000;stroke-width:0.8;\" x=\"47.365625\" xlink:href=\"#m8a5bd7739a\" y=\"39.600257\"/>\n      </g>\n     </g>\n     <g id=\"text_14\">\n      <!-- 210 -->\n      <g transform=\"translate(21.278125 43.399476)scale(0.1 -0.1)\">\n       <use xlink:href=\"#DejaVuSans-50\"/>\n       <use x=\"63.623047\" xlink:href=\"#DejaVuSans-49\"/>\n       <use x=\"127.246094\" xlink:href=\"#DejaVuSans-48\"/>\n      </g>\n     </g>\n    </g>\n    <g id=\"ytick_8\">\n     <g id=\"line2d_14\">\n      <g>\n       <use style=\"stroke:#000000;stroke-width:0.8;\" x=\"47.365625\" xlink:href=\"#m8a5bd7739a\" y=\"12.43536\"/>\n      </g>\n     </g>\n     <g id=\"text_15\">\n      <!-- 220 -->\n      <g transform=\"translate(21.278125 16.234579)scale(0.1 -0.1)\">\n       <use xlink:href=\"#DejaVuSans-50\"/>\n       <use x=\"63.623047\" xlink:href=\"#DejaVuSans-50\"/>\n       <use x=\"127.246094\" xlink:href=\"#DejaVuSans-48\"/>\n      </g>\n     </g>\n    </g>\n    <g id=\"text_16\">\n     <!-- pérdida -->\n     <g transform=\"translate(15.198437 134.940312)rotate(-90)scale(0.1 -0.1)\">\n      <defs>\n       <path d=\"M 41.109375 46.296875 \nQ 39.59375 47.171875 37.8125 47.578125 \nQ 36.03125 48 33.890625 48 \nQ 26.265625 48 22.1875 43.046875 \nQ 18.109375 38.09375 18.109375 28.8125 \nL 18.109375 0 \nL 9.078125 0 \nL 9.078125 54.6875 \nL 18.109375 54.6875 \nL 18.109375 46.1875 \nQ 20.953125 51.171875 25.484375 53.578125 \nQ 30.03125 56 36.53125 56 \nQ 37.453125 56 38.578125 55.875 \nQ 39.703125 55.765625 41.0625 55.515625 \nz\n\" id=\"DejaVuSans-114\"/>\n       <path d=\"M 45.40625 46.390625 \nL 45.40625 75.984375 \nL 54.390625 75.984375 \nL 54.390625 0 \nL 45.40625 0 \nL 45.40625 8.203125 \nQ 42.578125 3.328125 38.25 0.953125 \nQ 33.9375 -1.421875 27.875 -1.421875 \nQ 17.96875 -1.421875 11.734375 6.484375 \nQ 5.515625 14.40625 5.515625 27.296875 \nQ 5.515625 40.1875 11.734375 48.09375 \nQ 17.96875 56 27.875 56 \nQ 33.9375 56 38.25 53.625 \nQ 42.578125 51.265625 45.40625 46.390625 \nz\nM 14.796875 27.296875 \nQ 14.796875 17.390625 18.875 11.75 \nQ 22.953125 6.109375 30.078125 6.109375 \nQ 37.203125 6.109375 41.296875 11.75 \nQ 45.40625 17.390625 45.40625 27.296875 \nQ 45.40625 37.203125 41.296875 42.84375 \nQ 37.203125 48.484375 30.078125 48.484375 \nQ 22.953125 48.484375 18.875 42.84375 \nQ 14.796875 37.203125 14.796875 27.296875 \nz\n\" id=\"DejaVuSans-100\"/>\n       <path d=\"M 9.421875 54.6875 \nL 18.40625 54.6875 \nL 18.40625 0 \nL 9.421875 0 \nz\nM 9.421875 75.984375 \nL 18.40625 75.984375 \nL 18.40625 64.59375 \nL 9.421875 64.59375 \nz\n\" id=\"DejaVuSans-105\"/>\n      </defs>\n      <use xlink:href=\"#DejaVuSans-112\"/>\n      <use x=\"63.476562\" xlink:href=\"#DejaVuSans-233\"/>\n      <use x=\"125\" xlink:href=\"#DejaVuSans-114\"/>\n      <use x=\"164.363281\" xlink:href=\"#DejaVuSans-100\"/>\n      <use x=\"227.839844\" xlink:href=\"#DejaVuSans-105\"/>\n      <use x=\"255.623047\" xlink:href=\"#DejaVuSans-100\"/>\n      <use x=\"319.099609\" xlink:href=\"#DejaVuSans-97\"/>\n     </g>\n    </g>\n   </g>\n   <g id=\"line2d_15\">\n    <path clip-path=\"url(#p84927aaa9c)\" d=\"M 62.583807 17.239204 \nL 68.79531 49.443177 \nL 75.006812 77.259057 \nL 81.218315 91.656099 \nL 87.429818 97.334397 \nL 93.641321 104.616085 \nL 99.852824 110.624345 \nL 106.064326 115.907281 \nL 112.275829 120.977471 \nL 118.487332 123.656731 \nL 124.698835 128.495968 \nL 130.910337 132.433215 \nL 137.12184 135.843466 \nL 143.333343 138.709329 \nL 149.544846 144.323597 \nL 155.756349 146.743982 \nL 161.967851 151.469765 \nL 168.179354 156.800298 \nL 174.390857 160.618558 \nL 180.60236 165.250678 \nL 186.813862 169.065966 \nL 193.025365 173.370045 \nL 199.236868 177.939905 \nL 205.448371 181.129512 \nL 211.659874 183.512866 \nL 217.871376 185.59706 \nL 224.082879 189.897971 \nL 230.294382 192.910791 \nL 236.505885 194.187032 \nL 242.717388 196.691909 \nL 248.92889 196.998023 \nL 255.140393 198.113385 \nL 261.351896 199.127354 \nL 267.563399 201.076701 \nL 273.774901 203.218462 \nL 279.986404 204.305925 \nL 286.197907 204.12749 \nL 292.40941 205.152039 \nL 298.620913 206.509794 \nL 304.832415 208.110154 \nL 311.043918 209.168455 \nL 317.255421 211.041026 \nL 323.466924 209.852352 \nL 329.678426 211.421927 \nL 335.889929 211.467904 \nL 342.101432 210.188615 \nL 348.312935 213.319597 \nL 354.524438 214.756364 \nL 360.73594 214.727997 \nL 366.947443 214.399389 \n\" style=\"fill:none;stroke:#ff7f0e;stroke-linecap:square;stroke-width:1.5;\"/>\n   </g>\n   <g id=\"line2d_16\">\n    <path clip-path=\"url(#p84927aaa9c)\" d=\"M 62.583807 17.083636 \nL 68.79531 49.557863 \nL 75.006812 77.742872 \nL 81.218315 92.108395 \nL 87.429818 97.439289 \nL 93.641321 104.478872 \nL 99.852824 110.461533 \nL 106.064326 115.73303 \nL 112.275829 120.839868 \nL 118.487332 123.368541 \nL 124.698835 128.204577 \nL 130.910337 132.002943 \nL 137.12184 135.319385 \nL 143.333343 138.461916 \nL 149.544846 143.805613 \nL 155.756349 145.847786 \nL 161.967851 150.715225 \nL 168.179354 155.826394 \nL 174.390857 159.454117 \nL 180.60236 163.843804 \nL 186.813862 167.686767 \nL 193.025365 171.897152 \nL 199.236868 176.193545 \nL 205.448371 179.126821 \nL 211.659874 181.228902 \nL 217.871376 182.949747 \nL 224.082879 187.161428 \nL 230.294382 189.855506 \nL 236.505885 191.213424 \nL 242.717388 193.316903 \nL 248.92889 193.313162 \nL 255.140393 194.337874 \nL 261.351896 195.319837 \nL 267.563399 196.686767 \nL 273.774901 198.624703 \nL 279.986404 199.884768 \nL 286.197907 198.942899 \nL 292.40941 200.073884 \nL 298.620913 201.579411 \nL 304.832415 202.810426 \nL 311.043918 203.873559 \nL 317.255421 205.46419 \nL 323.466924 203.958457 \nL 329.678426 205.819329 \nL 335.889929 205.473642 \nL 342.101432 204.223324 \nL 348.312935 207.093859 \nL 354.524438 208.00879 \nL 360.73594 208.16932 \nL 366.947443 207.694297 \n\" style=\"fill:none;stroke:#d62728;stroke-linecap:square;stroke-width:1.5;\"/>\n   </g>\n   <g id=\"patch_3\">\n    <path d=\"M 47.365625 224.64 \nL 47.365625 7.2 \n\" style=\"fill:none;stroke:#000000;stroke-linecap:square;stroke-linejoin:miter;stroke-width:0.8;\"/>\n   </g>\n   <g id=\"patch_4\">\n    <path d=\"M 382.165625 224.64 \nL 382.165625 7.2 \n\" style=\"fill:none;stroke:#000000;stroke-linecap:square;stroke-linejoin:miter;stroke-width:0.8;\"/>\n   </g>\n   <g id=\"patch_5\">\n    <path d=\"M 47.365625 224.64 \nL 382.165625 224.64 \n\" style=\"fill:none;stroke:#000000;stroke-linecap:square;stroke-linejoin:miter;stroke-width:0.8;\"/>\n   </g>\n   <g id=\"patch_6\">\n    <path d=\"M 47.365625 7.2 \nL 382.165625 7.2 \n\" style=\"fill:none;stroke:#000000;stroke-linecap:square;stroke-linejoin:miter;stroke-width:0.8;\"/>\n   </g>\n   <g id=\"legend_1\">\n    <g id=\"patch_7\">\n     <path d=\"M 306.478125 44.55625 \nL 375.165625 44.55625 \nQ 377.165625 44.55625 377.165625 42.55625 \nL 377.165625 14.2 \nQ 377.165625 12.2 375.165625 12.2 \nL 306.478125 12.2 \nQ 304.478125 12.2 304.478125 14.2 \nL 304.478125 42.55625 \nQ 304.478125 44.55625 306.478125 44.55625 \nz\n\" style=\"fill:#ffffff;opacity:0.8;stroke:#cccccc;stroke-linejoin:miter;\"/>\n    </g>\n    <g id=\"line2d_17\">\n     <path d=\"M 308.478125 20.298437 \nL 328.478125 20.298437 \n\" style=\"fill:none;stroke:#ff7f0e;stroke-linecap:square;stroke-width:1.5;\"/>\n    </g>\n    <g id=\"line2d_18\"/>\n    <g id=\"text_17\">\n     <!-- trn loss -->\n     <g transform=\"translate(336.478125 23.798437)scale(0.1 -0.1)\">\n      <defs>\n       <path d=\"M 18.3125 70.21875 \nL 18.3125 54.6875 \nL 36.8125 54.6875 \nL 36.8125 47.703125 \nL 18.3125 47.703125 \nL 18.3125 18.015625 \nQ 18.3125 11.328125 20.140625 9.421875 \nQ 21.96875 7.515625 27.59375 7.515625 \nL 36.8125 7.515625 \nL 36.8125 0 \nL 27.59375 0 \nQ 17.1875 0 13.234375 3.875 \nQ 9.28125 7.765625 9.28125 18.015625 \nL 9.28125 47.703125 \nL 2.6875 47.703125 \nL 2.6875 54.6875 \nL 9.28125 54.6875 \nL 9.28125 70.21875 \nz\n\" id=\"DejaVuSans-116\"/>\n       <path d=\"M 54.890625 33.015625 \nL 54.890625 0 \nL 45.90625 0 \nL 45.90625 32.71875 \nQ 45.90625 40.484375 42.875 44.328125 \nQ 39.84375 48.1875 33.796875 48.1875 \nQ 26.515625 48.1875 22.3125 43.546875 \nQ 18.109375 38.921875 18.109375 30.90625 \nL 18.109375 0 \nL 9.078125 0 \nL 9.078125 54.6875 \nL 18.109375 54.6875 \nL 18.109375 46.1875 \nQ 21.34375 51.125 25.703125 53.5625 \nQ 30.078125 56 35.796875 56 \nQ 45.21875 56 50.046875 50.171875 \nQ 54.890625 44.34375 54.890625 33.015625 \nz\n\" id=\"DejaVuSans-110\"/>\n       <path id=\"DejaVuSans-32\"/>\n       <path d=\"M 9.421875 75.984375 \nL 18.40625 75.984375 \nL 18.40625 0 \nL 9.421875 0 \nz\n\" id=\"DejaVuSans-108\"/>\n       <path d=\"M 44.28125 53.078125 \nL 44.28125 44.578125 \nQ 40.484375 46.53125 36.375 47.5 \nQ 32.28125 48.484375 27.875 48.484375 \nQ 21.1875 48.484375 17.84375 46.4375 \nQ 14.5 44.390625 14.5 40.28125 \nQ 14.5 37.15625 16.890625 35.375 \nQ 19.28125 33.59375 26.515625 31.984375 \nL 29.59375 31.296875 \nQ 39.15625 29.25 43.1875 25.515625 \nQ 47.21875 21.78125 47.21875 15.09375 \nQ 47.21875 7.46875 41.1875 3.015625 \nQ 35.15625 -1.421875 24.609375 -1.421875 \nQ 20.21875 -1.421875 15.453125 -0.5625 \nQ 10.6875 0.296875 5.421875 2 \nL 5.421875 11.28125 \nQ 10.40625 8.6875 15.234375 7.390625 \nQ 20.0625 6.109375 24.8125 6.109375 \nQ 31.15625 6.109375 34.5625 8.28125 \nQ 37.984375 10.453125 37.984375 14.40625 \nQ 37.984375 18.0625 35.515625 20.015625 \nQ 33.0625 21.96875 24.703125 23.78125 \nL 21.578125 24.515625 \nQ 13.234375 26.265625 9.515625 29.90625 \nQ 5.8125 33.546875 5.8125 39.890625 \nQ 5.8125 47.609375 11.28125 51.796875 \nQ 16.75 56 26.8125 56 \nQ 31.78125 56 36.171875 55.265625 \nQ 40.578125 54.546875 44.28125 53.078125 \nz\n\" id=\"DejaVuSans-115\"/>\n      </defs>\n      <use xlink:href=\"#DejaVuSans-116\"/>\n      <use x=\"39.208984\" xlink:href=\"#DejaVuSans-114\"/>\n      <use x=\"78.572266\" xlink:href=\"#DejaVuSans-110\"/>\n      <use x=\"141.951172\" xlink:href=\"#DejaVuSans-32\"/>\n      <use x=\"173.738281\" xlink:href=\"#DejaVuSans-108\"/>\n      <use x=\"201.521484\" xlink:href=\"#DejaVuSans-111\"/>\n      <use x=\"262.703125\" xlink:href=\"#DejaVuSans-115\"/>\n      <use x=\"314.802734\" xlink:href=\"#DejaVuSans-115\"/>\n     </g>\n    </g>\n    <g id=\"line2d_19\">\n     <path d=\"M 308.478125 34.976562 \nL 328.478125 34.976562 \n\" style=\"fill:none;stroke:#d62728;stroke-linecap:square;stroke-width:1.5;\"/>\n    </g>\n    <g id=\"line2d_20\"/>\n    <g id=\"text_18\">\n     <!-- tst loss -->\n     <g transform=\"translate(336.478125 38.476562)scale(0.1 -0.1)\">\n      <use xlink:href=\"#DejaVuSans-116\"/>\n      <use x=\"39.208984\" xlink:href=\"#DejaVuSans-115\"/>\n      <use x=\"91.308594\" xlink:href=\"#DejaVuSans-116\"/>\n      <use x=\"130.517578\" xlink:href=\"#DejaVuSans-32\"/>\n      <use x=\"162.304688\" xlink:href=\"#DejaVuSans-108\"/>\n      <use x=\"190.087891\" xlink:href=\"#DejaVuSans-111\"/>\n      <use x=\"251.269531\" xlink:href=\"#DejaVuSans-115\"/>\n      <use x=\"303.369141\" xlink:href=\"#DejaVuSans-115\"/>\n     </g>\n    </g>\n   </g>\n  </g>\n </g>\n <defs>\n  <clipPath id=\"p84927aaa9c\">\n   <rect height=\"217.44\" width=\"334.8\" x=\"47.365625\" y=\"7.2\"/>\n  </clipPath>\n </defs>\n</svg>\n",
      "image/png": "[encoded data removed]"
     },
     "metadata": {
      "needs_background": "light"
     }
    }
   ],
   "source": [
    "trn_loss, tst_loss = zip(*loss_hist)\n",
    "plt.plot(trn_loss, 'tab:orange', label='trn loss')\n",
    "plt.plot(tst_loss, 'tab:red', label='tst loss')\n",
    "plt.legend(loc='upper right')\n",
    "plt.xlabel('época')\n",
    "plt.ylabel('pérdida')\n",
    "plt.show()"
   ]
  },
  {
   "source": [
    "Gráfica de Exactitud"
   ],
   "cell_type": "markdown",
   "metadata": {}
  },
  {
   "cell_type": "code",
   "execution_count": 454,
   "metadata": {},
   "outputs": [
    {
     "output_type": "display_data",
     "data": {
      "text/plain": "<Figure size 432x288 with 1 Axes>",
      "image/svg+xml": "<?xml version=\"1.0\" encoding=\"utf-8\" standalone=\"no\"?>\n<!DOCTYPE svg PUBLIC \"-//W3C//DTD SVG 1.1//EN\"\n  \"http://www.w3.org/Graphics/SVG/1.1/DTD/svg11.dtd\">\n<!-- Created with matplotlib (https://matplotlib.org/) -->\n<svg height=\"262.59625pt\" version=\"1.1\" viewBox=\"0 0 382.603125 262.59625\" width=\"382.603125pt\" xmlns=\"http://www.w3.org/2000/svg\" xmlns:xlink=\"http://www.w3.org/1999/xlink\">\n <metadata>\n  <rdf:RDF xmlns:cc=\"http://creativecommons.org/ns#\" xmlns:dc=\"http://purl.org/dc/elements/1.1/\" xmlns:rdf=\"http://www.w3.org/1999/02/22-rdf-syntax-ns#\">\n   <cc:Work>\n    <dc:type rdf:resource=\"http://purl.org/dc/dcmitype/StillImage\"/>\n    <dc:date>2021-03-19T21:06:18.332897</dc:date>\n    <dc:format>image/svg+xml</dc:format>\n    <dc:creator>\n     <cc:Agent>\n      <dc:title>Matplotlib v3.3.4, https://matplotlib.org/</dc:title>\n     </cc:Agent>\n    </dc:creator>\n   </cc:Work>\n  </rdf:RDF>\n </metadata>\n <defs>\n  <style type=\"text/css\">*{stroke-linecap:butt;stroke-linejoin:round;}</style>\n </defs>\n <g id=\"figure_1\">\n  <g id=\"patch_1\">\n   <path d=\"M 0 262.59625 \nL 382.603125 262.59625 \nL 382.603125 0 \nL 0 0 \nz\n\" style=\"fill:none;\"/>\n  </g>\n  <g id=\"axes_1\">\n   <g id=\"patch_2\">\n    <path d=\"M 40.603125 224.64 \nL 375.403125 224.64 \nL 375.403125 7.2 \nL 40.603125 7.2 \nz\n\" style=\"fill:#ffffff;\"/>\n   </g>\n   <g id=\"matplotlib.axis_1\">\n    <g id=\"xtick_1\">\n     <g id=\"line2d_1\">\n      <defs>\n       <path d=\"M 0 0 \nL 0 3.5 \n\" id=\"m983a64a4e4\" style=\"stroke:#000000;stroke-width:0.8;\"/>\n      </defs>\n      <g>\n       <use style=\"stroke:#000000;stroke-width:0.8;\" x=\"55.821307\" xlink:href=\"#m983a64a4e4\" y=\"224.64\"/>\n      </g>\n     </g>\n     <g id=\"text_1\">\n      <!-- 0 -->\n      <g transform=\"translate(52.640057 239.238437)scale(0.1 -0.1)\">\n       <defs>\n        <path d=\"M 31.78125 66.40625 \nQ 24.171875 66.40625 20.328125 58.90625 \nQ 16.5 51.421875 16.5 36.375 \nQ 16.5 21.390625 20.328125 13.890625 \nQ 24.171875 6.390625 31.78125 6.390625 \nQ 39.453125 6.390625 43.28125 13.890625 \nQ 47.125 21.390625 47.125 36.375 \nQ 47.125 51.421875 43.28125 58.90625 \nQ 39.453125 66.40625 31.78125 66.40625 \nz\nM 31.78125 74.21875 \nQ 44.046875 74.21875 50.515625 64.515625 \nQ 56.984375 54.828125 56.984375 36.375 \nQ 56.984375 17.96875 50.515625 8.265625 \nQ 44.046875 -1.421875 31.78125 -1.421875 \nQ 19.53125 -1.421875 13.0625 8.265625 \nQ 6.59375 17.96875 6.59375 36.375 \nQ 6.59375 54.828125 13.0625 64.515625 \nQ 19.53125 74.21875 31.78125 74.21875 \nz\n\" id=\"DejaVuSans-48\"/>\n       </defs>\n       <use xlink:href=\"#DejaVuSans-48\"/>\n      </g>\n     </g>\n    </g>\n    <g id=\"xtick_2\">\n     <g id=\"line2d_2\">\n      <g>\n       <use style=\"stroke:#000000;stroke-width:0.8;\" x=\"117.936335\" xlink:href=\"#m983a64a4e4\" y=\"224.64\"/>\n      </g>\n     </g>\n     <g id=\"text_2\">\n      <!-- 10 -->\n      <g transform=\"translate(111.573835 239.238437)scale(0.1 -0.1)\">\n       <defs>\n        <path d=\"M 12.40625 8.296875 \nL 28.515625 8.296875 \nL 28.515625 63.921875 \nL 10.984375 60.40625 \nL 10.984375 69.390625 \nL 28.421875 72.90625 \nL 38.28125 72.90625 \nL 38.28125 8.296875 \nL 54.390625 8.296875 \nL 54.390625 0 \nL 12.40625 0 \nz\n\" id=\"DejaVuSans-49\"/>\n       </defs>\n       <use xlink:href=\"#DejaVuSans-49\"/>\n       <use x=\"63.623047\" xlink:href=\"#DejaVuSans-48\"/>\n      </g>\n     </g>\n    </g>\n    <g id=\"xtick_3\">\n     <g id=\"line2d_3\">\n      <g>\n       <use style=\"stroke:#000000;stroke-width:0.8;\" x=\"180.051362\" xlink:href=\"#m983a64a4e4\" y=\"224.64\"/>\n      </g>\n     </g>\n     <g id=\"text_3\">\n      <!-- 20 -->\n      <g transform=\"translate(173.688862 239.238437)scale(0.1 -0.1)\">\n       <defs>\n        <path d=\"M 19.1875 8.296875 \nL 53.609375 8.296875 \nL 53.609375 0 \nL 7.328125 0 \nL 7.328125 8.296875 \nQ 12.9375 14.109375 22.625 23.890625 \nQ 32.328125 33.6875 34.8125 36.53125 \nQ 39.546875 41.84375 41.421875 45.53125 \nQ 43.3125 49.21875 43.3125 52.78125 \nQ 43.3125 58.59375 39.234375 62.25 \nQ 35.15625 65.921875 28.609375 65.921875 \nQ 23.96875 65.921875 18.8125 64.3125 \nQ 13.671875 62.703125 7.8125 59.421875 \nL 7.8125 69.390625 \nQ 13.765625 71.78125 18.9375 73 \nQ 24.125 74.21875 28.421875 74.21875 \nQ 39.75 74.21875 46.484375 68.546875 \nQ 53.21875 62.890625 53.21875 53.421875 \nQ 53.21875 48.921875 51.53125 44.890625 \nQ 49.859375 40.875 45.40625 35.40625 \nQ 44.1875 33.984375 37.640625 27.21875 \nQ 31.109375 20.453125 19.1875 8.296875 \nz\n\" id=\"DejaVuSans-50\"/>\n       </defs>\n       <use xlink:href=\"#DejaVuSans-50\"/>\n       <use x=\"63.623047\" xlink:href=\"#DejaVuSans-48\"/>\n      </g>\n     </g>\n    </g>\n    <g id=\"xtick_4\">\n     <g id=\"line2d_4\">\n      <g>\n       <use style=\"stroke:#000000;stroke-width:0.8;\" x=\"242.16639\" xlink:href=\"#m983a64a4e4\" y=\"224.64\"/>\n      </g>\n     </g>\n     <g id=\"text_4\">\n      <!-- 30 -->\n      <g transform=\"translate(235.80389 239.238437)scale(0.1 -0.1)\">\n       <defs>\n        <path d=\"M 40.578125 39.3125 \nQ 47.65625 37.796875 51.625 33 \nQ 55.609375 28.21875 55.609375 21.1875 \nQ 55.609375 10.40625 48.1875 4.484375 \nQ 40.765625 -1.421875 27.09375 -1.421875 \nQ 22.515625 -1.421875 17.65625 -0.515625 \nQ 12.796875 0.390625 7.625 2.203125 \nL 7.625 11.71875 \nQ 11.71875 9.328125 16.59375 8.109375 \nQ 21.484375 6.890625 26.8125 6.890625 \nQ 36.078125 6.890625 40.9375 10.546875 \nQ 45.796875 14.203125 45.796875 21.1875 \nQ 45.796875 27.640625 41.28125 31.265625 \nQ 36.765625 34.90625 28.71875 34.90625 \nL 20.21875 34.90625 \nL 20.21875 43.015625 \nL 29.109375 43.015625 \nQ 36.375 43.015625 40.234375 45.921875 \nQ 44.09375 48.828125 44.09375 54.296875 \nQ 44.09375 59.90625 40.109375 62.90625 \nQ 36.140625 65.921875 28.71875 65.921875 \nQ 24.65625 65.921875 20.015625 65.03125 \nQ 15.375 64.15625 9.8125 62.3125 \nL 9.8125 71.09375 \nQ 15.4375 72.65625 20.34375 73.4375 \nQ 25.25 74.21875 29.59375 74.21875 \nQ 40.828125 74.21875 47.359375 69.109375 \nQ 53.90625 64.015625 53.90625 55.328125 \nQ 53.90625 49.265625 50.4375 45.09375 \nQ 46.96875 40.921875 40.578125 39.3125 \nz\n\" id=\"DejaVuSans-51\"/>\n       </defs>\n       <use xlink:href=\"#DejaVuSans-51\"/>\n       <use x=\"63.623047\" xlink:href=\"#DejaVuSans-48\"/>\n      </g>\n     </g>\n    </g>\n    <g id=\"xtick_5\">\n     <g id=\"line2d_5\">\n      <g>\n       <use style=\"stroke:#000000;stroke-width:0.8;\" x=\"304.281418\" xlink:href=\"#m983a64a4e4\" y=\"224.64\"/>\n      </g>\n     </g>\n     <g id=\"text_5\">\n      <!-- 40 -->\n      <g transform=\"translate(297.918918 239.238437)scale(0.1 -0.1)\">\n       <defs>\n        <path d=\"M 37.796875 64.3125 \nL 12.890625 25.390625 \nL 37.796875 25.390625 \nz\nM 35.203125 72.90625 \nL 47.609375 72.90625 \nL 47.609375 25.390625 \nL 58.015625 25.390625 \nL 58.015625 17.1875 \nL 47.609375 17.1875 \nL 47.609375 0 \nL 37.796875 0 \nL 37.796875 17.1875 \nL 4.890625 17.1875 \nL 4.890625 26.703125 \nz\n\" id=\"DejaVuSans-52\"/>\n       </defs>\n       <use xlink:href=\"#DejaVuSans-52\"/>\n       <use x=\"63.623047\" xlink:href=\"#DejaVuSans-48\"/>\n      </g>\n     </g>\n    </g>\n    <g id=\"xtick_6\">\n     <g id=\"line2d_6\">\n      <g>\n       <use style=\"stroke:#000000;stroke-width:0.8;\" x=\"366.396446\" xlink:href=\"#m983a64a4e4\" y=\"224.64\"/>\n      </g>\n     </g>\n     <g id=\"text_6\">\n      <!-- 50 -->\n      <g transform=\"translate(360.033946 239.238437)scale(0.1 -0.1)\">\n       <defs>\n        <path d=\"M 10.796875 72.90625 \nL 49.515625 72.90625 \nL 49.515625 64.59375 \nL 19.828125 64.59375 \nL 19.828125 46.734375 \nQ 21.96875 47.46875 24.109375 47.828125 \nQ 26.265625 48.1875 28.421875 48.1875 \nQ 40.625 48.1875 47.75 41.5 \nQ 54.890625 34.8125 54.890625 23.390625 \nQ 54.890625 11.625 47.5625 5.09375 \nQ 40.234375 -1.421875 26.90625 -1.421875 \nQ 22.3125 -1.421875 17.546875 -0.640625 \nQ 12.796875 0.140625 7.71875 1.703125 \nL 7.71875 11.625 \nQ 12.109375 9.234375 16.796875 8.0625 \nQ 21.484375 6.890625 26.703125 6.890625 \nQ 35.15625 6.890625 40.078125 11.328125 \nQ 45.015625 15.765625 45.015625 23.390625 \nQ 45.015625 31 40.078125 35.4375 \nQ 35.15625 39.890625 26.703125 39.890625 \nQ 22.75 39.890625 18.8125 39.015625 \nQ 14.890625 38.140625 10.796875 36.28125 \nz\n\" id=\"DejaVuSans-53\"/>\n       </defs>\n       <use xlink:href=\"#DejaVuSans-53\"/>\n       <use x=\"63.623047\" xlink:href=\"#DejaVuSans-48\"/>\n      </g>\n     </g>\n    </g>\n    <g id=\"text_7\">\n     <!-- época -->\n     <g transform=\"translate(192.879687 253.316562)scale(0.1 -0.1)\">\n      <defs>\n       <path d=\"M 56.203125 29.59375 \nL 56.203125 25.203125 \nL 14.890625 25.203125 \nQ 15.484375 15.921875 20.484375 11.0625 \nQ 25.484375 6.203125 34.421875 6.203125 \nQ 39.59375 6.203125 44.453125 7.46875 \nQ 49.3125 8.734375 54.109375 11.28125 \nL 54.109375 2.78125 \nQ 49.265625 0.734375 44.1875 -0.34375 \nQ 39.109375 -1.421875 33.890625 -1.421875 \nQ 20.796875 -1.421875 13.15625 6.1875 \nQ 5.515625 13.8125 5.515625 26.8125 \nQ 5.515625 40.234375 12.765625 48.109375 \nQ 20.015625 56 32.328125 56 \nQ 43.359375 56 49.78125 48.890625 \nQ 56.203125 41.796875 56.203125 29.59375 \nz\nM 47.21875 32.234375 \nQ 47.125 39.59375 43.09375 43.984375 \nQ 39.0625 48.390625 32.421875 48.390625 \nQ 24.90625 48.390625 20.390625 44.140625 \nQ 15.875 39.890625 15.1875 32.171875 \nz\nM 38.578125 79.984375 \nL 48.296875 79.984375 \nL 32.375 61.625 \nL 24.90625 61.625 \nz\n\" id=\"DejaVuSans-233\"/>\n       <path d=\"M 18.109375 8.203125 \nL 18.109375 -20.796875 \nL 9.078125 -20.796875 \nL 9.078125 54.6875 \nL 18.109375 54.6875 \nL 18.109375 46.390625 \nQ 20.953125 51.265625 25.265625 53.625 \nQ 29.59375 56 35.59375 56 \nQ 45.5625 56 51.78125 48.09375 \nQ 58.015625 40.1875 58.015625 27.296875 \nQ 58.015625 14.40625 51.78125 6.484375 \nQ 45.5625 -1.421875 35.59375 -1.421875 \nQ 29.59375 -1.421875 25.265625 0.953125 \nQ 20.953125 3.328125 18.109375 8.203125 \nz\nM 48.6875 27.296875 \nQ 48.6875 37.203125 44.609375 42.84375 \nQ 40.53125 48.484375 33.40625 48.484375 \nQ 26.265625 48.484375 22.1875 42.84375 \nQ 18.109375 37.203125 18.109375 27.296875 \nQ 18.109375 17.390625 22.1875 11.75 \nQ 26.265625 6.109375 33.40625 6.109375 \nQ 40.53125 6.109375 44.609375 11.75 \nQ 48.6875 17.390625 48.6875 27.296875 \nz\n\" id=\"DejaVuSans-112\"/>\n       <path d=\"M 30.609375 48.390625 \nQ 23.390625 48.390625 19.1875 42.75 \nQ 14.984375 37.109375 14.984375 27.296875 \nQ 14.984375 17.484375 19.15625 11.84375 \nQ 23.34375 6.203125 30.609375 6.203125 \nQ 37.796875 6.203125 41.984375 11.859375 \nQ 46.1875 17.53125 46.1875 27.296875 \nQ 46.1875 37.015625 41.984375 42.703125 \nQ 37.796875 48.390625 30.609375 48.390625 \nz\nM 30.609375 56 \nQ 42.328125 56 49.015625 48.375 \nQ 55.71875 40.765625 55.71875 27.296875 \nQ 55.71875 13.875 49.015625 6.21875 \nQ 42.328125 -1.421875 30.609375 -1.421875 \nQ 18.84375 -1.421875 12.171875 6.21875 \nQ 5.515625 13.875 5.515625 27.296875 \nQ 5.515625 40.765625 12.171875 48.375 \nQ 18.84375 56 30.609375 56 \nz\n\" id=\"DejaVuSans-111\"/>\n       <path d=\"M 48.78125 52.59375 \nL 48.78125 44.1875 \nQ 44.96875 46.296875 41.140625 47.34375 \nQ 37.3125 48.390625 33.40625 48.390625 \nQ 24.65625 48.390625 19.8125 42.84375 \nQ 14.984375 37.3125 14.984375 27.296875 \nQ 14.984375 17.28125 19.8125 11.734375 \nQ 24.65625 6.203125 33.40625 6.203125 \nQ 37.3125 6.203125 41.140625 7.25 \nQ 44.96875 8.296875 48.78125 10.40625 \nL 48.78125 2.09375 \nQ 45.015625 0.34375 40.984375 -0.53125 \nQ 36.96875 -1.421875 32.421875 -1.421875 \nQ 20.0625 -1.421875 12.78125 6.34375 \nQ 5.515625 14.109375 5.515625 27.296875 \nQ 5.515625 40.671875 12.859375 48.328125 \nQ 20.21875 56 33.015625 56 \nQ 37.15625 56 41.109375 55.140625 \nQ 45.0625 54.296875 48.78125 52.59375 \nz\n\" id=\"DejaVuSans-99\"/>\n       <path d=\"M 34.28125 27.484375 \nQ 23.390625 27.484375 19.1875 25 \nQ 14.984375 22.515625 14.984375 16.5 \nQ 14.984375 11.71875 18.140625 8.90625 \nQ 21.296875 6.109375 26.703125 6.109375 \nQ 34.1875 6.109375 38.703125 11.40625 \nQ 43.21875 16.703125 43.21875 25.484375 \nL 43.21875 27.484375 \nz\nM 52.203125 31.203125 \nL 52.203125 0 \nL 43.21875 0 \nL 43.21875 8.296875 \nQ 40.140625 3.328125 35.546875 0.953125 \nQ 30.953125 -1.421875 24.3125 -1.421875 \nQ 15.921875 -1.421875 10.953125 3.296875 \nQ 6 8.015625 6 15.921875 \nQ 6 25.140625 12.171875 29.828125 \nQ 18.359375 34.515625 30.609375 34.515625 \nL 43.21875 34.515625 \nL 43.21875 35.40625 \nQ 43.21875 41.609375 39.140625 45 \nQ 35.0625 48.390625 27.6875 48.390625 \nQ 23 48.390625 18.546875 47.265625 \nQ 14.109375 46.140625 10.015625 43.890625 \nL 10.015625 52.203125 \nQ 14.9375 54.109375 19.578125 55.046875 \nQ 24.21875 56 28.609375 56 \nQ 40.484375 56 46.34375 49.84375 \nQ 52.203125 43.703125 52.203125 31.203125 \nz\n\" id=\"DejaVuSans-97\"/>\n      </defs>\n      <use xlink:href=\"#DejaVuSans-233\"/>\n      <use x=\"61.523438\" xlink:href=\"#DejaVuSans-112\"/>\n      <use x=\"125\" xlink:href=\"#DejaVuSans-111\"/>\n      <use x=\"186.181641\" xlink:href=\"#DejaVuSans-99\"/>\n      <use x=\"241.162109\" xlink:href=\"#DejaVuSans-97\"/>\n     </g>\n    </g>\n   </g>\n   <g id=\"matplotlib.axis_2\">\n    <g id=\"ytick_1\">\n     <g id=\"line2d_7\">\n      <defs>\n       <path d=\"M 0 0 \nL -3.5 0 \n\" id=\"mfb701e0852\" style=\"stroke:#000000;stroke-width:0.8;\"/>\n      </defs>\n      <g>\n       <use style=\"stroke:#000000;stroke-width:0.8;\" x=\"40.603125\" xlink:href=\"#mfb701e0852\" y=\"189.754784\"/>\n      </g>\n     </g>\n     <g id=\"text_8\">\n      <!-- 25 -->\n      <g transform=\"translate(20.878125 193.554003)scale(0.1 -0.1)\">\n       <use xlink:href=\"#DejaVuSans-50\"/>\n       <use x=\"63.623047\" xlink:href=\"#DejaVuSans-53\"/>\n      </g>\n     </g>\n    </g>\n    <g id=\"ytick_2\">\n     <g id=\"line2d_8\">\n      <g>\n       <use style=\"stroke:#000000;stroke-width:0.8;\" x=\"40.603125\" xlink:href=\"#mfb701e0852\" y=\"154.290263\"/>\n      </g>\n     </g>\n     <g id=\"text_9\">\n      <!-- 30 -->\n      <g transform=\"translate(20.878125 158.089482)scale(0.1 -0.1)\">\n       <use xlink:href=\"#DejaVuSans-51\"/>\n       <use x=\"63.623047\" xlink:href=\"#DejaVuSans-48\"/>\n      </g>\n     </g>\n    </g>\n    <g id=\"ytick_3\">\n     <g id=\"line2d_9\">\n      <g>\n       <use style=\"stroke:#000000;stroke-width:0.8;\" x=\"40.603125\" xlink:href=\"#mfb701e0852\" y=\"118.825742\"/>\n      </g>\n     </g>\n     <g id=\"text_10\">\n      <!-- 35 -->\n      <g transform=\"translate(20.878125 122.624961)scale(0.1 -0.1)\">\n       <use xlink:href=\"#DejaVuSans-51\"/>\n       <use x=\"63.623047\" xlink:href=\"#DejaVuSans-53\"/>\n      </g>\n     </g>\n    </g>\n    <g id=\"ytick_4\">\n     <g id=\"line2d_10\">\n      <g>\n       <use style=\"stroke:#000000;stroke-width:0.8;\" x=\"40.603125\" xlink:href=\"#mfb701e0852\" y=\"83.361221\"/>\n      </g>\n     </g>\n     <g id=\"text_11\">\n      <!-- 40 -->\n      <g transform=\"translate(20.878125 87.16044)scale(0.1 -0.1)\">\n       <use xlink:href=\"#DejaVuSans-52\"/>\n       <use x=\"63.623047\" xlink:href=\"#DejaVuSans-48\"/>\n      </g>\n     </g>\n    </g>\n    <g id=\"ytick_5\">\n     <g id=\"line2d_11\">\n      <g>\n       <use style=\"stroke:#000000;stroke-width:0.8;\" x=\"40.603125\" xlink:href=\"#mfb701e0852\" y=\"47.896701\"/>\n      </g>\n     </g>\n     <g id=\"text_12\">\n      <!-- 45 -->\n      <g transform=\"translate(20.878125 51.695919)scale(0.1 -0.1)\">\n       <use xlink:href=\"#DejaVuSans-52\"/>\n       <use x=\"63.623047\" xlink:href=\"#DejaVuSans-53\"/>\n      </g>\n     </g>\n    </g>\n    <g id=\"ytick_6\">\n     <g id=\"line2d_12\">\n      <g>\n       <use style=\"stroke:#000000;stroke-width:0.8;\" x=\"40.603125\" xlink:href=\"#mfb701e0852\" y=\"12.43218\"/>\n      </g>\n     </g>\n     <g id=\"text_13\">\n      <!-- 50 -->\n      <g transform=\"translate(20.878125 16.231398)scale(0.1 -0.1)\">\n       <use xlink:href=\"#DejaVuSans-53\"/>\n       <use x=\"63.623047\" xlink:href=\"#DejaVuSans-48\"/>\n      </g>\n     </g>\n    </g>\n    <g id=\"text_14\">\n     <!-- exactitud -->\n     <g transform=\"translate(14.798438 139.334062)rotate(-90)scale(0.1 -0.1)\">\n      <defs>\n       <path d=\"M 56.203125 29.59375 \nL 56.203125 25.203125 \nL 14.890625 25.203125 \nQ 15.484375 15.921875 20.484375 11.0625 \nQ 25.484375 6.203125 34.421875 6.203125 \nQ 39.59375 6.203125 44.453125 7.46875 \nQ 49.3125 8.734375 54.109375 11.28125 \nL 54.109375 2.78125 \nQ 49.265625 0.734375 44.1875 -0.34375 \nQ 39.109375 -1.421875 33.890625 -1.421875 \nQ 20.796875 -1.421875 13.15625 6.1875 \nQ 5.515625 13.8125 5.515625 26.8125 \nQ 5.515625 40.234375 12.765625 48.109375 \nQ 20.015625 56 32.328125 56 \nQ 43.359375 56 49.78125 48.890625 \nQ 56.203125 41.796875 56.203125 29.59375 \nz\nM 47.21875 32.234375 \nQ 47.125 39.59375 43.09375 43.984375 \nQ 39.0625 48.390625 32.421875 48.390625 \nQ 24.90625 48.390625 20.390625 44.140625 \nQ 15.875 39.890625 15.1875 32.171875 \nz\n\" id=\"DejaVuSans-101\"/>\n       <path d=\"M 54.890625 54.6875 \nL 35.109375 28.078125 \nL 55.90625 0 \nL 45.3125 0 \nL 29.390625 21.484375 \nL 13.484375 0 \nL 2.875 0 \nL 24.125 28.609375 \nL 4.6875 54.6875 \nL 15.28125 54.6875 \nL 29.78125 35.203125 \nL 44.28125 54.6875 \nz\n\" id=\"DejaVuSans-120\"/>\n       <path d=\"M 18.3125 70.21875 \nL 18.3125 54.6875 \nL 36.8125 54.6875 \nL 36.8125 47.703125 \nL 18.3125 47.703125 \nL 18.3125 18.015625 \nQ 18.3125 11.328125 20.140625 9.421875 \nQ 21.96875 7.515625 27.59375 7.515625 \nL 36.8125 7.515625 \nL 36.8125 0 \nL 27.59375 0 \nQ 17.1875 0 13.234375 3.875 \nQ 9.28125 7.765625 9.28125 18.015625 \nL 9.28125 47.703125 \nL 2.6875 47.703125 \nL 2.6875 54.6875 \nL 9.28125 54.6875 \nL 9.28125 70.21875 \nz\n\" id=\"DejaVuSans-116\"/>\n       <path d=\"M 9.421875 54.6875 \nL 18.40625 54.6875 \nL 18.40625 0 \nL 9.421875 0 \nz\nM 9.421875 75.984375 \nL 18.40625 75.984375 \nL 18.40625 64.59375 \nL 9.421875 64.59375 \nz\n\" id=\"DejaVuSans-105\"/>\n       <path d=\"M 8.5 21.578125 \nL 8.5 54.6875 \nL 17.484375 54.6875 \nL 17.484375 21.921875 \nQ 17.484375 14.15625 20.5 10.265625 \nQ 23.53125 6.390625 29.59375 6.390625 \nQ 36.859375 6.390625 41.078125 11.03125 \nQ 45.3125 15.671875 45.3125 23.6875 \nL 45.3125 54.6875 \nL 54.296875 54.6875 \nL 54.296875 0 \nL 45.3125 0 \nL 45.3125 8.40625 \nQ 42.046875 3.421875 37.71875 1 \nQ 33.40625 -1.421875 27.6875 -1.421875 \nQ 18.265625 -1.421875 13.375 4.4375 \nQ 8.5 10.296875 8.5 21.578125 \nz\nM 31.109375 56 \nz\n\" id=\"DejaVuSans-117\"/>\n       <path d=\"M 45.40625 46.390625 \nL 45.40625 75.984375 \nL 54.390625 75.984375 \nL 54.390625 0 \nL 45.40625 0 \nL 45.40625 8.203125 \nQ 42.578125 3.328125 38.25 0.953125 \nQ 33.9375 -1.421875 27.875 -1.421875 \nQ 17.96875 -1.421875 11.734375 6.484375 \nQ 5.515625 14.40625 5.515625 27.296875 \nQ 5.515625 40.1875 11.734375 48.09375 \nQ 17.96875 56 27.875 56 \nQ 33.9375 56 38.25 53.625 \nQ 42.578125 51.265625 45.40625 46.390625 \nz\nM 14.796875 27.296875 \nQ 14.796875 17.390625 18.875 11.75 \nQ 22.953125 6.109375 30.078125 6.109375 \nQ 37.203125 6.109375 41.296875 11.75 \nQ 45.40625 17.390625 45.40625 27.296875 \nQ 45.40625 37.203125 41.296875 42.84375 \nQ 37.203125 48.484375 30.078125 48.484375 \nQ 22.953125 48.484375 18.875 42.84375 \nQ 14.796875 37.203125 14.796875 27.296875 \nz\n\" id=\"DejaVuSans-100\"/>\n      </defs>\n      <use xlink:href=\"#DejaVuSans-101\"/>\n      <use x=\"59.773438\" xlink:href=\"#DejaVuSans-120\"/>\n      <use x=\"118.953125\" xlink:href=\"#DejaVuSans-97\"/>\n      <use x=\"180.232422\" xlink:href=\"#DejaVuSans-99\"/>\n      <use x=\"235.212891\" xlink:href=\"#DejaVuSans-116\"/>\n      <use x=\"274.421875\" xlink:href=\"#DejaVuSans-105\"/>\n      <use x=\"302.205078\" xlink:href=\"#DejaVuSans-116\"/>\n      <use x=\"341.414062\" xlink:href=\"#DejaVuSans-117\"/>\n      <use x=\"404.792969\" xlink:href=\"#DejaVuSans-100\"/>\n     </g>\n    </g>\n   </g>\n   <g id=\"line2d_13\">\n    <path clip-path=\"url(#p35562ec5c2)\" d=\"M 55.821307 214.756364 \nL 62.03281 166.327325 \nL 68.244312 136.716833 \nL 74.455815 129.76801 \nL 80.667318 122.025037 \nL 86.878821 113.842444 \nL 93.090324 107.815404 \nL 99.301826 105.234413 \nL 105.513329 98.356497 \nL 111.724832 97.874333 \nL 117.936335 91.946562 \nL 124.147837 89.280484 \nL 130.35934 84.88429 \nL 136.570843 83.806513 \nL 142.782346 74.957401 \nL 148.993849 74.957401 \nL 155.205351 73.241467 \nL 161.416854 63.598203 \nL 167.628357 58.223502 \nL 173.83986 55.543242 \nL 180.051362 53.62877 \nL 186.262865 51.104504 \nL 192.474368 47.757724 \nL 198.685871 43.36153 \nL 204.897374 42.000128 \nL 211.108876 42.90773 \nL 217.320379 37.703203 \nL 223.531882 34.852768 \nL 229.743385 34.625868 \nL 235.954888 33.392097 \nL 242.16639 35.150575 \nL 248.377893 33.902623 \nL 254.589396 31.959789 \nL 260.800899 33.902623 \nL 267.012401 27.053069 \nL 273.223904 27.464326 \nL 279.435407 31.179819 \nL 285.64691 30.002774 \nL 291.858413 24.117546 \nL 298.069915 23.365939 \nL 304.281418 24.883335 \nL 310.492921 22.2598 \nL 316.704424 25.252048 \nL 322.915926 21.621643 \nL 329.127429 21.02603 \nL 335.338932 23.465208 \nL 341.550435 18.45922 \nL 347.761938 19.395183 \nL 353.97344 17.083636 \nL 360.184943 19.310096 \n\" style=\"fill:none;stroke:#2ca02c;stroke-linecap:square;stroke-width:1.5;\"/>\n   </g>\n   <g id=\"line2d_14\">\n    <path clip-path=\"url(#p35562ec5c2)\" d=\"M 55.821307 212.274188 \nL 62.03281 165.535802 \nL 68.244312 139.900505 \nL 74.455815 133.456273 \nL 80.667318 127.36612 \nL 86.878821 116.460497 \nL 93.090324 113.273789 \nL 99.301826 106.900372 \nL 105.513329 102.79306 \nL 111.724832 101.660008 \nL 117.936335 94.436803 \nL 124.147837 92.737225 \nL 130.35934 87.709308 \nL 136.570843 86.50544 \nL 142.782346 78.36163 \nL 148.993849 80.910997 \nL 155.205351 76.449606 \nL 161.416854 67.668454 \nL 167.628357 62.994616 \nL 173.83986 62.569721 \nL 180.051362 55.488148 \nL 186.262865 53.080412 \nL 192.474368 53.222044 \nL 198.685871 49.397994 \nL 204.897374 46.777812 \nL 211.108876 50.531046 \nL 217.320379 45.432313 \nL 223.531882 43.024578 \nL 229.743385 42.528868 \nL 235.954888 42.882946 \nL 242.16639 45.361497 \nL 248.377893 41.254184 \nL 254.589396 40.616843 \nL 260.800899 40.82929 \nL 267.012401 35.801373 \nL 273.223904 34.526689 \nL 279.435407 40.33358 \nL 285.64691 39.979501 \nL 291.858413 33.393638 \nL 298.069915 30.985903 \nL 304.281418 32.048139 \nL 310.492921 29.357141 \nL 316.704424 35.0224 \nL 322.915926 29.215509 \nL 329.127429 27.87001 \nL 335.338932 32.260586 \nL 341.550435 26.595327 \nL 347.761938 27.586747 \nL 353.97344 25.957985 \nL 360.184943 29.003062 \n\" style=\"fill:none;stroke:#1f77b4;stroke-linecap:square;stroke-width:1.5;\"/>\n   </g>\n   <g id=\"patch_3\">\n    <path d=\"M 40.603125 224.64 \nL 40.603125 7.2 \n\" style=\"fill:none;stroke:#000000;stroke-linecap:square;stroke-linejoin:miter;stroke-width:0.8;\"/>\n   </g>\n   <g id=\"patch_4\">\n    <path d=\"M 375.403125 224.64 \nL 375.403125 7.2 \n\" style=\"fill:none;stroke:#000000;stroke-linecap:square;stroke-linejoin:miter;stroke-width:0.8;\"/>\n   </g>\n   <g id=\"patch_5\">\n    <path d=\"M 40.603125 224.64 \nL 375.403125 224.64 \n\" style=\"fill:none;stroke:#000000;stroke-linecap:square;stroke-linejoin:miter;stroke-width:0.8;\"/>\n   </g>\n   <g id=\"patch_6\">\n    <path d=\"M 40.603125 7.2 \nL 375.403125 7.2 \n\" style=\"fill:none;stroke:#000000;stroke-linecap:square;stroke-linejoin:miter;stroke-width:0.8;\"/>\n   </g>\n   <g id=\"legend_1\">\n    <g id=\"patch_7\">\n     <path d=\"M 301.90625 219.64 \nL 368.403125 219.64 \nQ 370.403125 219.64 370.403125 217.64 \nL 370.403125 189.28375 \nQ 370.403125 187.28375 368.403125 187.28375 \nL 301.90625 187.28375 \nQ 299.90625 187.28375 299.90625 189.28375 \nL 299.90625 217.64 \nQ 299.90625 219.64 301.90625 219.64 \nz\n\" style=\"fill:#ffffff;opacity:0.8;stroke:#cccccc;stroke-linejoin:miter;\"/>\n    </g>\n    <g id=\"line2d_15\">\n     <path d=\"M 303.90625 195.382187 \nL 323.90625 195.382187 \n\" style=\"fill:none;stroke:#2ca02c;stroke-linecap:square;stroke-width:1.5;\"/>\n    </g>\n    <g id=\"line2d_16\"/>\n    <g id=\"text_15\">\n     <!-- trn acc -->\n     <g transform=\"translate(331.90625 198.882187)scale(0.1 -0.1)\">\n      <defs>\n       <path d=\"M 41.109375 46.296875 \nQ 39.59375 47.171875 37.8125 47.578125 \nQ 36.03125 48 33.890625 48 \nQ 26.265625 48 22.1875 43.046875 \nQ 18.109375 38.09375 18.109375 28.8125 \nL 18.109375 0 \nL 9.078125 0 \nL 9.078125 54.6875 \nL 18.109375 54.6875 \nL 18.109375 46.1875 \nQ 20.953125 51.171875 25.484375 53.578125 \nQ 30.03125 56 36.53125 56 \nQ 37.453125 56 38.578125 55.875 \nQ 39.703125 55.765625 41.0625 55.515625 \nz\n\" id=\"DejaVuSans-114\"/>\n       <path d=\"M 54.890625 33.015625 \nL 54.890625 0 \nL 45.90625 0 \nL 45.90625 32.71875 \nQ 45.90625 40.484375 42.875 44.328125 \nQ 39.84375 48.1875 33.796875 48.1875 \nQ 26.515625 48.1875 22.3125 43.546875 \nQ 18.109375 38.921875 18.109375 30.90625 \nL 18.109375 0 \nL 9.078125 0 \nL 9.078125 54.6875 \nL 18.109375 54.6875 \nL 18.109375 46.1875 \nQ 21.34375 51.125 25.703125 53.5625 \nQ 30.078125 56 35.796875 56 \nQ 45.21875 56 50.046875 50.171875 \nQ 54.890625 44.34375 54.890625 33.015625 \nz\n\" id=\"DejaVuSans-110\"/>\n       <path id=\"DejaVuSans-32\"/>\n      </defs>\n      <use xlink:href=\"#DejaVuSans-116\"/>\n      <use x=\"39.208984\" xlink:href=\"#DejaVuSans-114\"/>\n      <use x=\"78.572266\" xlink:href=\"#DejaVuSans-110\"/>\n      <use x=\"141.951172\" xlink:href=\"#DejaVuSans-32\"/>\n      <use x=\"173.738281\" xlink:href=\"#DejaVuSans-97\"/>\n      <use x=\"235.017578\" xlink:href=\"#DejaVuSans-99\"/>\n      <use x=\"289.998047\" xlink:href=\"#DejaVuSans-99\"/>\n     </g>\n    </g>\n    <g id=\"line2d_17\">\n     <path d=\"M 303.90625 210.060312 \nL 323.90625 210.060312 \n\" style=\"fill:none;stroke:#1f77b4;stroke-linecap:square;stroke-width:1.5;\"/>\n    </g>\n    <g id=\"line2d_18\"/>\n    <g id=\"text_16\">\n     <!-- tst acc -->\n     <g transform=\"translate(331.90625 213.560312)scale(0.1 -0.1)\">\n      <defs>\n       <path d=\"M 44.28125 53.078125 \nL 44.28125 44.578125 \nQ 40.484375 46.53125 36.375 47.5 \nQ 32.28125 48.484375 27.875 48.484375 \nQ 21.1875 48.484375 17.84375 46.4375 \nQ 14.5 44.390625 14.5 40.28125 \nQ 14.5 37.15625 16.890625 35.375 \nQ 19.28125 33.59375 26.515625 31.984375 \nL 29.59375 31.296875 \nQ 39.15625 29.25 43.1875 25.515625 \nQ 47.21875 21.78125 47.21875 15.09375 \nQ 47.21875 7.46875 41.1875 3.015625 \nQ 35.15625 -1.421875 24.609375 -1.421875 \nQ 20.21875 -1.421875 15.453125 -0.5625 \nQ 10.6875 0.296875 5.421875 2 \nL 5.421875 11.28125 \nQ 10.40625 8.6875 15.234375 7.390625 \nQ 20.0625 6.109375 24.8125 6.109375 \nQ 31.15625 6.109375 34.5625 8.28125 \nQ 37.984375 10.453125 37.984375 14.40625 \nQ 37.984375 18.0625 35.515625 20.015625 \nQ 33.0625 21.96875 24.703125 23.78125 \nL 21.578125 24.515625 \nQ 13.234375 26.265625 9.515625 29.90625 \nQ 5.8125 33.546875 5.8125 39.890625 \nQ 5.8125 47.609375 11.28125 51.796875 \nQ 16.75 56 26.8125 56 \nQ 31.78125 56 36.171875 55.265625 \nQ 40.578125 54.546875 44.28125 53.078125 \nz\n\" id=\"DejaVuSans-115\"/>\n      </defs>\n      <use xlink:href=\"#DejaVuSans-116\"/>\n      <use x=\"39.208984\" xlink:href=\"#DejaVuSans-115\"/>\n      <use x=\"91.308594\" xlink:href=\"#DejaVuSans-116\"/>\n      <use x=\"130.517578\" xlink:href=\"#DejaVuSans-32\"/>\n      <use x=\"162.304688\" xlink:href=\"#DejaVuSans-97\"/>\n      <use x=\"223.583984\" xlink:href=\"#DejaVuSans-99\"/>\n      <use x=\"278.564453\" xlink:href=\"#DejaVuSans-99\"/>\n     </g>\n    </g>\n   </g>\n  </g>\n </g>\n <defs>\n  <clipPath id=\"p35562ec5c2\">\n   <rect height=\"217.44\" width=\"334.8\" x=\"40.603125\" y=\"7.2\"/>\n  </clipPath>\n </defs>\n</svg>\n",
      "image/png": "[encoded data removed]"
     },
     "metadata": {
      "needs_background": "light"
     }
    }
   ],
   "source": [
    "trn_acc, tst_acc = zip(*acc_hist)\n",
    "plt.plot(trn_acc, 'tab:green', label='trn acc')\n",
    "plt.plot(tst_acc, 'tab:blue', label='tst acc')\n",
    "plt.legend(loc='lower right')\n",
    "plt.xlabel('época')\n",
    "plt.ylabel('exactitud')\n",
    "plt.show()"
   ]
  },
  {
   "source": [
    "## Evaluación del Modelo"
   ],
   "cell_type": "markdown",
   "metadata": {}
  },
  {
   "cell_type": "code",
   "execution_count": 455,
   "metadata": {},
   "outputs": [
    {
     "output_type": "stream",
     "name": "stdout",
     "text": [
      "loss=[145.65,148.12] acc=[49.03,47.66]\n"
     ]
    }
   ],
   "source": [
    "# evaluamos en entrenamiento\n",
    "trn_loss, trn_acc = eval_epoch(trn_dl, model)\n",
    "# evaluamos en prueba\n",
    "tst_loss, tst_acc = eval_epoch(tst_dl, model)\n",
    "print(f'loss=[{trn_loss:6.2f},{tst_loss:6.2f}] '\n",
    "      f'acc=[{trn_acc:5.2f},{tst_acc:5.2f}]')"
   ]
  },
  {
   "cell_type": "code",
   "execution_count": 467,
   "metadata": {},
   "outputs": [],
   "source": [
    "with torch.no_grad(): \n",
    "    x, y_true = next(iter(tst_dl))\n",
    "    y_lgts = model(x)\n",
    "    y_prob = F.softmax(y_lgts, 1)\n",
    "    y_pred = torch.argmax(y_prob, 1)\n",
    "    titles = [f'V={t} P={p}' for t, p in zip(y_true, y_pred)]\n",
    "    #display_batch(x, titles, ROWS, COLS)"
   ]
  },
  {
   "cell_type": "code",
   "execution_count": 468,
   "metadata": {},
   "outputs": [
    {
     "output_type": "execute_result",
     "data": {
      "text/plain": [
       "['V=3 P=4',\n",
       " 'V=8 P=8',\n",
       " 'V=8 P=1',\n",
       " 'V=0 P=8',\n",
       " 'V=6 P=8',\n",
       " 'V=6 P=8',\n",
       " 'V=1 P=8',\n",
       " 'V=6 P=8',\n",
       " 'V=3 P=4',\n",
       " 'V=1 P=4',\n",
       " 'V=0 P=8',\n",
       " 'V=9 P=4',\n",
       " 'V=5 P=8',\n",
       " 'V=7 P=8',\n",
       " 'V=9 P=8',\n",
       " 'V=8 P=8',\n",
       " 'V=5 P=8',\n",
       " 'V=7 P=8',\n",
       " 'V=8 P=1',\n",
       " 'V=6 P=8',\n",
       " 'V=7 P=8',\n",
       " 'V=0 P=4',\n",
       " 'V=4 P=8',\n",
       " 'V=9 P=4',\n",
       " 'V=5 P=8',\n",
       " 'V=2 P=8',\n",
       " 'V=4 P=8',\n",
       " 'V=0 P=8',\n",
       " 'V=9 P=4',\n",
       " 'V=6 P=4',\n",
       " 'V=6 P=8',\n",
       " 'V=5 P=8']"
      ]
     },
     "metadata": {},
     "execution_count": 468
    }
   ],
   "source": [
    "titles"
   ]
  },
  {
   "cell_type": "code",
   "execution_count": null,
   "metadata": {},
   "outputs": [],
   "source": []
  }
 ],
 "metadata": {
  "kernelspec": {
   "display_name": "Python 3",
   "language": "python",
   "name": "python3"
  },
  "language_info": {
   "codemirror_mode": {
    "name": "ipython",
    "version": 3
   },
   "file_extension": ".py",
   "mimetype": "text/x-python",
   "name": "python",
   "nbconvert_exporter": "python",
   "pygments_lexer": "ipython3",
   "version": "3.8.8-final"
  }
 },
 "nbformat": 4,
 "nbformat_minor": 4
}